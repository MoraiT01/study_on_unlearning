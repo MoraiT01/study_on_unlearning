{
 "cells": [
  {
   "cell_type": "markdown",
   "metadata": {},
   "source": [
    "# Optimization of Noise Generator\n",
    "\n",
    "We want to find the right Hyperparameters for the Noise Generator.\n",
    "For the Optimization, we will use the `Optuna` Framework\n",
    "\n",
    "The correct Hyperparameters for the Noise will be found for:\n",
    "- `GeFeU`\n",
    "- `GEMU`\n",
    "- `Gradient Ascent`"
   ]
  },
  {
   "cell_type": "code",
   "execution_count": 1,
   "metadata": {},
   "outputs": [],
   "source": [
    "import optuna\n",
    "import torch\n",
    "import torch.nn as nn\n",
    "import torch.nn.functional as F\n",
    "from torch.utils.data import DataLoader\n",
    "import random\n",
    "\n",
    "import os\n",
    "import sys\n",
    "\n",
    "# Add the parent directory to sys.path\n",
    "sys.path.append(os.path.join('..', 'src'))\n",
    "\n",
    "import gefeu\n",
    "import gemu\n",
    "import mlp_dataclass\n",
    "import metrics\n",
    "from helper import load_models_dict"
   ]
  },
  {
   "cell_type": "markdown",
   "metadata": {},
   "source": [
    "___\n",
    "## GeFeU"
   ]
  },
  {
   "cell_type": "code",
   "execution_count": 2,
   "metadata": {},
   "outputs": [
    {
     "name": "stderr",
     "output_type": "stream",
     "text": [
      "[I 2025-01-23 12:46:11,438] Using an existing study with name 'GenOptiGeFeU' instead of creating a new one.\n"
     ]
    },
    {
     "name": "stdout",
     "output_type": "stream",
     "text": [
      "Using an existing study with name 'GenOptiGeFeU' instead of creating a new one.\n"
     ]
    }
   ],
   "source": [
    "import logging\n",
    "import sys\n",
    "import pickle\n",
    "import optuna\n",
    "import os\n",
    "\n",
    "# Add stream handler of stdout to show the messages\n",
    "optuna.logging.get_logger(\"optuna\").addHandler(logging.StreamHandler(sys.stdout))\n",
    "study1_name = \"GenOptiGeFeU\"  # Unique identifier of the study.\n",
    "storage1_name = \"sqlite:///{}.db\".format(\"HP_Opti\")\n",
    "\n",
    "if os.path.exists(\"sampler_gefeu.pkl\"):\n",
    "    restored1_sampler = pickle.load(open(\"sampler_gefeu.pkl\", \"rb\"))\n",
    "    study_gefeu = optuna.create_study(study_name=study1_name, storage=storage1_name, load_if_exists=True, sampler=restored1_sampler)\n",
    "else:\n",
    "    study_gefeu = optuna.create_study(study_name=study1_name, storage=storage1_name, load_if_exists=True)"
   ]
  },
  {
   "cell_type": "code",
   "execution_count": 3,
   "metadata": {},
   "outputs": [
    {
     "name": "stderr",
     "output_type": "stream",
     "text": [
      "[I 2025-01-23 12:48:03,791] Trial 109 finished with value: 1.7550261066315023 and parameters: {'opt_Epochs': 7, 'opt_Learning_Rate': 0.24720191092541471, 'opt_Batch_Size': 82, 'opt_N2R_Ratio': 8.381157087245017, 'opt_Regularization_term': 0.06173199902189664, 'opt_Noise_Dim': 130, 'opt_Impair_LR': 0.19023417732467884, 'opt_Repair_LR': 0.02054467096826751, 'n_layers': 4}. Best is trial 99 with value: 0.48107353245958373.\n"
     ]
    },
    {
     "name": "stdout",
     "output_type": "stream",
     "text": [
      "Trial 109 finished with value: 1.7550261066315023 and parameters: {'opt_Epochs': 7, 'opt_Learning_Rate': 0.24720191092541471, 'opt_Batch_Size': 82, 'opt_N2R_Ratio': 8.381157087245017, 'opt_Regularization_term': 0.06173199902189664, 'opt_Noise_Dim': 130, 'opt_Impair_LR': 0.19023417732467884, 'opt_Repair_LR': 0.02054467096826751, 'n_layers': 4}. Best is trial 99 with value: 0.48107353245958373.\n"
     ]
    }
   ],
   "source": [
    "def objective(trial):\n",
    "\n",
    "    opt_Epochs = trial.suggest_int('opt_Epochs', 1, 10)\n",
    "    opt_Learning_Rate = trial.suggest_float('opt_Learning_Rate', 0.01, 0.3)\n",
    "    opt_Batch_Size = trial.suggest_int('opt_Batch_Size', 32, 256)\n",
    "    opt_N2R_Ratio = trial.suggest_float('opt_N2R_Ratio', 0.01, 20)\n",
    "    opt_Regularization_term = trial.suggest_float('opt_Regularization_term', 0.01, 0.3)\n",
    "    opt_Noise_Dim = trial.suggest_int('opt_Noise_Dim', 1, 512)\n",
    "    opt_Impair_LR = trial.suggest_float('opt_Impair_LR', 0.01, 0.3)\n",
    "    opt_Repair_LR = trial.suggest_float('opt_Repair_LR', 0.01, 0.3)\n",
    "\n",
    "    n_layers = trial.suggest_int('n_layers', 1, 10)\n",
    "\n",
    "    Layers = [1024, 1024, 1024, 1024, 1024, 1024, 1024, 1024, 1024, 1024]\n",
    "    Layers = Layers[:n_layers]\n",
    "\n",
    "    random_int = random.randint(0, 29)\n",
    "    train = load_models_dict(path=\"../data/models/mnist/all/test_ensemble\")[random_int]\n",
    "    \n",
    "    unlearned = gefeu._main(\n",
    "        model=train,\n",
    "        dataset_name=\"mnist\",\n",
    "        t_Epochs = opt_Epochs,\n",
    "        t_Learning_Rate = opt_Learning_Rate,\n",
    "        t_Batch_Size = opt_Batch_Size,\n",
    "        t_N2R_Ratio= opt_N2R_Ratio,\n",
    "        t_Regularization_term = opt_Regularization_term,\n",
    "        t_Layers = Layers,\n",
    "        t_Noise_Dim = opt_Noise_Dim,\n",
    "        t_Impair_LR=opt_Impair_LR,\n",
    "        t_Repair_LR=opt_Repair_LR,\n",
    "        logs=False,\n",
    "        model_eval_logs=False,\n",
    "    )\n",
    "\n",
    "    valid_ds = mlp_dataclass.MNIST_CostumDataset(\n",
    "        sample_mode=\"all\",\n",
    "        train=True,\n",
    "        test=False,\n",
    "        balanced=False,\n",
    "        dataset_name=\"mnist\",\n",
    "        download=False,\n",
    "    )  \n",
    "    valid_dl = DataLoader(valid_ds, 256, shuffle=False)\n",
    "\n",
    "    random_int = random.randint(0, 29)\n",
    "    exact = load_models_dict(path=\"../data/models/mnist/except_erased/test_ensemble\")[random_int]\n",
    "    \n",
    "    div = metrics.kl_divergence_between_models(\n",
    "        model1 = exact,\n",
    "        model2 = unlearned,\n",
    "        data_loader = valid_dl,\n",
    "    )\n",
    "\n",
    "    return div\n",
    "\n",
    "study_gefeu.optimize(objective, n_trials=1)\n",
    "\n",
    "import pickle\n",
    "\n",
    "# Save the sampler with pickle to be loaded later.\n",
    "with open(\"sampler_gefeu.pkl\", \"wb\") as fout:\n",
    "    pickle.dump(study_gefeu.sampler, fout)"
   ]
  },
  {
   "cell_type": "code",
   "execution_count": 4,
   "metadata": {},
   "outputs": [],
   "source": [
    "u = load_models_dict(path=\"../data/models/mnist/all/test_ensemble\")[1]\n",
    "z = load_models_dict(path=\"../data/models/mnist/except_erased/test_ensemble\")[1]\n",
    "valid_ds = mlp_dataclass.MNIST_CostumDataset(\n",
    "        sample_mode=\"all\",\n",
    "        train=False,\n",
    "        test=True,\n",
    "        balanced=False,\n",
    "        dataset_name=\"mnist\",\n",
    "        download=False,\n",
    "    )  \n",
    "valid_dl = DataLoader(valid_ds, 56, shuffle=False)"
   ]
  },
  {
   "cell_type": "code",
   "execution_count": 5,
   "metadata": {},
   "outputs": [
    {
     "name": "stderr",
     "output_type": "stream",
     "text": [
      "                                                                    \r"
     ]
    },
    {
     "data": {
      "text/plain": [
       "0.04423580976598508"
      ]
     },
     "execution_count": 5,
     "metadata": {},
     "output_type": "execute_result"
    }
   ],
   "source": [
    "metrics.kl_divergence_between_models(z, u, valid_dl, device='cpu')"
   ]
  },
  {
   "cell_type": "markdown",
   "metadata": {},
   "source": [
    "## Standard Values"
   ]
  },
  {
   "cell_type": "code",
   "execution_count": 6,
   "metadata": {},
   "outputs": [
    {
     "name": "stdout",
     "output_type": "stream",
     "text": [
      "Baseline Performance\n",
      "Time: 0.10838794708251953\n",
      "Epoch: 1, Loss: 21.482921600341797\n",
      "Epoch: 2, Loss: -6.196435928344727\n",
      "Epoch: 3, Loss: -6.265256881713867\n",
      "Epoch: 4, Loss: -6.27152681350708\n",
      "Epoch: 5, Loss: -6.263731002807617\n",
      "Epoch: 6, Loss: -6.237681865692139\n",
      "Epoch: 7, Loss: -6.208515644073486\n",
      "Ending Noise Maximazation Phase\n",
      "Time: 69.6134819984436\n",
      "______\n",
      "Starting Impairing Phase\n",
      "Time: 69.7035300731659\n",
      "Train loss 1: 8.521982576479012\n",
      "Ending Impairing Phase\n",
      "Time: 103.49837398529053\n",
      "Train loss 1: 4.078282943926262\n",
      "Ending Repairing Phase\n",
      "Time: 112.76995205879211\n",
      "______\n"
     ]
    }
   ],
   "source": [
    "import gefeu\n",
    "\n",
    "standard_model_gefeu = gefeu._main(\n",
    "    model=u,\n",
    "    dataset_name=\"mnist\",\n",
    "    t_Epochs=study_gefeu.best_params[\"opt_Epochs\"],\n",
    "    t_Batch_Size=study_gefeu.best_params[\"opt_Batch_Size\"],\n",
    "    t_Learning_Rate=study_gefeu.best_params[\"opt_Learning_Rate\"],\n",
    "    t_N2R_Ratio=study_gefeu.best_params[\"opt_N2R_Ratio\"],\n",
    "    t_Regularization_term=study_gefeu.best_params[\"opt_Regularization_term\"],\n",
    "    t_Layers=[1024, 1024, 1024, 1024, 1024, 1024, 1024, 1024, 1024, 1024][:study_gefeu.best_params[\"n_layers\"]],\n",
    "    t_Noise_Dim=study_gefeu.best_params[\"opt_Noise_Dim\"],\n",
    "    t_Impair_LR=study_gefeu.best_params[\"opt_Impair_LR\"],\n",
    "    t_Repair_LR=study_gefeu.best_params[\"opt_Repair_LR\"],\n",
    "    logs=True,\n",
    "    model_eval_logs=False,\n",
    ")"
   ]
  },
  {
   "cell_type": "markdown",
   "metadata": {},
   "source": [
    "___\n",
    "## GEMU"
   ]
  },
  {
   "cell_type": "code",
   "execution_count": 7,
   "metadata": {},
   "outputs": [
    {
     "name": "stderr",
     "output_type": "stream",
     "text": [
      "[I 2025-01-23 12:50:07,317] A new study created in RDB with name: GenOptiGEMU\n"
     ]
    },
    {
     "name": "stdout",
     "output_type": "stream",
     "text": [
      "A new study created in RDB with name: GenOptiGEMU\n",
      "A new study created in RDB with name: GenOptiGEMU\n"
     ]
    }
   ],
   "source": [
    "import logging\n",
    "import sys\n",
    "import pickle\n",
    "import optuna\n",
    "import os\n",
    "\n",
    "\n",
    "# Add stream handler of stdout to show the messages\n",
    "optuna.logging.get_logger(\"optuna\").addHandler(logging.StreamHandler(sys.stdout))\n",
    "study2_name = \"GenOptiGEMU\"  # Unique identifier of the study.\n",
    "storage2_name = \"sqlite:///{}.db\".format(\"HP_Opti\")\n",
    "\n",
    "if os.path.exists(\"sampler_gemu.pkl\"):\n",
    "    restored2_sampler = pickle.load(open(\"sampler_gemu.pkl\", \"rb\"))\n",
    "    study_gemu = optuna.create_study(study_name=study2_name, storage=storage2_name, load_if_exists=True, sampler=restored2_sampler)\n",
    "else:\n",
    "    study_gemu = optuna.create_study(study_name=study2_name, storage=storage2_name, load_if_exists=True)"
   ]
  },
  {
   "cell_type": "code",
   "execution_count": 8,
   "metadata": {},
   "outputs": [
    {
     "name": "stderr",
     "output_type": "stream",
     "text": [
      "[I 2025-01-23 12:51:49,512] Trial 0 finished with value: 1.6851281084912881 and parameters: {'opt_Epochs': 3, 'opt_Learning_Rate': 0.28267545038269026, 'opt_Batch_Size': 154, 'opt_N2R_Ratio': 7.160401664730708, 'opt_Regularization_term': 0.15591929383665737, 'opt_Noise_Dim': 439, 'opt_Impair_LR': 0.2060646047983842, 'opt_Repair_LR': 0.0767537599106409, 'n_layers': 10}. Best is trial 0 with value: 1.6851281084912881.\n"
     ]
    },
    {
     "name": "stdout",
     "output_type": "stream",
     "text": [
      "Trial 0 finished with value: 1.6851281084912881 and parameters: {'opt_Epochs': 3, 'opt_Learning_Rate': 0.28267545038269026, 'opt_Batch_Size': 154, 'opt_N2R_Ratio': 7.160401664730708, 'opt_Regularization_term': 0.15591929383665737, 'opt_Noise_Dim': 439, 'opt_Impair_LR': 0.2060646047983842, 'opt_Repair_LR': 0.0767537599106409, 'n_layers': 10}. Best is trial 0 with value: 1.6851281084912881.\n",
      "Trial 0 finished with value: 1.6851281084912881 and parameters: {'opt_Epochs': 3, 'opt_Learning_Rate': 0.28267545038269026, 'opt_Batch_Size': 154, 'opt_N2R_Ratio': 7.160401664730708, 'opt_Regularization_term': 0.15591929383665737, 'opt_Noise_Dim': 439, 'opt_Impair_LR': 0.2060646047983842, 'opt_Repair_LR': 0.0767537599106409, 'n_layers': 10}. Best is trial 0 with value: 1.6851281084912881.\n"
     ]
    },
    {
     "name": "stderr",
     "output_type": "stream",
     "text": [
      "[I 2025-01-23 12:55:20,738] Trial 1 finished with value: 1.7586434521573653 and parameters: {'opt_Epochs': 7, 'opt_Learning_Rate': 0.18381519850352634, 'opt_Batch_Size': 115, 'opt_N2R_Ratio': 15.890273152000393, 'opt_Regularization_term': 0.1971893482376725, 'opt_Noise_Dim': 221, 'opt_Impair_LR': 0.27007237005678203, 'opt_Repair_LR': 0.19835721749113414, 'n_layers': 2}. Best is trial 0 with value: 1.6851281084912881.\n"
     ]
    },
    {
     "name": "stdout",
     "output_type": "stream",
     "text": [
      "Trial 1 finished with value: 1.7586434521573653 and parameters: {'opt_Epochs': 7, 'opt_Learning_Rate': 0.18381519850352634, 'opt_Batch_Size': 115, 'opt_N2R_Ratio': 15.890273152000393, 'opt_Regularization_term': 0.1971893482376725, 'opt_Noise_Dim': 221, 'opt_Impair_LR': 0.27007237005678203, 'opt_Repair_LR': 0.19835721749113414, 'n_layers': 2}. Best is trial 0 with value: 1.6851281084912881.\n",
      "Trial 1 finished with value: 1.7586434521573653 and parameters: {'opt_Epochs': 7, 'opt_Learning_Rate': 0.18381519850352634, 'opt_Batch_Size': 115, 'opt_N2R_Ratio': 15.890273152000393, 'opt_Regularization_term': 0.1971893482376725, 'opt_Noise_Dim': 221, 'opt_Impair_LR': 0.27007237005678203, 'opt_Repair_LR': 0.19835721749113414, 'n_layers': 2}. Best is trial 0 with value: 1.6851281084912881.\n"
     ]
    },
    {
     "name": "stderr",
     "output_type": "stream",
     "text": [
      "[I 2025-01-23 12:57:00,213] Trial 2 finished with value: 1.705736121725528 and parameters: {'opt_Epochs': 1, 'opt_Learning_Rate': 0.1412013496570691, 'opt_Batch_Size': 41, 'opt_N2R_Ratio': 11.974100708928859, 'opt_Regularization_term': 0.04124307848727003, 'opt_Noise_Dim': 366, 'opt_Impair_LR': 0.24790768578222638, 'opt_Repair_LR': 0.25678056511618547, 'n_layers': 2}. Best is trial 0 with value: 1.6851281084912881.\n"
     ]
    },
    {
     "name": "stdout",
     "output_type": "stream",
     "text": [
      "Trial 2 finished with value: 1.705736121725528 and parameters: {'opt_Epochs': 1, 'opt_Learning_Rate': 0.1412013496570691, 'opt_Batch_Size': 41, 'opt_N2R_Ratio': 11.974100708928859, 'opt_Regularization_term': 0.04124307848727003, 'opt_Noise_Dim': 366, 'opt_Impair_LR': 0.24790768578222638, 'opt_Repair_LR': 0.25678056511618547, 'n_layers': 2}. Best is trial 0 with value: 1.6851281084912881.\n",
      "Trial 2 finished with value: 1.705736121725528 and parameters: {'opt_Epochs': 1, 'opt_Learning_Rate': 0.1412013496570691, 'opt_Batch_Size': 41, 'opt_N2R_Ratio': 11.974100708928859, 'opt_Regularization_term': 0.04124307848727003, 'opt_Noise_Dim': 366, 'opt_Impair_LR': 0.24790768578222638, 'opt_Repair_LR': 0.25678056511618547, 'n_layers': 2}. Best is trial 0 with value: 1.6851281084912881.\n"
     ]
    },
    {
     "name": "stderr",
     "output_type": "stream",
     "text": [
      "[I 2025-01-23 13:00:09,850] Trial 3 finished with value: 1.7136693853013045 and parameters: {'opt_Epochs': 8, 'opt_Learning_Rate': 0.023163299543752333, 'opt_Batch_Size': 123, 'opt_N2R_Ratio': 8.058256227844941, 'opt_Regularization_term': 0.2512288888844553, 'opt_Noise_Dim': 331, 'opt_Impair_LR': 0.2324731061834248, 'opt_Repair_LR': 0.2407258737988324, 'n_layers': 10}. Best is trial 0 with value: 1.6851281084912881.\n"
     ]
    },
    {
     "name": "stdout",
     "output_type": "stream",
     "text": [
      "Trial 3 finished with value: 1.7136693853013045 and parameters: {'opt_Epochs': 8, 'opt_Learning_Rate': 0.023163299543752333, 'opt_Batch_Size': 123, 'opt_N2R_Ratio': 8.058256227844941, 'opt_Regularization_term': 0.2512288888844553, 'opt_Noise_Dim': 331, 'opt_Impair_LR': 0.2324731061834248, 'opt_Repair_LR': 0.2407258737988324, 'n_layers': 10}. Best is trial 0 with value: 1.6851281084912881.\n",
      "Trial 3 finished with value: 1.7136693853013045 and parameters: {'opt_Epochs': 8, 'opt_Learning_Rate': 0.023163299543752333, 'opt_Batch_Size': 123, 'opt_N2R_Ratio': 8.058256227844941, 'opt_Regularization_term': 0.2512288888844553, 'opt_Noise_Dim': 331, 'opt_Impair_LR': 0.2324731061834248, 'opt_Repair_LR': 0.2407258737988324, 'n_layers': 10}. Best is trial 0 with value: 1.6851281084912881.\n"
     ]
    },
    {
     "name": "stderr",
     "output_type": "stream",
     "text": [
      "[I 2025-01-23 13:04:43,227] Trial 4 finished with value: 1.5702820752529398 and parameters: {'opt_Epochs': 9, 'opt_Learning_Rate': 0.13774198134154456, 'opt_Batch_Size': 119, 'opt_N2R_Ratio': 16.7301377135754, 'opt_Regularization_term': 0.10907360949321189, 'opt_Noise_Dim': 264, 'opt_Impair_LR': 0.19263437983653484, 'opt_Repair_LR': 0.06924033146626134, 'n_layers': 8}. Best is trial 4 with value: 1.5702820752529398.\n"
     ]
    },
    {
     "name": "stdout",
     "output_type": "stream",
     "text": [
      "Trial 4 finished with value: 1.5702820752529398 and parameters: {'opt_Epochs': 9, 'opt_Learning_Rate': 0.13774198134154456, 'opt_Batch_Size': 119, 'opt_N2R_Ratio': 16.7301377135754, 'opt_Regularization_term': 0.10907360949321189, 'opt_Noise_Dim': 264, 'opt_Impair_LR': 0.19263437983653484, 'opt_Repair_LR': 0.06924033146626134, 'n_layers': 8}. Best is trial 4 with value: 1.5702820752529398.\n",
      "Trial 4 finished with value: 1.5702820752529398 and parameters: {'opt_Epochs': 9, 'opt_Learning_Rate': 0.13774198134154456, 'opt_Batch_Size': 119, 'opt_N2R_Ratio': 16.7301377135754, 'opt_Regularization_term': 0.10907360949321189, 'opt_Noise_Dim': 264, 'opt_Impair_LR': 0.19263437983653484, 'opt_Repair_LR': 0.06924033146626134, 'n_layers': 8}. Best is trial 4 with value: 1.5702820752529398.\n"
     ]
    },
    {
     "name": "stderr",
     "output_type": "stream",
     "text": [
      "[I 2025-01-23 13:08:54,935] Trial 5 finished with value: 1.717399966970403 and parameters: {'opt_Epochs': 8, 'opt_Learning_Rate': 0.29406327754237066, 'opt_Batch_Size': 98, 'opt_N2R_Ratio': 18.397980135955954, 'opt_Regularization_term': 0.2646903786536744, 'opt_Noise_Dim': 232, 'opt_Impair_LR': 0.1944368801720638, 'opt_Repair_LR': 0.031332245838425504, 'n_layers': 4}. Best is trial 4 with value: 1.5702820752529398.\n"
     ]
    },
    {
     "name": "stdout",
     "output_type": "stream",
     "text": [
      "Trial 5 finished with value: 1.717399966970403 and parameters: {'opt_Epochs': 8, 'opt_Learning_Rate': 0.29406327754237066, 'opt_Batch_Size': 98, 'opt_N2R_Ratio': 18.397980135955954, 'opt_Regularization_term': 0.2646903786536744, 'opt_Noise_Dim': 232, 'opt_Impair_LR': 0.1944368801720638, 'opt_Repair_LR': 0.031332245838425504, 'n_layers': 4}. Best is trial 4 with value: 1.5702820752529398.\n",
      "Trial 5 finished with value: 1.717399966970403 and parameters: {'opt_Epochs': 8, 'opt_Learning_Rate': 0.29406327754237066, 'opt_Batch_Size': 98, 'opt_N2R_Ratio': 18.397980135955954, 'opt_Regularization_term': 0.2646903786536744, 'opt_Noise_Dim': 232, 'opt_Impair_LR': 0.1944368801720638, 'opt_Repair_LR': 0.031332245838425504, 'n_layers': 4}. Best is trial 4 with value: 1.5702820752529398.\n"
     ]
    },
    {
     "name": "stderr",
     "output_type": "stream",
     "text": [
      "[I 2025-01-23 13:11:15,365] Trial 6 finished with value: 1.3676055165047336 and parameters: {'opt_Epochs': 10, 'opt_Learning_Rate': 0.17846081305489322, 'opt_Batch_Size': 111, 'opt_N2R_Ratio': 8.661061918381083, 'opt_Regularization_term': 0.12807203503967826, 'opt_Noise_Dim': 359, 'opt_Impair_LR': 0.07205980783723061, 'opt_Repair_LR': 0.13858807788019578, 'n_layers': 2}. Best is trial 6 with value: 1.3676055165047336.\n"
     ]
    },
    {
     "name": "stdout",
     "output_type": "stream",
     "text": [
      "Trial 6 finished with value: 1.3676055165047336 and parameters: {'opt_Epochs': 10, 'opt_Learning_Rate': 0.17846081305489322, 'opt_Batch_Size': 111, 'opt_N2R_Ratio': 8.661061918381083, 'opt_Regularization_term': 0.12807203503967826, 'opt_Noise_Dim': 359, 'opt_Impair_LR': 0.07205980783723061, 'opt_Repair_LR': 0.13858807788019578, 'n_layers': 2}. Best is trial 6 with value: 1.3676055165047336.\n",
      "Trial 6 finished with value: 1.3676055165047336 and parameters: {'opt_Epochs': 10, 'opt_Learning_Rate': 0.17846081305489322, 'opt_Batch_Size': 111, 'opt_N2R_Ratio': 8.661061918381083, 'opt_Regularization_term': 0.12807203503967826, 'opt_Noise_Dim': 359, 'opt_Impair_LR': 0.07205980783723061, 'opt_Repair_LR': 0.13858807788019578, 'n_layers': 2}. Best is trial 6 with value: 1.3676055165047336.\n"
     ]
    },
    {
     "name": "stderr",
     "output_type": "stream",
     "text": [
      "[I 2025-01-23 13:13:02,521] Trial 7 finished with value: 1.7033572516542799 and parameters: {'opt_Epochs': 10, 'opt_Learning_Rate': 0.07419702040226474, 'opt_Batch_Size': 59, 'opt_N2R_Ratio': 2.8961945670175524, 'opt_Regularization_term': 0.07501038199203547, 'opt_Noise_Dim': 144, 'opt_Impair_LR': 0.026064892169882593, 'opt_Repair_LR': 0.2468747741656334, 'n_layers': 3}. Best is trial 6 with value: 1.3676055165047336.\n"
     ]
    },
    {
     "name": "stdout",
     "output_type": "stream",
     "text": [
      "Trial 7 finished with value: 1.7033572516542799 and parameters: {'opt_Epochs': 10, 'opt_Learning_Rate': 0.07419702040226474, 'opt_Batch_Size': 59, 'opt_N2R_Ratio': 2.8961945670175524, 'opt_Regularization_term': 0.07501038199203547, 'opt_Noise_Dim': 144, 'opt_Impair_LR': 0.026064892169882593, 'opt_Repair_LR': 0.2468747741656334, 'n_layers': 3}. Best is trial 6 with value: 1.3676055165047336.\n",
      "Trial 7 finished with value: 1.7033572516542799 and parameters: {'opt_Epochs': 10, 'opt_Learning_Rate': 0.07419702040226474, 'opt_Batch_Size': 59, 'opt_N2R_Ratio': 2.8961945670175524, 'opt_Regularization_term': 0.07501038199203547, 'opt_Noise_Dim': 144, 'opt_Impair_LR': 0.026064892169882593, 'opt_Repair_LR': 0.2468747741656334, 'n_layers': 3}. Best is trial 6 with value: 1.3676055165047336.\n"
     ]
    },
    {
     "name": "stderr",
     "output_type": "stream",
     "text": [
      "[I 2025-01-23 13:16:23,990] Trial 8 finished with value: 1.732306231336391 and parameters: {'opt_Epochs': 10, 'opt_Learning_Rate': 0.27544244090480313, 'opt_Batch_Size': 200, 'opt_N2R_Ratio': 7.990178623110455, 'opt_Regularization_term': 0.19819610852880787, 'opt_Noise_Dim': 3, 'opt_Impair_LR': 0.18847038350926135, 'opt_Repair_LR': 0.11033417756326841, 'n_layers': 7}. Best is trial 6 with value: 1.3676055165047336.\n"
     ]
    },
    {
     "name": "stdout",
     "output_type": "stream",
     "text": [
      "Trial 8 finished with value: 1.732306231336391 and parameters: {'opt_Epochs': 10, 'opt_Learning_Rate': 0.27544244090480313, 'opt_Batch_Size': 200, 'opt_N2R_Ratio': 7.990178623110455, 'opt_Regularization_term': 0.19819610852880787, 'opt_Noise_Dim': 3, 'opt_Impair_LR': 0.18847038350926135, 'opt_Repair_LR': 0.11033417756326841, 'n_layers': 7}. Best is trial 6 with value: 1.3676055165047336.\n",
      "Trial 8 finished with value: 1.732306231336391 and parameters: {'opt_Epochs': 10, 'opt_Learning_Rate': 0.27544244090480313, 'opt_Batch_Size': 200, 'opt_N2R_Ratio': 7.990178623110455, 'opt_Regularization_term': 0.19819610852880787, 'opt_Noise_Dim': 3, 'opt_Impair_LR': 0.18847038350926135, 'opt_Repair_LR': 0.11033417756326841, 'n_layers': 7}. Best is trial 6 with value: 1.3676055165047336.\n"
     ]
    },
    {
     "name": "stderr",
     "output_type": "stream",
     "text": [
      "[I 2025-01-23 13:17:55,989] Trial 9 finished with value: 1.7304583224844434 and parameters: {'opt_Epochs': 1, 'opt_Learning_Rate': 0.25402061742051824, 'opt_Batch_Size': 129, 'opt_N2R_Ratio': 10.093166417743657, 'opt_Regularization_term': 0.018954848265730906, 'opt_Noise_Dim': 475, 'opt_Impair_LR': 0.23005577007074632, 'opt_Repair_LR': 0.06530418996171578, 'n_layers': 7}. Best is trial 6 with value: 1.3676055165047336.\n"
     ]
    },
    {
     "name": "stdout",
     "output_type": "stream",
     "text": [
      "Trial 9 finished with value: 1.7304583224844434 and parameters: {'opt_Epochs': 1, 'opt_Learning_Rate': 0.25402061742051824, 'opt_Batch_Size': 129, 'opt_N2R_Ratio': 10.093166417743657, 'opt_Regularization_term': 0.018954848265730906, 'opt_Noise_Dim': 475, 'opt_Impair_LR': 0.23005577007074632, 'opt_Repair_LR': 0.06530418996171578, 'n_layers': 7}. Best is trial 6 with value: 1.3676055165047336.\n",
      "Trial 9 finished with value: 1.7304583224844434 and parameters: {'opt_Epochs': 1, 'opt_Learning_Rate': 0.25402061742051824, 'opt_Batch_Size': 129, 'opt_N2R_Ratio': 10.093166417743657, 'opt_Regularization_term': 0.018954848265730906, 'opt_Noise_Dim': 475, 'opt_Impair_LR': 0.23005577007074632, 'opt_Repair_LR': 0.06530418996171578, 'n_layers': 7}. Best is trial 6 with value: 1.3676055165047336.\n"
     ]
    },
    {
     "name": "stderr",
     "output_type": "stream",
     "text": [
      "[I 2025-01-23 13:18:22,332] Trial 10 finished with value: 1.7166154988268585 and parameters: {'opt_Epochs': 5, 'opt_Learning_Rate': 0.2101907574857996, 'opt_Batch_Size': 254, 'opt_N2R_Ratio': 0.04087653732401009, 'opt_Regularization_term': 0.1297826927757325, 'opt_Noise_Dim': 68, 'opt_Impair_LR': 0.08717288868072845, 'opt_Repair_LR': 0.163287768109141, 'n_layers': 1}. Best is trial 6 with value: 1.3676055165047336.\n"
     ]
    },
    {
     "name": "stdout",
     "output_type": "stream",
     "text": [
      "Trial 10 finished with value: 1.7166154988268585 and parameters: {'opt_Epochs': 5, 'opt_Learning_Rate': 0.2101907574857996, 'opt_Batch_Size': 254, 'opt_N2R_Ratio': 0.04087653732401009, 'opt_Regularization_term': 0.1297826927757325, 'opt_Noise_Dim': 68, 'opt_Impair_LR': 0.08717288868072845, 'opt_Repair_LR': 0.163287768109141, 'n_layers': 1}. Best is trial 6 with value: 1.3676055165047336.\n",
      "Trial 10 finished with value: 1.7166154988268585 and parameters: {'opt_Epochs': 5, 'opt_Learning_Rate': 0.2101907574857996, 'opt_Batch_Size': 254, 'opt_N2R_Ratio': 0.04087653732401009, 'opt_Regularization_term': 0.1297826927757325, 'opt_Noise_Dim': 68, 'opt_Impair_LR': 0.08717288868072845, 'opt_Repair_LR': 0.163287768109141, 'n_layers': 1}. Best is trial 6 with value: 1.3676055165047336.\n"
     ]
    },
    {
     "name": "stderr",
     "output_type": "stream",
     "text": [
      "[I 2025-01-23 13:22:11,455] Trial 11 finished with value: 1.438899261139809 and parameters: {'opt_Epochs': 10, 'opt_Learning_Rate': 0.12769309017758562, 'opt_Batch_Size': 183, 'opt_N2R_Ratio': 13.71307721335228, 'opt_Regularization_term': 0.1028502095254518, 'opt_Noise_Dim': 318, 'opt_Impair_LR': 0.11763011013655351, 'opt_Repair_LR': 0.12314254671258067, 'n_layers': 6}. Best is trial 6 with value: 1.3676055165047336.\n"
     ]
    },
    {
     "name": "stdout",
     "output_type": "stream",
     "text": [
      "Trial 11 finished with value: 1.438899261139809 and parameters: {'opt_Epochs': 10, 'opt_Learning_Rate': 0.12769309017758562, 'opt_Batch_Size': 183, 'opt_N2R_Ratio': 13.71307721335228, 'opt_Regularization_term': 0.1028502095254518, 'opt_Noise_Dim': 318, 'opt_Impair_LR': 0.11763011013655351, 'opt_Repair_LR': 0.12314254671258067, 'n_layers': 6}. Best is trial 6 with value: 1.3676055165047336.\n",
      "Trial 11 finished with value: 1.438899261139809 and parameters: {'opt_Epochs': 10, 'opt_Learning_Rate': 0.12769309017758562, 'opt_Batch_Size': 183, 'opt_N2R_Ratio': 13.71307721335228, 'opt_Regularization_term': 0.1028502095254518, 'opt_Noise_Dim': 318, 'opt_Impair_LR': 0.11763011013655351, 'opt_Repair_LR': 0.12314254671258067, 'n_layers': 6}. Best is trial 6 with value: 1.3676055165047336.\n"
     ]
    },
    {
     "name": "stderr",
     "output_type": "stream",
     "text": [
      "[I 2025-01-23 13:25:41,387] Trial 12 finished with value: 1.568628552112173 and parameters: {'opt_Epochs': 6, 'opt_Learning_Rate': 0.10083582403299848, 'opt_Batch_Size': 186, 'opt_N2R_Ratio': 12.94384086466372, 'opt_Regularization_term': 0.08251789375492712, 'opt_Noise_Dim': 354, 'opt_Impair_LR': 0.1119134219410513, 'opt_Repair_LR': 0.13406884763917176, 'n_layers': 5}. Best is trial 6 with value: 1.3676055165047336.\n"
     ]
    },
    {
     "name": "stdout",
     "output_type": "stream",
     "text": [
      "Trial 12 finished with value: 1.568628552112173 and parameters: {'opt_Epochs': 6, 'opt_Learning_Rate': 0.10083582403299848, 'opt_Batch_Size': 186, 'opt_N2R_Ratio': 12.94384086466372, 'opt_Regularization_term': 0.08251789375492712, 'opt_Noise_Dim': 354, 'opt_Impair_LR': 0.1119134219410513, 'opt_Repair_LR': 0.13406884763917176, 'n_layers': 5}. Best is trial 6 with value: 1.3676055165047336.\n",
      "Trial 12 finished with value: 1.568628552112173 and parameters: {'opt_Epochs': 6, 'opt_Learning_Rate': 0.10083582403299848, 'opt_Batch_Size': 186, 'opt_N2R_Ratio': 12.94384086466372, 'opt_Regularization_term': 0.08251789375492712, 'opt_Noise_Dim': 354, 'opt_Impair_LR': 0.1119134219410513, 'opt_Repair_LR': 0.13406884763917176, 'n_layers': 5}. Best is trial 6 with value: 1.3676055165047336.\n"
     ]
    },
    {
     "name": "stderr",
     "output_type": "stream",
     "text": [
      "[I 2025-01-23 13:29:08,900] Trial 13 finished with value: 1.7210671927066554 and parameters: {'opt_Epochs': 10, 'opt_Learning_Rate': 0.2171073313088187, 'opt_Batch_Size': 175, 'opt_N2R_Ratio': 13.674689033763656, 'opt_Regularization_term': 0.16197640578268233, 'opt_Noise_Dim': 406, 'opt_Impair_LR': 0.10499012946433231, 'opt_Repair_LR': 0.1895825503162049, 'n_layers': 5}. Best is trial 6 with value: 1.3676055165047336.\n"
     ]
    },
    {
     "name": "stdout",
     "output_type": "stream",
     "text": [
      "Trial 13 finished with value: 1.7210671927066554 and parameters: {'opt_Epochs': 10, 'opt_Learning_Rate': 0.2171073313088187, 'opt_Batch_Size': 175, 'opt_N2R_Ratio': 13.674689033763656, 'opt_Regularization_term': 0.16197640578268233, 'opt_Noise_Dim': 406, 'opt_Impair_LR': 0.10499012946433231, 'opt_Repair_LR': 0.1895825503162049, 'n_layers': 5}. Best is trial 6 with value: 1.3676055165047336.\n",
      "Trial 13 finished with value: 1.7210671927066554 and parameters: {'opt_Epochs': 10, 'opt_Learning_Rate': 0.2171073313088187, 'opt_Batch_Size': 175, 'opt_N2R_Ratio': 13.674689033763656, 'opt_Regularization_term': 0.16197640578268233, 'opt_Noise_Dim': 406, 'opt_Impair_LR': 0.10499012946433231, 'opt_Repair_LR': 0.1895825503162049, 'n_layers': 5}. Best is trial 6 with value: 1.3676055165047336.\n"
     ]
    },
    {
     "name": "stderr",
     "output_type": "stream",
     "text": [
      "[I 2025-01-23 13:30:47,347] Trial 14 finished with value: 1.729437295933987 and parameters: {'opt_Epochs': 5, 'opt_Learning_Rate': 0.10505998092928188, 'opt_Batch_Size': 232, 'opt_N2R_Ratio': 5.509519512945693, 'opt_Regularization_term': 0.07564044946087094, 'opt_Noise_Dim': 508, 'opt_Impair_LR': 0.02565641139703384, 'opt_Repair_LR': 0.11548617726572513, 'n_layers': 6}. Best is trial 6 with value: 1.3676055165047336.\n"
     ]
    },
    {
     "name": "stdout",
     "output_type": "stream",
     "text": [
      "Trial 14 finished with value: 1.729437295933987 and parameters: {'opt_Epochs': 5, 'opt_Learning_Rate': 0.10505998092928188, 'opt_Batch_Size': 232, 'opt_N2R_Ratio': 5.509519512945693, 'opt_Regularization_term': 0.07564044946087094, 'opt_Noise_Dim': 508, 'opt_Impair_LR': 0.02565641139703384, 'opt_Repair_LR': 0.11548617726572513, 'n_layers': 6}. Best is trial 6 with value: 1.3676055165047336.\n",
      "Trial 14 finished with value: 1.729437295933987 and parameters: {'opt_Epochs': 5, 'opt_Learning_Rate': 0.10505998092928188, 'opt_Batch_Size': 232, 'opt_N2R_Ratio': 5.509519512945693, 'opt_Regularization_term': 0.07564044946087094, 'opt_Noise_Dim': 508, 'opt_Impair_LR': 0.02565641139703384, 'opt_Repair_LR': 0.11548617726572513, 'n_layers': 6}. Best is trial 6 with value: 1.3676055165047336.\n"
     ]
    },
    {
     "name": "stderr",
     "output_type": "stream",
     "text": [
      "[I 2025-01-23 13:33:44,943] Trial 15 finished with value: 1.6070170093089975 and parameters: {'opt_Epochs': 8, 'opt_Learning_Rate': 0.18663059728477693, 'opt_Batch_Size': 81, 'opt_N2R_Ratio': 10.992309529257122, 'opt_Regularization_term': 0.19307880347187759, 'opt_Noise_Dim': 296, 'opt_Impair_LR': 0.06531120443191656, 'opt_Repair_LR': 0.1542920341072281, 'n_layers': 4}. Best is trial 6 with value: 1.3676055165047336.\n"
     ]
    },
    {
     "name": "stdout",
     "output_type": "stream",
     "text": [
      "Trial 15 finished with value: 1.6070170093089975 and parameters: {'opt_Epochs': 8, 'opt_Learning_Rate': 0.18663059728477693, 'opt_Batch_Size': 81, 'opt_N2R_Ratio': 10.992309529257122, 'opt_Regularization_term': 0.19307880347187759, 'opt_Noise_Dim': 296, 'opt_Impair_LR': 0.06531120443191656, 'opt_Repair_LR': 0.1542920341072281, 'n_layers': 4}. Best is trial 6 with value: 1.3676055165047336.\n",
      "Trial 15 finished with value: 1.6070170093089975 and parameters: {'opt_Epochs': 8, 'opt_Learning_Rate': 0.18663059728477693, 'opt_Batch_Size': 81, 'opt_N2R_Ratio': 10.992309529257122, 'opt_Regularization_term': 0.19307880347187759, 'opt_Noise_Dim': 296, 'opt_Impair_LR': 0.06531120443191656, 'opt_Repair_LR': 0.1542920341072281, 'n_layers': 4}. Best is trial 6 with value: 1.3676055165047336.\n"
     ]
    },
    {
     "name": "stderr",
     "output_type": "stream",
     "text": [
      "[I 2025-01-23 13:38:46,166] Trial 16 finished with value: 1.7385391884661743 and parameters: {'opt_Epochs': 9, 'opt_Learning_Rate': 0.052013706402299326, 'opt_Batch_Size': 216, 'opt_N2R_Ratio': 19.98302822114435, 'opt_Regularization_term': 0.1198957728468303, 'opt_Noise_Dim': 178, 'opt_Impair_LR': 0.14989209933853634, 'opt_Repair_LR': 0.20149778867369372, 'n_layers': 8}. Best is trial 6 with value: 1.3676055165047336.\n"
     ]
    },
    {
     "name": "stdout",
     "output_type": "stream",
     "text": [
      "Trial 16 finished with value: 1.7385391884661743 and parameters: {'opt_Epochs': 9, 'opt_Learning_Rate': 0.052013706402299326, 'opt_Batch_Size': 216, 'opt_N2R_Ratio': 19.98302822114435, 'opt_Regularization_term': 0.1198957728468303, 'opt_Noise_Dim': 178, 'opt_Impair_LR': 0.14989209933853634, 'opt_Repair_LR': 0.20149778867369372, 'n_layers': 8}. Best is trial 6 with value: 1.3676055165047336.\n",
      "Trial 16 finished with value: 1.7385391884661743 and parameters: {'opt_Epochs': 9, 'opt_Learning_Rate': 0.052013706402299326, 'opt_Batch_Size': 216, 'opt_N2R_Ratio': 19.98302822114435, 'opt_Regularization_term': 0.1198957728468303, 'opt_Noise_Dim': 178, 'opt_Impair_LR': 0.14989209933853634, 'opt_Repair_LR': 0.20149778867369372, 'n_layers': 8}. Best is trial 6 with value: 1.3676055165047336.\n"
     ]
    },
    {
     "name": "stderr",
     "output_type": "stream",
     "text": [
      "[I 2025-01-23 13:40:12,168] Trial 17 finished with value: 1.7329025349718457 and parameters: {'opt_Epochs': 3, 'opt_Learning_Rate': 0.16951646294681283, 'opt_Batch_Size': 156, 'opt_N2R_Ratio': 14.638736653515815, 'opt_Regularization_term': 0.047017610436294696, 'opt_Noise_Dim': 407, 'opt_Impair_LR': 0.14154397791014803, 'opt_Repair_LR': 0.09975334528979032, 'n_layers': 1}. Best is trial 6 with value: 1.3676055165047336.\n"
     ]
    },
    {
     "name": "stdout",
     "output_type": "stream",
     "text": [
      "Trial 17 finished with value: 1.7329025349718457 and parameters: {'opt_Epochs': 3, 'opt_Learning_Rate': 0.16951646294681283, 'opt_Batch_Size': 156, 'opt_N2R_Ratio': 14.638736653515815, 'opt_Regularization_term': 0.047017610436294696, 'opt_Noise_Dim': 407, 'opt_Impair_LR': 0.14154397791014803, 'opt_Repair_LR': 0.09975334528979032, 'n_layers': 1}. Best is trial 6 with value: 1.3676055165047336.\n",
      "Trial 17 finished with value: 1.7329025349718457 and parameters: {'opt_Epochs': 3, 'opt_Learning_Rate': 0.16951646294681283, 'opt_Batch_Size': 156, 'opt_N2R_Ratio': 14.638736653515815, 'opt_Regularization_term': 0.047017610436294696, 'opt_Noise_Dim': 407, 'opt_Impair_LR': 0.14154397791014803, 'opt_Repair_LR': 0.09975334528979032, 'n_layers': 1}. Best is trial 6 with value: 1.3676055165047336.\n"
     ]
    },
    {
     "name": "stderr",
     "output_type": "stream",
     "text": [
      "[I 2025-01-23 13:42:08,040] Trial 18 finished with value: 0.6414642462070953 and parameters: {'opt_Epochs': 7, 'opt_Learning_Rate': 0.11639151807114587, 'opt_Batch_Size': 76, 'opt_N2R_Ratio': 3.200768556641136, 'opt_Regularization_term': 0.22283739292988924, 'opt_Noise_Dim': 299, 'opt_Impair_LR': 0.06428783208955198, 'opt_Repair_LR': 0.022690377987547486, 'n_layers': 3}. Best is trial 18 with value: 0.6414642462070953.\n"
     ]
    },
    {
     "name": "stdout",
     "output_type": "stream",
     "text": [
      "Trial 18 finished with value: 0.6414642462070953 and parameters: {'opt_Epochs': 7, 'opt_Learning_Rate': 0.11639151807114587, 'opt_Batch_Size': 76, 'opt_N2R_Ratio': 3.200768556641136, 'opt_Regularization_term': 0.22283739292988924, 'opt_Noise_Dim': 299, 'opt_Impair_LR': 0.06428783208955198, 'opt_Repair_LR': 0.022690377987547486, 'n_layers': 3}. Best is trial 18 with value: 0.6414642462070953.\n",
      "Trial 18 finished with value: 0.6414642462070953 and parameters: {'opt_Epochs': 7, 'opt_Learning_Rate': 0.11639151807114587, 'opt_Batch_Size': 76, 'opt_N2R_Ratio': 3.200768556641136, 'opt_Regularization_term': 0.22283739292988924, 'opt_Noise_Dim': 299, 'opt_Impair_LR': 0.06428783208955198, 'opt_Repair_LR': 0.022690377987547486, 'n_layers': 3}. Best is trial 18 with value: 0.6414642462070953.\n"
     ]
    },
    {
     "name": "stderr",
     "output_type": "stream",
     "text": [
      "[I 2025-01-23 13:43:20,973] Trial 19 finished with value: 1.7442150410185464 and parameters: {'opt_Epochs': 6, 'opt_Learning_Rate': 0.22215296442152732, 'opt_Batch_Size': 71, 'opt_N2R_Ratio': 3.7193289608635105, 'opt_Regularization_term': 0.23537660934941176, 'opt_Noise_Dim': 124, 'opt_Impair_LR': 0.06172999789094559, 'opt_Repair_LR': 0.29221996583570453, 'n_layers': 3}. Best is trial 18 with value: 0.6414642462070953.\n"
     ]
    },
    {
     "name": "stdout",
     "output_type": "stream",
     "text": [
      "Trial 19 finished with value: 1.7442150410185464 and parameters: {'opt_Epochs': 6, 'opt_Learning_Rate': 0.22215296442152732, 'opt_Batch_Size': 71, 'opt_N2R_Ratio': 3.7193289608635105, 'opt_Regularization_term': 0.23537660934941176, 'opt_Noise_Dim': 124, 'opt_Impair_LR': 0.06172999789094559, 'opt_Repair_LR': 0.29221996583570453, 'n_layers': 3}. Best is trial 18 with value: 0.6414642462070953.\n",
      "Trial 19 finished with value: 1.7442150410185464 and parameters: {'opt_Epochs': 6, 'opt_Learning_Rate': 0.22215296442152732, 'opt_Batch_Size': 71, 'opt_N2R_Ratio': 3.7193289608635105, 'opt_Regularization_term': 0.23537660934941176, 'opt_Noise_Dim': 124, 'opt_Impair_LR': 0.06172999789094559, 'opt_Repair_LR': 0.29221996583570453, 'n_layers': 3}. Best is trial 18 with value: 0.6414642462070953.\n"
     ]
    },
    {
     "name": "stderr",
     "output_type": "stream",
     "text": [
      "[I 2025-01-23 13:43:56,893] Trial 20 finished with value: 1.6933407475339597 and parameters: {'opt_Epochs': 4, 'opt_Learning_Rate': 0.10400528534052404, 'opt_Batch_Size': 33, 'opt_N2R_Ratio': 0.02421467876196104, 'opt_Regularization_term': 0.28432507815953467, 'opt_Noise_Dim': 272, 'opt_Impair_LR': 0.05406024615261909, 'opt_Repair_LR': 0.0316473029138884, 'n_layers': 3}. Best is trial 18 with value: 0.6414642462070953.\n"
     ]
    },
    {
     "name": "stdout",
     "output_type": "stream",
     "text": [
      "Trial 20 finished with value: 1.6933407475339597 and parameters: {'opt_Epochs': 4, 'opt_Learning_Rate': 0.10400528534052404, 'opt_Batch_Size': 33, 'opt_N2R_Ratio': 0.02421467876196104, 'opt_Regularization_term': 0.28432507815953467, 'opt_Noise_Dim': 272, 'opt_Impair_LR': 0.05406024615261909, 'opt_Repair_LR': 0.0316473029138884, 'n_layers': 3}. Best is trial 18 with value: 0.6414642462070953.\n",
      "Trial 20 finished with value: 1.6933407475339597 and parameters: {'opt_Epochs': 4, 'opt_Learning_Rate': 0.10400528534052404, 'opt_Batch_Size': 33, 'opt_N2R_Ratio': 0.02421467876196104, 'opt_Regularization_term': 0.28432507815953467, 'opt_Noise_Dim': 272, 'opt_Impair_LR': 0.05406024615261909, 'opt_Repair_LR': 0.0316473029138884, 'n_layers': 3}. Best is trial 18 with value: 0.6414642462070953.\n"
     ]
    },
    {
     "name": "stderr",
     "output_type": "stream",
     "text": [
      "[I 2025-01-23 13:46:13,149] Trial 21 finished with value: 1.2939958893238226 and parameters: {'opt_Epochs': 9, 'opt_Learning_Rate': 0.1340225093276931, 'opt_Batch_Size': 91, 'opt_N2R_Ratio': 3.0197118047436504, 'opt_Regularization_term': 0.2258996471735775, 'opt_Noise_Dim': 318, 'opt_Impair_LR': 0.1219205967336376, 'opt_Repair_LR': 0.01232836047820366, 'n_layers': 4}. Best is trial 18 with value: 0.6414642462070953.\n"
     ]
    },
    {
     "name": "stdout",
     "output_type": "stream",
     "text": [
      "Trial 21 finished with value: 1.2939958893238226 and parameters: {'opt_Epochs': 9, 'opt_Learning_Rate': 0.1340225093276931, 'opt_Batch_Size': 91, 'opt_N2R_Ratio': 3.0197118047436504, 'opt_Regularization_term': 0.2258996471735775, 'opt_Noise_Dim': 318, 'opt_Impair_LR': 0.1219205967336376, 'opt_Repair_LR': 0.01232836047820366, 'n_layers': 4}. Best is trial 18 with value: 0.6414642462070953.\n",
      "Trial 21 finished with value: 1.2939958893238226 and parameters: {'opt_Epochs': 9, 'opt_Learning_Rate': 0.1340225093276931, 'opt_Batch_Size': 91, 'opt_N2R_Ratio': 3.0197118047436504, 'opt_Regularization_term': 0.2258996471735775, 'opt_Noise_Dim': 318, 'opt_Impair_LR': 0.1219205967336376, 'opt_Repair_LR': 0.01232836047820366, 'n_layers': 4}. Best is trial 18 with value: 0.6414642462070953.\n"
     ]
    },
    {
     "name": "stderr",
     "output_type": "stream",
     "text": [
      "[I 2025-01-23 13:47:35,898] Trial 22 finished with value: 0.771118977602492 and parameters: {'opt_Epochs': 7, 'opt_Learning_Rate': 0.15900403659544013, 'opt_Batch_Size': 95, 'opt_N2R_Ratio': 2.255342578220202, 'opt_Regularization_term': 0.21721834670140686, 'opt_Noise_Dim': 384, 'opt_Impair_LR': 0.07983480725418912, 'opt_Repair_LR': 0.01096730265013879, 'n_layers': 4}. Best is trial 18 with value: 0.6414642462070953.\n"
     ]
    },
    {
     "name": "stdout",
     "output_type": "stream",
     "text": [
      "Trial 22 finished with value: 0.771118977602492 and parameters: {'opt_Epochs': 7, 'opt_Learning_Rate': 0.15900403659544013, 'opt_Batch_Size': 95, 'opt_N2R_Ratio': 2.255342578220202, 'opt_Regularization_term': 0.21721834670140686, 'opt_Noise_Dim': 384, 'opt_Impair_LR': 0.07983480725418912, 'opt_Repair_LR': 0.01096730265013879, 'n_layers': 4}. Best is trial 18 with value: 0.6414642462070953.\n",
      "Trial 22 finished with value: 0.771118977602492 and parameters: {'opt_Epochs': 7, 'opt_Learning_Rate': 0.15900403659544013, 'opt_Batch_Size': 95, 'opt_N2R_Ratio': 2.255342578220202, 'opt_Regularization_term': 0.21721834670140686, 'opt_Noise_Dim': 384, 'opt_Impair_LR': 0.07983480725418912, 'opt_Repair_LR': 0.01096730265013879, 'n_layers': 4}. Best is trial 18 with value: 0.6414642462070953.\n"
     ]
    },
    {
     "name": "stderr",
     "output_type": "stream",
     "text": [
      "[I 2025-01-23 13:49:07,499] Trial 23 finished with value: 1.730758896787116 and parameters: {'opt_Epochs': 7, 'opt_Learning_Rate': 0.15532419949643103, 'opt_Batch_Size': 90, 'opt_N2R_Ratio': 2.7127252186941915, 'opt_Regularization_term': 0.22406868874480823, 'opt_Noise_Dim': 404, 'opt_Impair_LR': 0.132650775174298, 'opt_Repair_LR': 0.020453663739753696, 'n_layers': 5}. Best is trial 18 with value: 0.6414642462070953.\n"
     ]
    },
    {
     "name": "stdout",
     "output_type": "stream",
     "text": [
      "Trial 23 finished with value: 1.730758896787116 and parameters: {'opt_Epochs': 7, 'opt_Learning_Rate': 0.15532419949643103, 'opt_Batch_Size': 90, 'opt_N2R_Ratio': 2.7127252186941915, 'opt_Regularization_term': 0.22406868874480823, 'opt_Noise_Dim': 404, 'opt_Impair_LR': 0.132650775174298, 'opt_Repair_LR': 0.020453663739753696, 'n_layers': 5}. Best is trial 18 with value: 0.6414642462070953.\n",
      "Trial 23 finished with value: 1.730758896787116 and parameters: {'opt_Epochs': 7, 'opt_Learning_Rate': 0.15532419949643103, 'opt_Batch_Size': 90, 'opt_N2R_Ratio': 2.7127252186941915, 'opt_Regularization_term': 0.22406868874480823, 'opt_Noise_Dim': 404, 'opt_Impair_LR': 0.132650775174298, 'opt_Repair_LR': 0.020453663739753696, 'n_layers': 5}. Best is trial 18 with value: 0.6414642462070953.\n"
     ]
    },
    {
     "name": "stderr",
     "output_type": "stream",
     "text": [
      "[I 2025-01-23 13:51:19,698] Trial 24 finished with value: 0.7475607160558089 and parameters: {'opt_Epochs': 7, 'opt_Learning_Rate': 0.0797048210884596, 'opt_Batch_Size': 58, 'opt_N2R_Ratio': 4.415912520290309, 'opt_Regularization_term': 0.29115596831333285, 'opt_Noise_Dim': 200, 'opt_Impair_LR': 0.092110427950571, 'opt_Repair_LR': 0.012601280061750519, 'n_layers': 4}. Best is trial 18 with value: 0.6414642462070953.\n"
     ]
    },
    {
     "name": "stdout",
     "output_type": "stream",
     "text": [
      "Trial 24 finished with value: 0.7475607160558089 and parameters: {'opt_Epochs': 7, 'opt_Learning_Rate': 0.0797048210884596, 'opt_Batch_Size': 58, 'opt_N2R_Ratio': 4.415912520290309, 'opt_Regularization_term': 0.29115596831333285, 'opt_Noise_Dim': 200, 'opt_Impair_LR': 0.092110427950571, 'opt_Repair_LR': 0.012601280061750519, 'n_layers': 4}. Best is trial 18 with value: 0.6414642462070953.\n",
      "Trial 24 finished with value: 0.7475607160558089 and parameters: {'opt_Epochs': 7, 'opt_Learning_Rate': 0.0797048210884596, 'opt_Batch_Size': 58, 'opt_N2R_Ratio': 4.415912520290309, 'opt_Regularization_term': 0.29115596831333285, 'opt_Noise_Dim': 200, 'opt_Impair_LR': 0.092110427950571, 'opt_Repair_LR': 0.012601280061750519, 'n_layers': 4}. Best is trial 18 with value: 0.6414642462070953.\n"
     ]
    },
    {
     "name": "stderr",
     "output_type": "stream",
     "text": [
      "[I 2025-01-23 13:52:33,410] Trial 25 finished with value: 1.1171667924586752 and parameters: {'opt_Epochs': 7, 'opt_Learning_Rate': 0.07673818628806495, 'opt_Batch_Size': 58, 'opt_N2R_Ratio': 4.740717591136264, 'opt_Regularization_term': 0.29341914358512744, 'opt_Noise_Dim': 194, 'opt_Impair_LR': 0.09252533124690447, 'opt_Repair_LR': 0.050119057568727476, 'n_layers': 4}. Best is trial 18 with value: 0.6414642462070953.\n"
     ]
    },
    {
     "name": "stdout",
     "output_type": "stream",
     "text": [
      "Trial 25 finished with value: 1.1171667924586752 and parameters: {'opt_Epochs': 7, 'opt_Learning_Rate': 0.07673818628806495, 'opt_Batch_Size': 58, 'opt_N2R_Ratio': 4.740717591136264, 'opt_Regularization_term': 0.29341914358512744, 'opt_Noise_Dim': 194, 'opt_Impair_LR': 0.09252533124690447, 'opt_Repair_LR': 0.050119057568727476, 'n_layers': 4}. Best is trial 18 with value: 0.6414642462070953.\n",
      "Trial 25 finished with value: 1.1171667924586752 and parameters: {'opt_Epochs': 7, 'opt_Learning_Rate': 0.07673818628806495, 'opt_Batch_Size': 58, 'opt_N2R_Ratio': 4.740717591136264, 'opt_Regularization_term': 0.29341914358512744, 'opt_Noise_Dim': 194, 'opt_Impair_LR': 0.09252533124690447, 'opt_Repair_LR': 0.050119057568727476, 'n_layers': 4}. Best is trial 18 with value: 0.6414642462070953.\n"
     ]
    },
    {
     "name": "stderr",
     "output_type": "stream",
     "text": [
      "[I 2025-01-23 13:53:56,700] Trial 26 finished with value: 0.6089826247793567 and parameters: {'opt_Epochs': 6, 'opt_Learning_Rate': 0.017834579272354767, 'opt_Batch_Size': 52, 'opt_N2R_Ratio': 1.3015414745226397, 'opt_Regularization_term': 0.2753368815673032, 'opt_Noise_Dim': 97, 'opt_Impair_LR': 0.04065680950273508, 'opt_Repair_LR': 0.0465947490934984, 'n_layers': 3}. Best is trial 26 with value: 0.6089826247793567.\n"
     ]
    },
    {
     "name": "stdout",
     "output_type": "stream",
     "text": [
      "Trial 26 finished with value: 0.6089826247793567 and parameters: {'opt_Epochs': 6, 'opt_Learning_Rate': 0.017834579272354767, 'opt_Batch_Size': 52, 'opt_N2R_Ratio': 1.3015414745226397, 'opt_Regularization_term': 0.2753368815673032, 'opt_Noise_Dim': 97, 'opt_Impair_LR': 0.04065680950273508, 'opt_Repair_LR': 0.0465947490934984, 'n_layers': 3}. Best is trial 26 with value: 0.6089826247793567.\n",
      "Trial 26 finished with value: 0.6089826247793567 and parameters: {'opt_Epochs': 6, 'opt_Learning_Rate': 0.017834579272354767, 'opt_Batch_Size': 52, 'opt_N2R_Ratio': 1.3015414745226397, 'opt_Regularization_term': 0.2753368815673032, 'opt_Noise_Dim': 97, 'opt_Impair_LR': 0.04065680950273508, 'opt_Repair_LR': 0.0465947490934984, 'n_layers': 3}. Best is trial 26 with value: 0.6089826247793567.\n"
     ]
    },
    {
     "name": "stderr",
     "output_type": "stream",
     "text": [
      "[I 2025-01-23 13:55:48,617] Trial 27 finished with value: 1.2367846530802695 and parameters: {'opt_Epochs': 6, 'opt_Learning_Rate': 0.019333769738726612, 'opt_Batch_Size': 52, 'opt_N2R_Ratio': 6.136477753115292, 'opt_Regularization_term': 0.2741714405155198, 'opt_Noise_Dim': 78, 'opt_Impair_LR': 0.04040707852705219, 'opt_Repair_LR': 0.09089145800396013, 'n_layers': 3}. Best is trial 26 with value: 0.6089826247793567.\n"
     ]
    },
    {
     "name": "stdout",
     "output_type": "stream",
     "text": [
      "Trial 27 finished with value: 1.2367846530802695 and parameters: {'opt_Epochs': 6, 'opt_Learning_Rate': 0.019333769738726612, 'opt_Batch_Size': 52, 'opt_N2R_Ratio': 6.136477753115292, 'opt_Regularization_term': 0.2741714405155198, 'opt_Noise_Dim': 78, 'opt_Impair_LR': 0.04040707852705219, 'opt_Repair_LR': 0.09089145800396013, 'n_layers': 3}. Best is trial 26 with value: 0.6089826247793567.\n",
      "Trial 27 finished with value: 1.2367846530802695 and parameters: {'opt_Epochs': 6, 'opt_Learning_Rate': 0.019333769738726612, 'opt_Batch_Size': 52, 'opt_N2R_Ratio': 6.136477753115292, 'opt_Regularization_term': 0.2741714405155198, 'opt_Noise_Dim': 78, 'opt_Impair_LR': 0.04040707852705219, 'opt_Repair_LR': 0.09089145800396013, 'n_layers': 3}. Best is trial 26 with value: 0.6089826247793567.\n"
     ]
    },
    {
     "name": "stderr",
     "output_type": "stream",
     "text": [
      "[I 2025-01-23 13:56:25,845] Trial 28 finished with value: 0.6062820399061158 and parameters: {'opt_Epochs': 4, 'opt_Learning_Rate': 0.05716365183312228, 'opt_Batch_Size': 70, 'opt_N2R_Ratio': 1.1918744686110374, 'opt_Regularization_term': 0.25831337753886274, 'opt_Noise_Dim': 101, 'opt_Impair_LR': 0.011514947591232685, 'opt_Repair_LR': 0.045348754946953444, 'n_layers': 2}. Best is trial 28 with value: 0.6062820399061158.\n"
     ]
    },
    {
     "name": "stdout",
     "output_type": "stream",
     "text": [
      "Trial 28 finished with value: 0.6062820399061158 and parameters: {'opt_Epochs': 4, 'opt_Learning_Rate': 0.05716365183312228, 'opt_Batch_Size': 70, 'opt_N2R_Ratio': 1.1918744686110374, 'opt_Regularization_term': 0.25831337753886274, 'opt_Noise_Dim': 101, 'opt_Impair_LR': 0.011514947591232685, 'opt_Repair_LR': 0.045348754946953444, 'n_layers': 2}. Best is trial 28 with value: 0.6062820399061158.\n",
      "Trial 28 finished with value: 0.6062820399061158 and parameters: {'opt_Epochs': 4, 'opt_Learning_Rate': 0.05716365183312228, 'opt_Batch_Size': 70, 'opt_N2R_Ratio': 1.1918744686110374, 'opt_Regularization_term': 0.25831337753886274, 'opt_Noise_Dim': 101, 'opt_Impair_LR': 0.011514947591232685, 'opt_Repair_LR': 0.045348754946953444, 'n_layers': 2}. Best is trial 28 with value: 0.6062820399061158.\n"
     ]
    },
    {
     "name": "stderr",
     "output_type": "stream",
     "text": [
      "[I 2025-01-23 13:57:05,344] Trial 29 finished with value: 0.6050371918906555 and parameters: {'opt_Epochs': 4, 'opt_Learning_Rate': 0.04382726741206572, 'opt_Batch_Size': 147, 'opt_N2R_Ratio': 1.3154657579555766, 'opt_Regularization_term': 0.25002389697229593, 'opt_Noise_Dim': 16, 'opt_Impair_LR': 0.013789193505470101, 'opt_Repair_LR': 0.04970462960257317, 'n_layers': 2}. Best is trial 29 with value: 0.6050371918906555.\n"
     ]
    },
    {
     "name": "stdout",
     "output_type": "stream",
     "text": [
      "Trial 29 finished with value: 0.6050371918906555 and parameters: {'opt_Epochs': 4, 'opt_Learning_Rate': 0.04382726741206572, 'opt_Batch_Size': 147, 'opt_N2R_Ratio': 1.3154657579555766, 'opt_Regularization_term': 0.25002389697229593, 'opt_Noise_Dim': 16, 'opt_Impair_LR': 0.013789193505470101, 'opt_Repair_LR': 0.04970462960257317, 'n_layers': 2}. Best is trial 29 with value: 0.6050371918906555.\n",
      "Trial 29 finished with value: 0.6050371918906555 and parameters: {'opt_Epochs': 4, 'opt_Learning_Rate': 0.04382726741206572, 'opt_Batch_Size': 147, 'opt_N2R_Ratio': 1.3154657579555766, 'opt_Regularization_term': 0.25002389697229593, 'opt_Noise_Dim': 16, 'opt_Impair_LR': 0.013789193505470101, 'opt_Repair_LR': 0.04970462960257317, 'n_layers': 2}. Best is trial 29 with value: 0.6050371918906555.\n"
     ]
    },
    {
     "name": "stderr",
     "output_type": "stream",
     "text": [
      "[I 2025-01-23 13:57:59,698] Trial 30 finished with value: 0.8306070411458927 and parameters: {'opt_Epochs': 3, 'opt_Learning_Rate': 0.045164245449309595, 'opt_Batch_Size': 150, 'opt_N2R_Ratio': 1.8625400971301724, 'opt_Regularization_term': 0.25066540889257694, 'opt_Noise_Dim': 7, 'opt_Impair_LR': 0.012157031571031946, 'opt_Repair_LR': 0.08401245480278122, 'n_layers': 1}. Best is trial 29 with value: 0.6050371918906555.\n"
     ]
    },
    {
     "name": "stdout",
     "output_type": "stream",
     "text": [
      "Trial 30 finished with value: 0.8306070411458927 and parameters: {'opt_Epochs': 3, 'opt_Learning_Rate': 0.045164245449309595, 'opt_Batch_Size': 150, 'opt_N2R_Ratio': 1.8625400971301724, 'opt_Regularization_term': 0.25066540889257694, 'opt_Noise_Dim': 7, 'opt_Impair_LR': 0.012157031571031946, 'opt_Repair_LR': 0.08401245480278122, 'n_layers': 1}. Best is trial 29 with value: 0.6050371918906555.\n",
      "Trial 30 finished with value: 0.8306070411458927 and parameters: {'opt_Epochs': 3, 'opt_Learning_Rate': 0.045164245449309595, 'opt_Batch_Size': 150, 'opt_N2R_Ratio': 1.8625400971301724, 'opt_Regularization_term': 0.25066540889257694, 'opt_Noise_Dim': 7, 'opt_Impair_LR': 0.012157031571031946, 'opt_Repair_LR': 0.08401245480278122, 'n_layers': 1}. Best is trial 29 with value: 0.6050371918906555.\n"
     ]
    },
    {
     "name": "stderr",
     "output_type": "stream",
     "text": [
      "[I 2025-01-23 13:59:03,026] Trial 31 finished with value: 0.6664726322001603 and parameters: {'opt_Epochs': 4, 'opt_Learning_Rate': 0.04448405672169556, 'opt_Batch_Size': 72, 'opt_N2R_Ratio': 1.5153910215647302, 'opt_Regularization_term': 0.2580529754784228, 'opt_Noise_Dim': 55, 'opt_Impair_LR': 0.012899923867607983, 'opt_Repair_LR': 0.050013632544482114, 'n_layers': 2}. Best is trial 29 with value: 0.6050371918906555.\n"
     ]
    },
    {
     "name": "stdout",
     "output_type": "stream",
     "text": [
      "Trial 31 finished with value: 0.6664726322001603 and parameters: {'opt_Epochs': 4, 'opt_Learning_Rate': 0.04448405672169556, 'opt_Batch_Size': 72, 'opt_N2R_Ratio': 1.5153910215647302, 'opt_Regularization_term': 0.2580529754784228, 'opt_Noise_Dim': 55, 'opt_Impair_LR': 0.012899923867607983, 'opt_Repair_LR': 0.050013632544482114, 'n_layers': 2}. Best is trial 29 with value: 0.6050371918906555.\n",
      "Trial 31 finished with value: 0.6664726322001603 and parameters: {'opt_Epochs': 4, 'opt_Learning_Rate': 0.04448405672169556, 'opt_Batch_Size': 72, 'opt_N2R_Ratio': 1.5153910215647302, 'opt_Regularization_term': 0.2580529754784228, 'opt_Noise_Dim': 55, 'opt_Impair_LR': 0.012899923867607983, 'opt_Repair_LR': 0.050013632544482114, 'n_layers': 2}. Best is trial 29 with value: 0.6050371918906555.\n"
     ]
    },
    {
     "name": "stderr",
     "output_type": "stream",
     "text": [
      "[I 2025-01-23 13:59:58,031] Trial 32 finished with value: 0.6519340113756505 and parameters: {'opt_Epochs': 4, 'opt_Learning_Rate': 0.012137723038450808, 'opt_Batch_Size': 162, 'opt_N2R_Ratio': 1.2899434860670862, 'opt_Regularization_term': 0.17695526868554623, 'opt_Noise_Dim': 109, 'opt_Impair_LR': 0.04128092225664294, 'opt_Repair_LR': 0.051826928370658304, 'n_layers': 2}. Best is trial 29 with value: 0.6050371918906555.\n"
     ]
    },
    {
     "name": "stdout",
     "output_type": "stream",
     "text": [
      "Trial 32 finished with value: 0.6519340113756505 and parameters: {'opt_Epochs': 4, 'opt_Learning_Rate': 0.012137723038450808, 'opt_Batch_Size': 162, 'opt_N2R_Ratio': 1.2899434860670862, 'opt_Regularization_term': 0.17695526868554623, 'opt_Noise_Dim': 109, 'opt_Impair_LR': 0.04128092225664294, 'opt_Repair_LR': 0.051826928370658304, 'n_layers': 2}. Best is trial 29 with value: 0.6050371918906555.\n",
      "Trial 32 finished with value: 0.6519340113756505 and parameters: {'opt_Epochs': 4, 'opt_Learning_Rate': 0.012137723038450808, 'opt_Batch_Size': 162, 'opt_N2R_Ratio': 1.2899434860670862, 'opt_Regularization_term': 0.17695526868554623, 'opt_Noise_Dim': 109, 'opt_Impair_LR': 0.04128092225664294, 'opt_Repair_LR': 0.051826928370658304, 'n_layers': 2}. Best is trial 29 with value: 0.6050371918906555.\n"
     ]
    },
    {
     "name": "stderr",
     "output_type": "stream",
     "text": [
      "[I 2025-01-23 14:00:21,903] Trial 33 finished with value: 1.2587562331493871 and parameters: {'opt_Epochs': 2, 'opt_Learning_Rate': 0.05578705710004101, 'opt_Batch_Size': 139, 'opt_N2R_Ratio': 0.3368298812235969, 'opt_Regularization_term': 0.24367612049935378, 'opt_Noise_Dim': 38, 'opt_Impair_LR': 0.04298459199964937, 'opt_Repair_LR': 0.039584189193059977, 'n_layers': 1}. Best is trial 29 with value: 0.6050371918906555.\n"
     ]
    },
    {
     "name": "stdout",
     "output_type": "stream",
     "text": [
      "Trial 33 finished with value: 1.2587562331493871 and parameters: {'opt_Epochs': 2, 'opt_Learning_Rate': 0.05578705710004101, 'opt_Batch_Size': 139, 'opt_N2R_Ratio': 0.3368298812235969, 'opt_Regularization_term': 0.24367612049935378, 'opt_Noise_Dim': 38, 'opt_Impair_LR': 0.04298459199964937, 'opt_Repair_LR': 0.039584189193059977, 'n_layers': 1}. Best is trial 29 with value: 0.6050371918906555.\n",
      "Trial 33 finished with value: 1.2587562331493871 and parameters: {'opt_Epochs': 2, 'opt_Learning_Rate': 0.05578705710004101, 'opt_Batch_Size': 139, 'opt_N2R_Ratio': 0.3368298812235969, 'opt_Regularization_term': 0.24367612049935378, 'opt_Noise_Dim': 38, 'opt_Impair_LR': 0.04298459199964937, 'opt_Repair_LR': 0.039584189193059977, 'n_layers': 1}. Best is trial 29 with value: 0.6050371918906555.\n"
     ]
    },
    {
     "name": "stderr",
     "output_type": "stream",
     "text": [
      "[I 2025-01-23 14:01:08,205] Trial 34 finished with value: 0.8520385176577462 and parameters: {'opt_Epochs': 5, 'opt_Learning_Rate': 0.035286118025303514, 'opt_Batch_Size': 43, 'opt_N2R_Ratio': 3.9897354926136073, 'opt_Regularization_term': 0.20462002245186295, 'opt_Noise_Dim': 157, 'opt_Impair_LR': 0.025891192798581264, 'opt_Repair_LR': 0.0670375096704139, 'n_layers': 2}. Best is trial 29 with value: 0.6050371918906555.\n"
     ]
    },
    {
     "name": "stdout",
     "output_type": "stream",
     "text": [
      "Trial 34 finished with value: 0.8520385176577462 and parameters: {'opt_Epochs': 5, 'opt_Learning_Rate': 0.035286118025303514, 'opt_Batch_Size': 43, 'opt_N2R_Ratio': 3.9897354926136073, 'opt_Regularization_term': 0.20462002245186295, 'opt_Noise_Dim': 157, 'opt_Impair_LR': 0.025891192798581264, 'opt_Repair_LR': 0.0670375096704139, 'n_layers': 2}. Best is trial 29 with value: 0.6050371918906555.\n",
      "Trial 34 finished with value: 0.8520385176577462 and parameters: {'opt_Epochs': 5, 'opt_Learning_Rate': 0.035286118025303514, 'opt_Batch_Size': 43, 'opt_N2R_Ratio': 3.9897354926136073, 'opt_Regularization_term': 0.20462002245186295, 'opt_Noise_Dim': 157, 'opt_Impair_LR': 0.025891192798581264, 'opt_Repair_LR': 0.0670375096704139, 'n_layers': 2}. Best is trial 29 with value: 0.6050371918906555.\n"
     ]
    },
    {
     "name": "stderr",
     "output_type": "stream",
     "text": [
      "[I 2025-01-23 14:03:08,006] Trial 35 finished with value: 1.738976538434941 and parameters: {'opt_Epochs': 4, 'opt_Learning_Rate': 0.0665537352302735, 'opt_Batch_Size': 106, 'opt_N2R_Ratio': 5.922479935139603, 'opt_Regularization_term': 0.2994654210871959, 'opt_Noise_Dim': 96, 'opt_Impair_LR': 0.2978995062726779, 'opt_Repair_LR': 0.07489931553372985, 'n_layers': 3}. Best is trial 29 with value: 0.6050371918906555.\n"
     ]
    },
    {
     "name": "stdout",
     "output_type": "stream",
     "text": [
      "Trial 35 finished with value: 1.738976538434941 and parameters: {'opt_Epochs': 4, 'opt_Learning_Rate': 0.0665537352302735, 'opt_Batch_Size': 106, 'opt_N2R_Ratio': 5.922479935139603, 'opt_Regularization_term': 0.2994654210871959, 'opt_Noise_Dim': 96, 'opt_Impair_LR': 0.2978995062726779, 'opt_Repair_LR': 0.07489931553372985, 'n_layers': 3}. Best is trial 29 with value: 0.6050371918906555.\n",
      "Trial 35 finished with value: 1.738976538434941 and parameters: {'opt_Epochs': 4, 'opt_Learning_Rate': 0.0665537352302735, 'opt_Batch_Size': 106, 'opt_N2R_Ratio': 5.922479935139603, 'opt_Regularization_term': 0.2994654210871959, 'opt_Noise_Dim': 96, 'opt_Impair_LR': 0.2978995062726779, 'opt_Repair_LR': 0.07489931553372985, 'n_layers': 3}. Best is trial 29 with value: 0.6050371918906555.\n"
     ]
    },
    {
     "name": "stderr",
     "output_type": "stream",
     "text": [
      "[I 2025-01-23 14:03:55,888] Trial 36 finished with value: 0.5636112024809456 and parameters: {'opt_Epochs': 2, 'opt_Learning_Rate': 0.02863079630967376, 'opt_Batch_Size': 131, 'opt_N2R_Ratio': 1.1261425896602797, 'opt_Regularization_term': 0.26983073537177, 'opt_Noise_Dim': 31, 'opt_Impair_LR': 0.0105836149427973, 'opt_Repair_LR': 0.03510266339257251, 'n_layers': 2}. Best is trial 36 with value: 0.5636112024809456.\n"
     ]
    },
    {
     "name": "stdout",
     "output_type": "stream",
     "text": [
      "Trial 36 finished with value: 0.5636112024809456 and parameters: {'opt_Epochs': 2, 'opt_Learning_Rate': 0.02863079630967376, 'opt_Batch_Size': 131, 'opt_N2R_Ratio': 1.1261425896602797, 'opt_Regularization_term': 0.26983073537177, 'opt_Noise_Dim': 31, 'opt_Impair_LR': 0.0105836149427973, 'opt_Repair_LR': 0.03510266339257251, 'n_layers': 2}. Best is trial 36 with value: 0.5636112024809456.\n",
      "Trial 36 finished with value: 0.5636112024809456 and parameters: {'opt_Epochs': 2, 'opt_Learning_Rate': 0.02863079630967376, 'opt_Batch_Size': 131, 'opt_N2R_Ratio': 1.1261425896602797, 'opt_Regularization_term': 0.26983073537177, 'opt_Noise_Dim': 31, 'opt_Impair_LR': 0.0105836149427973, 'opt_Repair_LR': 0.03510266339257251, 'n_layers': 2}. Best is trial 36 with value: 0.5636112024809456.\n"
     ]
    },
    {
     "name": "stderr",
     "output_type": "stream",
     "text": [
      "[I 2025-01-23 14:04:31,583] Trial 37 finished with value: 0.7366870841447342 and parameters: {'opt_Epochs': 2, 'opt_Learning_Rate': 0.02981681403807561, 'opt_Batch_Size': 137, 'opt_N2R_Ratio': 1.1480804130251594, 'opt_Regularization_term': 0.27285227303759757, 'opt_Noise_Dim': 41, 'opt_Impair_LR': 0.047160233724413206, 'opt_Repair_LR': 0.03837348039480625, 'n_layers': 2}. Best is trial 36 with value: 0.5636112024809456.\n"
     ]
    },
    {
     "name": "stdout",
     "output_type": "stream",
     "text": [
      "Trial 37 finished with value: 0.7366870841447342 and parameters: {'opt_Epochs': 2, 'opt_Learning_Rate': 0.02981681403807561, 'opt_Batch_Size': 137, 'opt_N2R_Ratio': 1.1480804130251594, 'opt_Regularization_term': 0.27285227303759757, 'opt_Noise_Dim': 41, 'opt_Impair_LR': 0.047160233724413206, 'opt_Repair_LR': 0.03837348039480625, 'n_layers': 2}. Best is trial 36 with value: 0.5636112024809456.\n",
      "Trial 37 finished with value: 0.7366870841447342 and parameters: {'opt_Epochs': 2, 'opt_Learning_Rate': 0.02981681403807561, 'opt_Batch_Size': 137, 'opt_N2R_Ratio': 1.1480804130251594, 'opt_Regularization_term': 0.27285227303759757, 'opt_Noise_Dim': 41, 'opt_Impair_LR': 0.047160233724413206, 'opt_Repair_LR': 0.03837348039480625, 'n_layers': 2}. Best is trial 36 with value: 0.5636112024809456.\n"
     ]
    },
    {
     "name": "stderr",
     "output_type": "stream",
     "text": [
      "[I 2025-01-23 14:05:53,472] Trial 38 finished with value: 1.5684112416937004 and parameters: {'opt_Epochs': 2, 'opt_Learning_Rate': 0.0891810729851347, 'opt_Batch_Size': 166, 'opt_N2R_Ratio': 7.109478125033911, 'opt_Regularization_term': 0.27225659861853996, 'opt_Noise_Dim': 28, 'opt_Impair_LR': 0.17050047865657497, 'opt_Repair_LR': 0.06115071627615983, 'n_layers': 10}. Best is trial 36 with value: 0.5636112024809456.\n"
     ]
    },
    {
     "name": "stdout",
     "output_type": "stream",
     "text": [
      "Trial 38 finished with value: 1.5684112416937004 and parameters: {'opt_Epochs': 2, 'opt_Learning_Rate': 0.0891810729851347, 'opt_Batch_Size': 166, 'opt_N2R_Ratio': 7.109478125033911, 'opt_Regularization_term': 0.27225659861853996, 'opt_Noise_Dim': 28, 'opt_Impair_LR': 0.17050047865657497, 'opt_Repair_LR': 0.06115071627615983, 'n_layers': 10}. Best is trial 36 with value: 0.5636112024809456.\n",
      "Trial 38 finished with value: 1.5684112416937004 and parameters: {'opt_Epochs': 2, 'opt_Learning_Rate': 0.0891810729851347, 'opt_Batch_Size': 166, 'opt_N2R_Ratio': 7.109478125033911, 'opt_Regularization_term': 0.27225659861853996, 'opt_Noise_Dim': 28, 'opt_Impair_LR': 0.17050047865657497, 'opt_Repair_LR': 0.06115071627615983, 'n_layers': 10}. Best is trial 36 with value: 0.5636112024809456.\n"
     ]
    },
    {
     "name": "stderr",
     "output_type": "stream",
     "text": [
      "[I 2025-01-23 14:06:35,042] Trial 39 finished with value: 1.0727217106108968 and parameters: {'opt_Epochs': 1, 'opt_Learning_Rate': 0.03029417413152484, 'opt_Batch_Size': 124, 'opt_N2R_Ratio': 0.9940619194453603, 'opt_Regularization_term': 0.2432268501863481, 'opt_Noise_Dim': 83, 'opt_Impair_LR': 0.02724941742283711, 'opt_Repair_LR': 0.09393123062313333, 'n_layers': 2}. Best is trial 36 with value: 0.5636112024809456.\n"
     ]
    },
    {
     "name": "stdout",
     "output_type": "stream",
     "text": [
      "Trial 39 finished with value: 1.0727217106108968 and parameters: {'opt_Epochs': 1, 'opt_Learning_Rate': 0.03029417413152484, 'opt_Batch_Size': 124, 'opt_N2R_Ratio': 0.9940619194453603, 'opt_Regularization_term': 0.2432268501863481, 'opt_Noise_Dim': 83, 'opt_Impair_LR': 0.02724941742283711, 'opt_Repair_LR': 0.09393123062313333, 'n_layers': 2}. Best is trial 36 with value: 0.5636112024809456.\n",
      "Trial 39 finished with value: 1.0727217106108968 and parameters: {'opt_Epochs': 1, 'opt_Learning_Rate': 0.03029417413152484, 'opt_Batch_Size': 124, 'opt_N2R_Ratio': 0.9940619194453603, 'opt_Regularization_term': 0.2432268501863481, 'opt_Noise_Dim': 83, 'opt_Impair_LR': 0.02724941742283711, 'opt_Repair_LR': 0.09393123062313333, 'n_layers': 2}. Best is trial 36 with value: 0.5636112024809456.\n"
     ]
    },
    {
     "name": "stderr",
     "output_type": "stream",
     "text": [
      "[I 2025-01-23 14:07:39,080] Trial 40 finished with value: 1.0437213108894676 and parameters: {'opt_Epochs': 3, 'opt_Learning_Rate': 0.06189285621125343, 'opt_Batch_Size': 107, 'opt_N2R_Ratio': 2.1982030003386734, 'opt_Regularization_term': 0.25737429110254895, 'opt_Noise_Dim': 132, 'opt_Impair_LR': 0.011020504014226037, 'opt_Repair_LR': 0.07972655126414974, 'n_layers': 1}. Best is trial 36 with value: 0.5636112024809456.\n"
     ]
    },
    {
     "name": "stdout",
     "output_type": "stream",
     "text": [
      "Trial 40 finished with value: 1.0437213108894676 and parameters: {'opt_Epochs': 3, 'opt_Learning_Rate': 0.06189285621125343, 'opt_Batch_Size': 107, 'opt_N2R_Ratio': 2.1982030003386734, 'opt_Regularization_term': 0.25737429110254895, 'opt_Noise_Dim': 132, 'opt_Impair_LR': 0.011020504014226037, 'opt_Repair_LR': 0.07972655126414974, 'n_layers': 1}. Best is trial 36 with value: 0.5636112024809456.\n",
      "Trial 40 finished with value: 1.0437213108894676 and parameters: {'opt_Epochs': 3, 'opt_Learning_Rate': 0.06189285621125343, 'opt_Batch_Size': 107, 'opt_N2R_Ratio': 2.1982030003386734, 'opt_Regularization_term': 0.25737429110254895, 'opt_Noise_Dim': 132, 'opt_Impair_LR': 0.011020504014226037, 'opt_Repair_LR': 0.07972655126414974, 'n_layers': 1}. Best is trial 36 with value: 0.5636112024809456.\n"
     ]
    },
    {
     "name": "stderr",
     "output_type": "stream",
     "text": [
      "[I 2025-01-23 14:08:33,142] Trial 41 finished with value: 0.5353306504006081 and parameters: {'opt_Epochs': 5, 'opt_Learning_Rate': 0.013150627318904744, 'opt_Batch_Size': 77, 'opt_N2R_Ratio': 3.3359149138503343, 'opt_Regularization_term': 0.28132097869331857, 'opt_Noise_Dim': 250, 'opt_Impair_LR': 0.026589050167683047, 'opt_Repair_LR': 0.032292713698148484, 'n_layers': 3}. Best is trial 41 with value: 0.5353306504006081.\n"
     ]
    },
    {
     "name": "stdout",
     "output_type": "stream",
     "text": [
      "Trial 41 finished with value: 0.5353306504006081 and parameters: {'opt_Epochs': 5, 'opt_Learning_Rate': 0.013150627318904744, 'opt_Batch_Size': 77, 'opt_N2R_Ratio': 3.3359149138503343, 'opt_Regularization_term': 0.28132097869331857, 'opt_Noise_Dim': 250, 'opt_Impair_LR': 0.026589050167683047, 'opt_Repair_LR': 0.032292713698148484, 'n_layers': 3}. Best is trial 41 with value: 0.5353306504006081.\n",
      "Trial 41 finished with value: 0.5353306504006081 and parameters: {'opt_Epochs': 5, 'opt_Learning_Rate': 0.013150627318904744, 'opt_Batch_Size': 77, 'opt_N2R_Ratio': 3.3359149138503343, 'opt_Regularization_term': 0.28132097869331857, 'opt_Noise_Dim': 250, 'opt_Impair_LR': 0.026589050167683047, 'opt_Repair_LR': 0.032292713698148484, 'n_layers': 3}. Best is trial 41 with value: 0.5353306504006081.\n"
     ]
    },
    {
     "name": "stderr",
     "output_type": "stream",
     "text": [
      "[I 2025-01-23 14:09:56,762] Trial 42 finished with value: 0.5479009302372626 and parameters: {'opt_Epochs': 5, 'opt_Learning_Rate': 0.023198159171286946, 'opt_Batch_Size': 46, 'opt_N2R_Ratio': 4.984271776732419, 'opt_Regularization_term': 0.28177254833017185, 'opt_Noise_Dim': 9, 'opt_Impair_LR': 0.03336217855006404, 'opt_Repair_LR': 0.038232208566147924, 'n_layers': 2}. Best is trial 41 with value: 0.5353306504006081.\n"
     ]
    },
    {
     "name": "stdout",
     "output_type": "stream",
     "text": [
      "Trial 42 finished with value: 0.5479009302372626 and parameters: {'opt_Epochs': 5, 'opt_Learning_Rate': 0.023198159171286946, 'opt_Batch_Size': 46, 'opt_N2R_Ratio': 4.984271776732419, 'opt_Regularization_term': 0.28177254833017185, 'opt_Noise_Dim': 9, 'opt_Impair_LR': 0.03336217855006404, 'opt_Repair_LR': 0.038232208566147924, 'n_layers': 2}. Best is trial 41 with value: 0.5353306504006081.\n",
      "Trial 42 finished with value: 0.5479009302372626 and parameters: {'opt_Epochs': 5, 'opt_Learning_Rate': 0.023198159171286946, 'opt_Batch_Size': 46, 'opt_N2R_Ratio': 4.984271776732419, 'opt_Regularization_term': 0.28177254833017185, 'opt_Noise_Dim': 9, 'opt_Impair_LR': 0.03336217855006404, 'opt_Repair_LR': 0.038232208566147924, 'n_layers': 2}. Best is trial 41 with value: 0.5353306504006081.\n"
     ]
    },
    {
     "name": "stderr",
     "output_type": "stream",
     "text": [
      "[I 2025-01-23 14:11:48,093] Trial 43 finished with value: 0.5162197858729263 and parameters: {'opt_Epochs': 5, 'opt_Learning_Rate': 0.010870596560368845, 'opt_Batch_Size': 32, 'opt_N2R_Ratio': 5.267804478223259, 'opt_Regularization_term': 0.26178874702239513, 'opt_Noise_Dim': 2, 'opt_Impair_LR': 0.02849207408050406, 'opt_Repair_LR': 0.0284973498493305, 'n_layers': 2}. Best is trial 43 with value: 0.5162197858729263.\n"
     ]
    },
    {
     "name": "stdout",
     "output_type": "stream",
     "text": [
      "Trial 43 finished with value: 0.5162197858729263 and parameters: {'opt_Epochs': 5, 'opt_Learning_Rate': 0.010870596560368845, 'opt_Batch_Size': 32, 'opt_N2R_Ratio': 5.267804478223259, 'opt_Regularization_term': 0.26178874702239513, 'opt_Noise_Dim': 2, 'opt_Impair_LR': 0.02849207408050406, 'opt_Repair_LR': 0.0284973498493305, 'n_layers': 2}. Best is trial 43 with value: 0.5162197858729263.\n",
      "Trial 43 finished with value: 0.5162197858729263 and parameters: {'opt_Epochs': 5, 'opt_Learning_Rate': 0.010870596560368845, 'opt_Batch_Size': 32, 'opt_N2R_Ratio': 5.267804478223259, 'opt_Regularization_term': 0.26178874702239513, 'opt_Noise_Dim': 2, 'opt_Impair_LR': 0.02849207408050406, 'opt_Repair_LR': 0.0284973498493305, 'n_layers': 2}. Best is trial 43 with value: 0.5162197858729263.\n"
     ]
    },
    {
     "name": "stderr",
     "output_type": "stream",
     "text": [
      "[I 2025-01-23 14:12:51,560] Trial 44 finished with value: 0.5272321810113617 and parameters: {'opt_Epochs': 5, 'opt_Learning_Rate': 0.012855509350974122, 'opt_Batch_Size': 32, 'opt_N2R_Ratio': 6.814609982875766, 'opt_Regularization_term': 0.28156312334097555, 'opt_Noise_Dim': 2, 'opt_Impair_LR': 0.02872942899035271, 'opt_Repair_LR': 0.030562233574242238, 'n_layers': 1}. Best is trial 43 with value: 0.5162197858729263.\n"
     ]
    },
    {
     "name": "stdout",
     "output_type": "stream",
     "text": [
      "Trial 44 finished with value: 0.5272321810113617 and parameters: {'opt_Epochs': 5, 'opt_Learning_Rate': 0.012855509350974122, 'opt_Batch_Size': 32, 'opt_N2R_Ratio': 6.814609982875766, 'opt_Regularization_term': 0.28156312334097555, 'opt_Noise_Dim': 2, 'opt_Impair_LR': 0.02872942899035271, 'opt_Repair_LR': 0.030562233574242238, 'n_layers': 1}. Best is trial 43 with value: 0.5162197858729263.\n",
      "Trial 44 finished with value: 0.5272321810113617 and parameters: {'opt_Epochs': 5, 'opt_Learning_Rate': 0.012855509350974122, 'opt_Batch_Size': 32, 'opt_N2R_Ratio': 6.814609982875766, 'opt_Regularization_term': 0.28156312334097555, 'opt_Noise_Dim': 2, 'opt_Impair_LR': 0.02872942899035271, 'opt_Repair_LR': 0.030562233574242238, 'n_layers': 1}. Best is trial 43 with value: 0.5162197858729263.\n"
     ]
    },
    {
     "name": "stderr",
     "output_type": "stream",
     "text": [
      "[I 2025-01-23 14:14:12,040] Trial 45 finished with value: 0.528498413714957 and parameters: {'opt_Epochs': 5, 'opt_Learning_Rate': 0.014793286848309092, 'opt_Batch_Size': 32, 'opt_N2R_Ratio': 8.631427645420061, 'opt_Regularization_term': 0.28465935484908095, 'opt_Noise_Dim': 42, 'opt_Impair_LR': 0.030761198843477385, 'opt_Repair_LR': 0.021047606980529522, 'n_layers': 1}. Best is trial 43 with value: 0.5162197858729263.\n"
     ]
    },
    {
     "name": "stdout",
     "output_type": "stream",
     "text": [
      "Trial 45 finished with value: 0.528498413714957 and parameters: {'opt_Epochs': 5, 'opt_Learning_Rate': 0.014793286848309092, 'opt_Batch_Size': 32, 'opt_N2R_Ratio': 8.631427645420061, 'opt_Regularization_term': 0.28465935484908095, 'opt_Noise_Dim': 42, 'opt_Impair_LR': 0.030761198843477385, 'opt_Repair_LR': 0.021047606980529522, 'n_layers': 1}. Best is trial 43 with value: 0.5162197858729263.\n",
      "Trial 45 finished with value: 0.528498413714957 and parameters: {'opt_Epochs': 5, 'opt_Learning_Rate': 0.014793286848309092, 'opt_Batch_Size': 32, 'opt_N2R_Ratio': 8.631427645420061, 'opt_Regularization_term': 0.28465935484908095, 'opt_Noise_Dim': 42, 'opt_Impair_LR': 0.030761198843477385, 'opt_Repair_LR': 0.021047606980529522, 'n_layers': 1}. Best is trial 43 with value: 0.5162197858729263.\n"
     ]
    },
    {
     "name": "stderr",
     "output_type": "stream",
     "text": [
      "[I 2025-01-23 14:15:16,854] Trial 46 finished with value: 0.487366013641053 and parameters: {'opt_Epochs': 5, 'opt_Learning_Rate': 0.011050347301515134, 'opt_Batch_Size': 38, 'opt_N2R_Ratio': 9.266986358590449, 'opt_Regularization_term': 0.2979173675162279, 'opt_Noise_Dim': 1, 'opt_Impair_LR': 0.032346172235917486, 'opt_Repair_LR': 0.02428368981809337, 'n_layers': 1}. Best is trial 46 with value: 0.487366013641053.\n"
     ]
    },
    {
     "name": "stdout",
     "output_type": "stream",
     "text": [
      "Trial 46 finished with value: 0.487366013641053 and parameters: {'opt_Epochs': 5, 'opt_Learning_Rate': 0.011050347301515134, 'opt_Batch_Size': 38, 'opt_N2R_Ratio': 9.266986358590449, 'opt_Regularization_term': 0.2979173675162279, 'opt_Noise_Dim': 1, 'opt_Impair_LR': 0.032346172235917486, 'opt_Repair_LR': 0.02428368981809337, 'n_layers': 1}. Best is trial 46 with value: 0.487366013641053.\n",
      "Trial 46 finished with value: 0.487366013641053 and parameters: {'opt_Epochs': 5, 'opt_Learning_Rate': 0.011050347301515134, 'opt_Batch_Size': 38, 'opt_N2R_Ratio': 9.266986358590449, 'opt_Regularization_term': 0.2979173675162279, 'opt_Noise_Dim': 1, 'opt_Impair_LR': 0.032346172235917486, 'opt_Repair_LR': 0.02428368981809337, 'n_layers': 1}. Best is trial 46 with value: 0.487366013641053.\n"
     ]
    },
    {
     "name": "stderr",
     "output_type": "stream",
     "text": [
      "[I 2025-01-23 14:17:42,832] Trial 47 finished with value: 0.9813368551274569 and parameters: {'opt_Epochs': 5, 'opt_Learning_Rate': 0.01628809324774514, 'opt_Batch_Size': 32, 'opt_N2R_Ratio': 9.262167919742545, 'opt_Regularization_term': 0.29817330917451207, 'opt_Noise_Dim': 63, 'opt_Impair_LR': 0.07649024872377631, 'opt_Repair_LR': 0.026633860231214616, 'n_layers': 1}. Best is trial 46 with value: 0.487366013641053.\n"
     ]
    },
    {
     "name": "stdout",
     "output_type": "stream",
     "text": [
      "Trial 47 finished with value: 0.9813368551274569 and parameters: {'opt_Epochs': 5, 'opt_Learning_Rate': 0.01628809324774514, 'opt_Batch_Size': 32, 'opt_N2R_Ratio': 9.262167919742545, 'opt_Regularization_term': 0.29817330917451207, 'opt_Noise_Dim': 63, 'opt_Impair_LR': 0.07649024872377631, 'opt_Repair_LR': 0.026633860231214616, 'n_layers': 1}. Best is trial 46 with value: 0.487366013641053.\n",
      "Trial 47 finished with value: 0.9813368551274569 and parameters: {'opt_Epochs': 5, 'opt_Learning_Rate': 0.01628809324774514, 'opt_Batch_Size': 32, 'opt_N2R_Ratio': 9.262167919742545, 'opt_Regularization_term': 0.29817330917451207, 'opt_Noise_Dim': 63, 'opt_Impair_LR': 0.07649024872377631, 'opt_Repair_LR': 0.026633860231214616, 'n_layers': 1}. Best is trial 46 with value: 0.487366013641053.\n"
     ]
    },
    {
     "name": "stderr",
     "output_type": "stream",
     "text": [
      "[I 2025-01-23 14:18:55,022] Trial 48 finished with value: 0.6426278555646854 and parameters: {'opt_Epochs': 6, 'opt_Learning_Rate': 0.040446225530336166, 'opt_Batch_Size': 39, 'opt_N2R_Ratio': 6.763093315286243, 'opt_Regularization_term': 0.2866296252978446, 'opt_Noise_Dim': 51, 'opt_Impair_LR': 0.05562634644952168, 'opt_Repair_LR': 0.023688149606495366, 'n_layers': 1}. Best is trial 46 with value: 0.487366013641053.\n"
     ]
    },
    {
     "name": "stdout",
     "output_type": "stream",
     "text": [
      "Trial 48 finished with value: 0.6426278555646854 and parameters: {'opt_Epochs': 6, 'opt_Learning_Rate': 0.040446225530336166, 'opt_Batch_Size': 39, 'opt_N2R_Ratio': 6.763093315286243, 'opt_Regularization_term': 0.2866296252978446, 'opt_Noise_Dim': 51, 'opt_Impair_LR': 0.05562634644952168, 'opt_Repair_LR': 0.023688149606495366, 'n_layers': 1}. Best is trial 46 with value: 0.487366013641053.\n",
      "Trial 48 finished with value: 0.6426278555646854 and parameters: {'opt_Epochs': 6, 'opt_Learning_Rate': 0.040446225530336166, 'opt_Batch_Size': 39, 'opt_N2R_Ratio': 6.763093315286243, 'opt_Regularization_term': 0.2866296252978446, 'opt_Noise_Dim': 51, 'opt_Impair_LR': 0.05562634644952168, 'opt_Repair_LR': 0.023688149606495366, 'n_layers': 1}. Best is trial 46 with value: 0.487366013641053.\n"
     ]
    },
    {
     "name": "stderr",
     "output_type": "stream",
     "text": [
      "[I 2025-01-23 14:20:06,874] Trial 49 finished with value: 1.7390953779220581 and parameters: {'opt_Epochs': 5, 'opt_Learning_Rate': 0.012394443799551293, 'opt_Batch_Size': 62, 'opt_N2R_Ratio': 8.225987648663992, 'opt_Regularization_term': 0.14671137595898098, 'opt_Noise_Dim': 224, 'opt_Impair_LR': 0.22074346795346117, 'opt_Repair_LR': 0.06264199538268901, 'n_layers': 1}. Best is trial 46 with value: 0.487366013641053.\n"
     ]
    },
    {
     "name": "stdout",
     "output_type": "stream",
     "text": [
      "Trial 49 finished with value: 1.7390953779220581 and parameters: {'opt_Epochs': 5, 'opt_Learning_Rate': 0.012394443799551293, 'opt_Batch_Size': 62, 'opt_N2R_Ratio': 8.225987648663992, 'opt_Regularization_term': 0.14671137595898098, 'opt_Noise_Dim': 224, 'opt_Impair_LR': 0.22074346795346117, 'opt_Repair_LR': 0.06264199538268901, 'n_layers': 1}. Best is trial 46 with value: 0.487366013641053.\n",
      "Trial 49 finished with value: 1.7390953779220581 and parameters: {'opt_Epochs': 5, 'opt_Learning_Rate': 0.012394443799551293, 'opt_Batch_Size': 62, 'opt_N2R_Ratio': 8.225987648663992, 'opt_Regularization_term': 0.14671137595898098, 'opt_Noise_Dim': 224, 'opt_Impair_LR': 0.22074346795346117, 'opt_Repair_LR': 0.06264199538268901, 'n_layers': 1}. Best is trial 46 with value: 0.487366013641053.\n"
     ]
    },
    {
     "name": "stderr",
     "output_type": "stream",
     "text": [
      "[I 2025-01-23 14:23:32,093] Trial 50 finished with value: 1.792702466376284 and parameters: {'opt_Epochs': 5, 'opt_Learning_Rate': 0.010012626960392842, 'opt_Batch_Size': 45, 'opt_N2R_Ratio': 9.771590846836622, 'opt_Regularization_term': 0.23680875235869117, 'opt_Noise_Dim': 2, 'opt_Impair_LR': 0.029522923822101005, 'opt_Repair_LR': 0.21121538183578162, 'n_layers': 9}. Best is trial 46 with value: 0.487366013641053.\n"
     ]
    },
    {
     "name": "stdout",
     "output_type": "stream",
     "text": [
      "Trial 50 finished with value: 1.792702466376284 and parameters: {'opt_Epochs': 5, 'opt_Learning_Rate': 0.010012626960392842, 'opt_Batch_Size': 45, 'opt_N2R_Ratio': 9.771590846836622, 'opt_Regularization_term': 0.23680875235869117, 'opt_Noise_Dim': 2, 'opt_Impair_LR': 0.029522923822101005, 'opt_Repair_LR': 0.21121538183578162, 'n_layers': 9}. Best is trial 46 with value: 0.487366013641053.\n",
      "Trial 50 finished with value: 1.792702466376284 and parameters: {'opt_Epochs': 5, 'opt_Learning_Rate': 0.010012626960392842, 'opt_Batch_Size': 45, 'opt_N2R_Ratio': 9.771590846836622, 'opt_Regularization_term': 0.23680875235869117, 'opt_Noise_Dim': 2, 'opt_Impair_LR': 0.029522923822101005, 'opt_Repair_LR': 0.21121538183578162, 'n_layers': 9}. Best is trial 46 with value: 0.487366013641053.\n"
     ]
    },
    {
     "name": "stderr",
     "output_type": "stream",
     "text": [
      "[I 2025-01-23 14:24:49,904] Trial 51 finished with value: 0.5032489045503291 and parameters: {'opt_Epochs': 5, 'opt_Learning_Rate': 0.02634060638897976, 'opt_Batch_Size': 46, 'opt_N2R_Ratio': 11.639232986807215, 'opt_Regularization_term': 0.2827430448666118, 'opt_Noise_Dim': 18, 'opt_Impair_LR': 0.03288065176453399, 'opt_Repair_LR': 0.03183625837007629, 'n_layers': 1}. Best is trial 46 with value: 0.487366013641053.\n"
     ]
    },
    {
     "name": "stdout",
     "output_type": "stream",
     "text": [
      "Trial 51 finished with value: 0.5032489045503291 and parameters: {'opt_Epochs': 5, 'opt_Learning_Rate': 0.02634060638897976, 'opt_Batch_Size': 46, 'opt_N2R_Ratio': 11.639232986807215, 'opt_Regularization_term': 0.2827430448666118, 'opt_Noise_Dim': 18, 'opt_Impair_LR': 0.03288065176453399, 'opt_Repair_LR': 0.03183625837007629, 'n_layers': 1}. Best is trial 46 with value: 0.487366013641053.\n",
      "Trial 51 finished with value: 0.5032489045503291 and parameters: {'opt_Epochs': 5, 'opt_Learning_Rate': 0.02634060638897976, 'opt_Batch_Size': 46, 'opt_N2R_Ratio': 11.639232986807215, 'opt_Regularization_term': 0.2827430448666118, 'opt_Noise_Dim': 18, 'opt_Impair_LR': 0.03288065176453399, 'opt_Repair_LR': 0.03183625837007629, 'n_layers': 1}. Best is trial 46 with value: 0.487366013641053.\n"
     ]
    },
    {
     "name": "stderr",
     "output_type": "stream",
     "text": [
      "[I 2025-01-23 14:27:35,802] Trial 52 finished with value: 0.5236623467283045 and parameters: {'opt_Epochs': 6, 'opt_Learning_Rate': 0.03317841780584088, 'opt_Batch_Size': 34, 'opt_N2R_Ratio': 11.302838732274306, 'opt_Regularization_term': 0.2629642707062537, 'opt_Noise_Dim': 23, 'opt_Impair_LR': 0.053974084828088076, 'opt_Repair_LR': 0.024274789796700783, 'n_layers': 1}. Best is trial 46 with value: 0.487366013641053.\n"
     ]
    },
    {
     "name": "stdout",
     "output_type": "stream",
     "text": [
      "Trial 52 finished with value: 0.5236623467283045 and parameters: {'opt_Epochs': 6, 'opt_Learning_Rate': 0.03317841780584088, 'opt_Batch_Size': 34, 'opt_N2R_Ratio': 11.302838732274306, 'opt_Regularization_term': 0.2629642707062537, 'opt_Noise_Dim': 23, 'opt_Impair_LR': 0.053974084828088076, 'opt_Repair_LR': 0.024274789796700783, 'n_layers': 1}. Best is trial 46 with value: 0.487366013641053.\n",
      "Trial 52 finished with value: 0.5236623467283045 and parameters: {'opt_Epochs': 6, 'opt_Learning_Rate': 0.03317841780584088, 'opt_Batch_Size': 34, 'opt_N2R_Ratio': 11.302838732274306, 'opt_Regularization_term': 0.2629642707062537, 'opt_Noise_Dim': 23, 'opt_Impair_LR': 0.053974084828088076, 'opt_Repair_LR': 0.024274789796700783, 'n_layers': 1}. Best is trial 46 with value: 0.487366013641053.\n"
     ]
    },
    {
     "name": "stderr",
     "output_type": "stream",
     "text": [
      "[I 2025-01-23 14:29:09,609] Trial 53 finished with value: 0.4791380806172145 and parameters: {'opt_Epochs': 6, 'opt_Learning_Rate': 0.03321044208263485, 'opt_Batch_Size': 32, 'opt_N2R_Ratio': 11.436216767997651, 'opt_Regularization_term': 0.26433785980551205, 'opt_Noise_Dim': 35, 'opt_Impair_LR': 0.053980369409177206, 'opt_Repair_LR': 0.010428244468329611, 'n_layers': 1}. Best is trial 53 with value: 0.4791380806172145.\n"
     ]
    },
    {
     "name": "stdout",
     "output_type": "stream",
     "text": [
      "Trial 53 finished with value: 0.4791380806172145 and parameters: {'opt_Epochs': 6, 'opt_Learning_Rate': 0.03321044208263485, 'opt_Batch_Size': 32, 'opt_N2R_Ratio': 11.436216767997651, 'opt_Regularization_term': 0.26433785980551205, 'opt_Noise_Dim': 35, 'opt_Impair_LR': 0.053980369409177206, 'opt_Repair_LR': 0.010428244468329611, 'n_layers': 1}. Best is trial 53 with value: 0.4791380806172145.\n",
      "Trial 53 finished with value: 0.4791380806172145 and parameters: {'opt_Epochs': 6, 'opt_Learning_Rate': 0.03321044208263485, 'opt_Batch_Size': 32, 'opt_N2R_Ratio': 11.436216767997651, 'opt_Regularization_term': 0.26433785980551205, 'opt_Noise_Dim': 35, 'opt_Impair_LR': 0.053980369409177206, 'opt_Repair_LR': 0.010428244468329611, 'n_layers': 1}. Best is trial 53 with value: 0.4791380806172145.\n"
     ]
    },
    {
     "name": "stderr",
     "output_type": "stream",
     "text": [
      "[I 2025-01-23 14:30:30,266] Trial 54 finished with value: 0.7299344662656178 and parameters: {'opt_Epochs': 6, 'opt_Learning_Rate': 0.03494728532263256, 'opt_Batch_Size': 40, 'opt_N2R_Ratio': 11.435225549067235, 'opt_Regularization_term': 0.2632048318495319, 'opt_Noise_Dim': 23, 'opt_Impair_LR': 0.05277486750907549, 'opt_Repair_LR': 0.06264433818550068, 'n_layers': 1}. Best is trial 53 with value: 0.4791380806172145.\n"
     ]
    },
    {
     "name": "stdout",
     "output_type": "stream",
     "text": [
      "Trial 54 finished with value: 0.7299344662656178 and parameters: {'opt_Epochs': 6, 'opt_Learning_Rate': 0.03494728532263256, 'opt_Batch_Size': 40, 'opt_N2R_Ratio': 11.435225549067235, 'opt_Regularization_term': 0.2632048318495319, 'opt_Noise_Dim': 23, 'opt_Impair_LR': 0.05277486750907549, 'opt_Repair_LR': 0.06264433818550068, 'n_layers': 1}. Best is trial 53 with value: 0.4791380806172145.\n",
      "Trial 54 finished with value: 0.7299344662656178 and parameters: {'opt_Epochs': 6, 'opt_Learning_Rate': 0.03494728532263256, 'opt_Batch_Size': 40, 'opt_N2R_Ratio': 11.435225549067235, 'opt_Regularization_term': 0.2632048318495319, 'opt_Noise_Dim': 23, 'opt_Impair_LR': 0.05277486750907549, 'opt_Repair_LR': 0.06264433818550068, 'n_layers': 1}. Best is trial 53 with value: 0.4791380806172145.\n"
     ]
    },
    {
     "name": "stderr",
     "output_type": "stream",
     "text": [
      "[I 2025-01-23 14:33:41,848] Trial 55 finished with value: 0.8995794259487317 and parameters: {'opt_Epochs': 6, 'opt_Learning_Rate': 0.049155761627546105, 'opt_Batch_Size': 51, 'opt_N2R_Ratio': 12.611682014744778, 'opt_Regularization_term': 0.20881381368571666, 'opt_Noise_Dim': 66, 'opt_Impair_LR': 0.06979442314507389, 'opt_Repair_LR': 0.01119364537168819, 'n_layers': 1}. Best is trial 53 with value: 0.4791380806172145.\n"
     ]
    },
    {
     "name": "stdout",
     "output_type": "stream",
     "text": [
      "Trial 55 finished with value: 0.8995794259487317 and parameters: {'opt_Epochs': 6, 'opt_Learning_Rate': 0.049155761627546105, 'opt_Batch_Size': 51, 'opt_N2R_Ratio': 12.611682014744778, 'opt_Regularization_term': 0.20881381368571666, 'opt_Noise_Dim': 66, 'opt_Impair_LR': 0.06979442314507389, 'opt_Repair_LR': 0.01119364537168819, 'n_layers': 1}. Best is trial 53 with value: 0.4791380806172145.\n",
      "Trial 55 finished with value: 0.8995794259487317 and parameters: {'opt_Epochs': 6, 'opt_Learning_Rate': 0.049155761627546105, 'opt_Batch_Size': 51, 'opt_N2R_Ratio': 12.611682014744778, 'opt_Regularization_term': 0.20881381368571666, 'opt_Noise_Dim': 66, 'opt_Impair_LR': 0.06979442314507389, 'opt_Repair_LR': 0.01119364537168819, 'n_layers': 1}. Best is trial 53 with value: 0.4791380806172145.\n"
     ]
    },
    {
     "name": "stderr",
     "output_type": "stream",
     "text": [
      "[I 2025-01-23 14:34:55,485] Trial 56 finished with value: 1.2134769444769997 and parameters: {'opt_Epochs': 6, 'opt_Learning_Rate': 0.027049258303502802, 'opt_Batch_Size': 61, 'opt_N2R_Ratio': 10.474150844235412, 'opt_Regularization_term': 0.18317185875696385, 'opt_Noise_Dim': 23, 'opt_Impair_LR': 0.10454626464278471, 'opt_Repair_LR': 0.02691386717915261, 'n_layers': 1}. Best is trial 53 with value: 0.4791380806172145.\n"
     ]
    },
    {
     "name": "stdout",
     "output_type": "stream",
     "text": [
      "Trial 56 finished with value: 1.2134769444769997 and parameters: {'opt_Epochs': 6, 'opt_Learning_Rate': 0.027049258303502802, 'opt_Batch_Size': 61, 'opt_N2R_Ratio': 10.474150844235412, 'opt_Regularization_term': 0.18317185875696385, 'opt_Noise_Dim': 23, 'opt_Impair_LR': 0.10454626464278471, 'opt_Repair_LR': 0.02691386717915261, 'n_layers': 1}. Best is trial 53 with value: 0.4791380806172145.\n",
      "Trial 56 finished with value: 1.2134769444769997 and parameters: {'opt_Epochs': 6, 'opt_Learning_Rate': 0.027049258303502802, 'opt_Batch_Size': 61, 'opt_N2R_Ratio': 10.474150844235412, 'opt_Regularization_term': 0.18317185875696385, 'opt_Noise_Dim': 23, 'opt_Impair_LR': 0.10454626464278471, 'opt_Repair_LR': 0.02691386717915261, 'n_layers': 1}. Best is trial 53 with value: 0.4791380806172145.\n"
     ]
    },
    {
     "name": "stderr",
     "output_type": "stream",
     "text": [
      "[I 2025-01-23 14:38:14,210] Trial 57 finished with value: 1.7424502266214243 and parameters: {'opt_Epochs': 8, 'opt_Learning_Rate': 0.06407913574856786, 'opt_Batch_Size': 38, 'opt_N2R_Ratio': 15.099739450883831, 'opt_Regularization_term': 0.23341985463912415, 'opt_Noise_Dim': 1, 'opt_Impair_LR': 0.05851035956842748, 'opt_Repair_LR': 0.1799485761751036, 'n_layers': 1}. Best is trial 53 with value: 0.4791380806172145.\n"
     ]
    },
    {
     "name": "stdout",
     "output_type": "stream",
     "text": [
      "Trial 57 finished with value: 1.7424502266214243 and parameters: {'opt_Epochs': 8, 'opt_Learning_Rate': 0.06407913574856786, 'opt_Batch_Size': 38, 'opt_N2R_Ratio': 15.099739450883831, 'opt_Regularization_term': 0.23341985463912415, 'opt_Noise_Dim': 1, 'opt_Impair_LR': 0.05851035956842748, 'opt_Repair_LR': 0.1799485761751036, 'n_layers': 1}. Best is trial 53 with value: 0.4791380806172145.\n",
      "Trial 57 finished with value: 1.7424502266214243 and parameters: {'opt_Epochs': 8, 'opt_Learning_Rate': 0.06407913574856786, 'opt_Batch_Size': 38, 'opt_N2R_Ratio': 15.099739450883831, 'opt_Regularization_term': 0.23341985463912415, 'opt_Noise_Dim': 1, 'opt_Impair_LR': 0.05851035956842748, 'opt_Repair_LR': 0.1799485761751036, 'n_layers': 1}. Best is trial 53 with value: 0.4791380806172145.\n"
     ]
    },
    {
     "name": "stderr",
     "output_type": "stream",
     "text": [
      "[I 2025-01-23 14:40:40,436] Trial 58 finished with value: 1.8249053929714445 and parameters: {'opt_Epochs': 6, 'opt_Learning_Rate': 0.08299079389301486, 'opt_Batch_Size': 48, 'opt_N2R_Ratio': 12.148856492190179, 'opt_Regularization_term': 0.29994889923037416, 'opt_Noise_Dim': 48, 'opt_Impair_LR': 0.08609324879826363, 'opt_Repair_LR': 0.2667378745643193, 'n_layers': 2}. Best is trial 53 with value: 0.4791380806172145.\n"
     ]
    },
    {
     "name": "stdout",
     "output_type": "stream",
     "text": [
      "Trial 58 finished with value: 1.8249053929714445 and parameters: {'opt_Epochs': 6, 'opt_Learning_Rate': 0.08299079389301486, 'opt_Batch_Size': 48, 'opt_N2R_Ratio': 12.148856492190179, 'opt_Regularization_term': 0.29994889923037416, 'opt_Noise_Dim': 48, 'opt_Impair_LR': 0.08609324879826363, 'opt_Repair_LR': 0.2667378745643193, 'n_layers': 2}. Best is trial 53 with value: 0.4791380806172145.\n",
      "Trial 58 finished with value: 1.8249053929714445 and parameters: {'opt_Epochs': 6, 'opt_Learning_Rate': 0.08299079389301486, 'opt_Batch_Size': 48, 'opt_N2R_Ratio': 12.148856492190179, 'opt_Regularization_term': 0.29994889923037416, 'opt_Noise_Dim': 48, 'opt_Impair_LR': 0.08609324879826363, 'opt_Repair_LR': 0.2667378745643193, 'n_layers': 2}. Best is trial 53 with value: 0.4791380806172145.\n"
     ]
    },
    {
     "name": "stderr",
     "output_type": "stream",
     "text": [
      "[I 2025-01-23 14:42:29,809] Trial 59 finished with value: 1.5707030674244498 and parameters: {'opt_Epochs': 4, 'opt_Learning_Rate': 0.24212156428166406, 'opt_Batch_Size': 64, 'opt_N2R_Ratio': 7.600337903610911, 'opt_Regularization_term': 0.2657440565445071, 'opt_Noise_Dim': 70, 'opt_Impair_LR': 0.2577375997103484, 'opt_Repair_LR': 0.1064179299694662, 'n_layers': 1}. Best is trial 53 with value: 0.4791380806172145.\n"
     ]
    },
    {
     "name": "stdout",
     "output_type": "stream",
     "text": [
      "Trial 59 finished with value: 1.5707030674244498 and parameters: {'opt_Epochs': 4, 'opt_Learning_Rate': 0.24212156428166406, 'opt_Batch_Size': 64, 'opt_N2R_Ratio': 7.600337903610911, 'opt_Regularization_term': 0.2657440565445071, 'opt_Noise_Dim': 70, 'opt_Impair_LR': 0.2577375997103484, 'opt_Repair_LR': 0.1064179299694662, 'n_layers': 1}. Best is trial 53 with value: 0.4791380806172145.\n",
      "Trial 59 finished with value: 1.5707030674244498 and parameters: {'opt_Epochs': 4, 'opt_Learning_Rate': 0.24212156428166406, 'opt_Batch_Size': 64, 'opt_N2R_Ratio': 7.600337903610911, 'opt_Regularization_term': 0.2657440565445071, 'opt_Noise_Dim': 70, 'opt_Impair_LR': 0.2577375997103484, 'opt_Repair_LR': 0.1064179299694662, 'n_layers': 1}. Best is trial 53 with value: 0.4791380806172145.\n"
     ]
    },
    {
     "name": "stderr",
     "output_type": "stream",
     "text": [
      "[I 2025-01-23 14:44:07,789] Trial 60 finished with value: 0.814565651721143 and parameters: {'opt_Epochs': 5, 'opt_Learning_Rate': 0.026010383673130497, 'opt_Batch_Size': 82, 'opt_N2R_Ratio': 13.61819241107347, 'opt_Regularization_term': 0.24995806899305548, 'opt_Noise_Dim': 19, 'opt_Impair_LR': 0.07097667415702304, 'opt_Repair_LR': 0.05608769711085454, 'n_layers': 2}. Best is trial 53 with value: 0.4791380806172145.\n"
     ]
    },
    {
     "name": "stdout",
     "output_type": "stream",
     "text": [
      "Trial 60 finished with value: 0.814565651721143 and parameters: {'opt_Epochs': 5, 'opt_Learning_Rate': 0.026010383673130497, 'opt_Batch_Size': 82, 'opt_N2R_Ratio': 13.61819241107347, 'opt_Regularization_term': 0.24995806899305548, 'opt_Noise_Dim': 19, 'opt_Impair_LR': 0.07097667415702304, 'opt_Repair_LR': 0.05608769711085454, 'n_layers': 2}. Best is trial 53 with value: 0.4791380806172145.\n",
      "Trial 60 finished with value: 0.814565651721143 and parameters: {'opt_Epochs': 5, 'opt_Learning_Rate': 0.026010383673130497, 'opt_Batch_Size': 82, 'opt_N2R_Ratio': 13.61819241107347, 'opt_Regularization_term': 0.24995806899305548, 'opt_Noise_Dim': 19, 'opt_Impair_LR': 0.07097667415702304, 'opt_Repair_LR': 0.05608769711085454, 'n_layers': 2}. Best is trial 53 with value: 0.4791380806172145.\n"
     ]
    },
    {
     "name": "stderr",
     "output_type": "stream",
     "text": [
      "[I 2025-01-23 14:46:32,237] Trial 61 finished with value: 0.5291110107239263 and parameters: {'opt_Epochs': 5, 'opt_Learning_Rate': 0.03901067357286879, 'opt_Batch_Size': 33, 'opt_N2R_Ratio': 9.07124931901037, 'opt_Regularization_term': 0.2893064335417303, 'opt_Noise_Dim': 43, 'opt_Impair_LR': 0.03555282804280307, 'opt_Repair_LR': 0.021340165595082727, 'n_layers': 1}. Best is trial 53 with value: 0.4791380806172145.\n"
     ]
    },
    {
     "name": "stdout",
     "output_type": "stream",
     "text": [
      "Trial 61 finished with value: 0.5291110107239263 and parameters: {'opt_Epochs': 5, 'opt_Learning_Rate': 0.03901067357286879, 'opt_Batch_Size': 33, 'opt_N2R_Ratio': 9.07124931901037, 'opt_Regularization_term': 0.2893064335417303, 'opt_Noise_Dim': 43, 'opt_Impair_LR': 0.03555282804280307, 'opt_Repair_LR': 0.021340165595082727, 'n_layers': 1}. Best is trial 53 with value: 0.4791380806172145.\n",
      "Trial 61 finished with value: 0.5291110107239263 and parameters: {'opt_Epochs': 5, 'opt_Learning_Rate': 0.03901067357286879, 'opt_Batch_Size': 33, 'opt_N2R_Ratio': 9.07124931901037, 'opt_Regularization_term': 0.2893064335417303, 'opt_Noise_Dim': 43, 'opt_Impair_LR': 0.03555282804280307, 'opt_Repair_LR': 0.021340165595082727, 'n_layers': 1}. Best is trial 53 with value: 0.4791380806172145.\n"
     ]
    },
    {
     "name": "stderr",
     "output_type": "stream",
     "text": [
      "[I 2025-01-23 14:48:01,685] Trial 62 finished with value: 0.5209856813258315 and parameters: {'opt_Epochs': 5, 'opt_Learning_Rate': 0.02380425817619697, 'opt_Batch_Size': 32, 'opt_N2R_Ratio': 11.096653304121757, 'opt_Regularization_term': 0.2822806608436501, 'opt_Noise_Dim': 33, 'opt_Impair_LR': 0.05216411541831523, 'opt_Repair_LR': 0.015060704442944248, 'n_layers': 1}. Best is trial 53 with value: 0.4791380806172145.\n"
     ]
    },
    {
     "name": "stdout",
     "output_type": "stream",
     "text": [
      "Trial 62 finished with value: 0.5209856813258315 and parameters: {'opt_Epochs': 5, 'opt_Learning_Rate': 0.02380425817619697, 'opt_Batch_Size': 32, 'opt_N2R_Ratio': 11.096653304121757, 'opt_Regularization_term': 0.2822806608436501, 'opt_Noise_Dim': 33, 'opt_Impair_LR': 0.05216411541831523, 'opt_Repair_LR': 0.015060704442944248, 'n_layers': 1}. Best is trial 53 with value: 0.4791380806172145.\n",
      "Trial 62 finished with value: 0.5209856813258315 and parameters: {'opt_Epochs': 5, 'opt_Learning_Rate': 0.02380425817619697, 'opt_Batch_Size': 32, 'opt_N2R_Ratio': 11.096653304121757, 'opt_Regularization_term': 0.2822806608436501, 'opt_Noise_Dim': 33, 'opt_Impair_LR': 0.05216411541831523, 'opt_Repair_LR': 0.015060704442944248, 'n_layers': 1}. Best is trial 53 with value: 0.4791380806172145.\n"
     ]
    },
    {
     "name": "stderr",
     "output_type": "stream",
     "text": [
      "[I 2025-01-23 14:50:08,878] Trial 63 finished with value: 0.5081105158684102 and parameters: {'opt_Epochs': 6, 'opt_Learning_Rate': 0.023194841974838287, 'opt_Batch_Size': 54, 'opt_N2R_Ratio': 11.247832397844348, 'opt_Regularization_term': 0.278454329761011, 'opt_Noise_Dim': 85, 'opt_Impair_LR': 0.05013388403546057, 'opt_Repair_LR': 0.018733028301121148, 'n_layers': 1}. Best is trial 53 with value: 0.4791380806172145.\n"
     ]
    },
    {
     "name": "stdout",
     "output_type": "stream",
     "text": [
      "Trial 63 finished with value: 0.5081105158684102 and parameters: {'opt_Epochs': 6, 'opt_Learning_Rate': 0.023194841974838287, 'opt_Batch_Size': 54, 'opt_N2R_Ratio': 11.247832397844348, 'opt_Regularization_term': 0.278454329761011, 'opt_Noise_Dim': 85, 'opt_Impair_LR': 0.05013388403546057, 'opt_Repair_LR': 0.018733028301121148, 'n_layers': 1}. Best is trial 53 with value: 0.4791380806172145.\n",
      "Trial 63 finished with value: 0.5081105158684102 and parameters: {'opt_Epochs': 6, 'opt_Learning_Rate': 0.023194841974838287, 'opt_Batch_Size': 54, 'opt_N2R_Ratio': 11.247832397844348, 'opt_Regularization_term': 0.278454329761011, 'opt_Noise_Dim': 85, 'opt_Impair_LR': 0.05013388403546057, 'opt_Repair_LR': 0.018733028301121148, 'n_layers': 1}. Best is trial 53 with value: 0.4791380806172145.\n"
     ]
    },
    {
     "name": "stderr",
     "output_type": "stream",
     "text": [
      "[I 2025-01-23 14:52:49,645] Trial 64 finished with value: 0.5927856663440132 and parameters: {'opt_Epochs': 7, 'opt_Learning_Rate': 0.07078912875287871, 'opt_Batch_Size': 55, 'opt_N2R_Ratio': 11.418649183602872, 'opt_Regularization_term': 0.26727120871588006, 'opt_Noise_Dim': 116, 'opt_Impair_LR': 0.049898131423698866, 'opt_Repair_LR': 0.010408177642646212, 'n_layers': 7}. Best is trial 53 with value: 0.4791380806172145.\n"
     ]
    },
    {
     "name": "stdout",
     "output_type": "stream",
     "text": [
      "Trial 64 finished with value: 0.5927856663440132 and parameters: {'opt_Epochs': 7, 'opt_Learning_Rate': 0.07078912875287871, 'opt_Batch_Size': 55, 'opt_N2R_Ratio': 11.418649183602872, 'opt_Regularization_term': 0.26727120871588006, 'opt_Noise_Dim': 116, 'opt_Impair_LR': 0.049898131423698866, 'opt_Repair_LR': 0.010408177642646212, 'n_layers': 7}. Best is trial 53 with value: 0.4791380806172145.\n",
      "Trial 64 finished with value: 0.5927856663440132 and parameters: {'opt_Epochs': 7, 'opt_Learning_Rate': 0.07078912875287871, 'opt_Batch_Size': 55, 'opt_N2R_Ratio': 11.418649183602872, 'opt_Regularization_term': 0.26727120871588006, 'opt_Noise_Dim': 116, 'opt_Impair_LR': 0.049898131423698866, 'opt_Repair_LR': 0.010408177642646212, 'n_layers': 7}. Best is trial 53 with value: 0.4791380806172145.\n"
     ]
    },
    {
     "name": "stderr",
     "output_type": "stream",
     "text": [
      "[I 2025-01-23 14:55:02,343] Trial 65 finished with value: 0.5434052265704947 and parameters: {'opt_Epochs': 6, 'opt_Learning_Rate': 0.05009078076425035, 'opt_Batch_Size': 41, 'opt_N2R_Ratio': 10.67695060364411, 'opt_Regularization_term': 0.012108864620142823, 'opt_Noise_Dim': 80, 'opt_Impair_LR': 0.06233353423569975, 'opt_Repair_LR': 0.04099478987713327, 'n_layers': 1}. Best is trial 53 with value: 0.4791380806172145.\n"
     ]
    },
    {
     "name": "stdout",
     "output_type": "stream",
     "text": [
      "Trial 65 finished with value: 0.5434052265704947 and parameters: {'opt_Epochs': 6, 'opt_Learning_Rate': 0.05009078076425035, 'opt_Batch_Size': 41, 'opt_N2R_Ratio': 10.67695060364411, 'opt_Regularization_term': 0.012108864620142823, 'opt_Noise_Dim': 80, 'opt_Impair_LR': 0.06233353423569975, 'opt_Repair_LR': 0.04099478987713327, 'n_layers': 1}. Best is trial 53 with value: 0.4791380806172145.\n",
      "Trial 65 finished with value: 0.5434052265704947 and parameters: {'opt_Epochs': 6, 'opt_Learning_Rate': 0.05009078076425035, 'opt_Batch_Size': 41, 'opt_N2R_Ratio': 10.67695060364411, 'opt_Regularization_term': 0.012108864620142823, 'opt_Noise_Dim': 80, 'opt_Impair_LR': 0.06233353423569975, 'opt_Repair_LR': 0.04099478987713327, 'n_layers': 1}. Best is trial 53 with value: 0.4791380806172145.\n"
     ]
    },
    {
     "name": "stderr",
     "output_type": "stream",
     "text": [
      "[I 2025-01-23 14:57:07,690] Trial 66 finished with value: 0.9381223937298387 and parameters: {'opt_Epochs': 8, 'opt_Learning_Rate': 0.298513310875701, 'opt_Batch_Size': 49, 'opt_N2R_Ratio': 12.942509231524618, 'opt_Regularization_term': 0.25886968470403876, 'opt_Noise_Dim': 57, 'opt_Impair_LR': 0.08196109116737865, 'opt_Repair_LR': 0.016817577900841162, 'n_layers': 2}. Best is trial 53 with value: 0.4791380806172145.\n"
     ]
    },
    {
     "name": "stdout",
     "output_type": "stream",
     "text": [
      "Trial 66 finished with value: 0.9381223937298387 and parameters: {'opt_Epochs': 8, 'opt_Learning_Rate': 0.298513310875701, 'opt_Batch_Size': 49, 'opt_N2R_Ratio': 12.942509231524618, 'opt_Regularization_term': 0.25886968470403876, 'opt_Noise_Dim': 57, 'opt_Impair_LR': 0.08196109116737865, 'opt_Repair_LR': 0.016817577900841162, 'n_layers': 2}. Best is trial 53 with value: 0.4791380806172145.\n",
      "Trial 66 finished with value: 0.9381223937298387 and parameters: {'opt_Epochs': 8, 'opt_Learning_Rate': 0.298513310875701, 'opt_Batch_Size': 49, 'opt_N2R_Ratio': 12.942509231524618, 'opt_Regularization_term': 0.25886968470403876, 'opt_Noise_Dim': 57, 'opt_Impair_LR': 0.08196109116737865, 'opt_Repair_LR': 0.016817577900841162, 'n_layers': 2}. Best is trial 53 with value: 0.4791380806172145.\n"
     ]
    },
    {
     "name": "stderr",
     "output_type": "stream",
     "text": [
      "[I 2025-01-23 14:59:21,254] Trial 67 finished with value: 1.1172602725155816 and parameters: {'opt_Epochs': 6, 'opt_Learning_Rate': 0.023063173403552146, 'opt_Batch_Size': 67, 'opt_N2R_Ratio': 9.874627587334894, 'opt_Regularization_term': 0.2759030704921745, 'opt_Noise_Dim': 87, 'opt_Impair_LR': 0.09683177711725671, 'opt_Repair_LR': 0.030035175364758693, 'n_layers': 1}. Best is trial 53 with value: 0.4791380806172145.\n"
     ]
    },
    {
     "name": "stdout",
     "output_type": "stream",
     "text": [
      "Trial 67 finished with value: 1.1172602725155816 and parameters: {'opt_Epochs': 6, 'opt_Learning_Rate': 0.023063173403552146, 'opt_Batch_Size': 67, 'opt_N2R_Ratio': 9.874627587334894, 'opt_Regularization_term': 0.2759030704921745, 'opt_Noise_Dim': 87, 'opt_Impair_LR': 0.09683177711725671, 'opt_Repair_LR': 0.030035175364758693, 'n_layers': 1}. Best is trial 53 with value: 0.4791380806172145.\n",
      "Trial 67 finished with value: 1.1172602725155816 and parameters: {'opt_Epochs': 6, 'opt_Learning_Rate': 0.023063173403552146, 'opt_Batch_Size': 67, 'opt_N2R_Ratio': 9.874627587334894, 'opt_Regularization_term': 0.2759030704921745, 'opt_Noise_Dim': 87, 'opt_Impair_LR': 0.09683177711725671, 'opt_Repair_LR': 0.030035175364758693, 'n_layers': 1}. Best is trial 53 with value: 0.4791380806172145.\n"
     ]
    },
    {
     "name": "stderr",
     "output_type": "stream",
     "text": [
      "[I 2025-01-23 15:01:53,161] Trial 68 finished with value: 0.5112988625435123 and parameters: {'opt_Epochs': 7, 'opt_Learning_Rate': 0.03607214286927268, 'opt_Batch_Size': 56, 'opt_N2R_Ratio': 16.970247931672382, 'opt_Regularization_term': 0.24323830046598893, 'opt_Noise_Dim': 28, 'opt_Impair_LR': 0.048456082400124736, 'opt_Repair_LR': 0.01918427033166077, 'n_layers': 2}. Best is trial 53 with value: 0.4791380806172145.\n"
     ]
    },
    {
     "name": "stdout",
     "output_type": "stream",
     "text": [
      "Trial 68 finished with value: 0.5112988625435123 and parameters: {'opt_Epochs': 7, 'opt_Learning_Rate': 0.03607214286927268, 'opt_Batch_Size': 56, 'opt_N2R_Ratio': 16.970247931672382, 'opt_Regularization_term': 0.24323830046598893, 'opt_Noise_Dim': 28, 'opt_Impair_LR': 0.048456082400124736, 'opt_Repair_LR': 0.01918427033166077, 'n_layers': 2}. Best is trial 53 with value: 0.4791380806172145.\n",
      "Trial 68 finished with value: 0.5112988625435123 and parameters: {'opt_Epochs': 7, 'opt_Learning_Rate': 0.03607214286927268, 'opt_Batch_Size': 56, 'opt_N2R_Ratio': 16.970247931672382, 'opt_Regularization_term': 0.24323830046598893, 'opt_Noise_Dim': 28, 'opt_Impair_LR': 0.048456082400124736, 'opt_Repair_LR': 0.01918427033166077, 'n_layers': 2}. Best is trial 53 with value: 0.4791380806172145.\n"
     ]
    },
    {
     "name": "stderr",
     "output_type": "stream",
     "text": [
      "[I 2025-01-23 15:05:44,328] Trial 69 finished with value: 0.5498138616059691 and parameters: {'opt_Epochs': 7, 'opt_Learning_Rate': 0.08997580881291108, 'opt_Batch_Size': 55, 'opt_N2R_Ratio': 16.40006626307504, 'opt_Regularization_term': 0.29234643590471415, 'opt_Noise_Dim': 449, 'opt_Impair_LR': 0.019488674961954534, 'opt_Repair_LR': 0.016965145594153463, 'n_layers': 3}. Best is trial 53 with value: 0.4791380806172145.\n"
     ]
    },
    {
     "name": "stdout",
     "output_type": "stream",
     "text": [
      "Trial 69 finished with value: 0.5498138616059691 and parameters: {'opt_Epochs': 7, 'opt_Learning_Rate': 0.08997580881291108, 'opt_Batch_Size': 55, 'opt_N2R_Ratio': 16.40006626307504, 'opt_Regularization_term': 0.29234643590471415, 'opt_Noise_Dim': 449, 'opt_Impair_LR': 0.019488674961954534, 'opt_Repair_LR': 0.016965145594153463, 'n_layers': 3}. Best is trial 53 with value: 0.4791380806172145.\n",
      "Trial 69 finished with value: 0.5498138616059691 and parameters: {'opt_Epochs': 7, 'opt_Learning_Rate': 0.08997580881291108, 'opt_Batch_Size': 55, 'opt_N2R_Ratio': 16.40006626307504, 'opt_Regularization_term': 0.29234643590471415, 'opt_Noise_Dim': 449, 'opt_Impair_LR': 0.019488674961954534, 'opt_Repair_LR': 0.016965145594153463, 'n_layers': 3}. Best is trial 53 with value: 0.4791380806172145.\n"
     ]
    },
    {
     "name": "stderr",
     "output_type": "stream",
     "text": [
      "[I 2025-01-23 15:08:31,406] Trial 70 finished with value: 0.5679666505215014 and parameters: {'opt_Epochs': 7, 'opt_Learning_Rate': 0.03928053447349392, 'opt_Batch_Size': 83, 'opt_N2R_Ratio': 19.234057867241432, 'opt_Regularization_term': 0.2393612975931198, 'opt_Noise_Dim': 149, 'opt_Impair_LR': 0.04325579952880861, 'opt_Repair_LR': 0.04330813235807629, 'n_layers': 2}. Best is trial 53 with value: 0.4791380806172145.\n"
     ]
    },
    {
     "name": "stdout",
     "output_type": "stream",
     "text": [
      "Trial 70 finished with value: 0.5679666505215014 and parameters: {'opt_Epochs': 7, 'opt_Learning_Rate': 0.03928053447349392, 'opt_Batch_Size': 83, 'opt_N2R_Ratio': 19.234057867241432, 'opt_Regularization_term': 0.2393612975931198, 'opt_Noise_Dim': 149, 'opt_Impair_LR': 0.04325579952880861, 'opt_Repair_LR': 0.04330813235807629, 'n_layers': 2}. Best is trial 53 with value: 0.4791380806172145.\n",
      "Trial 70 finished with value: 0.5679666505215014 and parameters: {'opt_Epochs': 7, 'opt_Learning_Rate': 0.03928053447349392, 'opt_Batch_Size': 83, 'opt_N2R_Ratio': 19.234057867241432, 'opt_Regularization_term': 0.2393612975931198, 'opt_Noise_Dim': 149, 'opt_Impair_LR': 0.04325579952880861, 'opt_Repair_LR': 0.04330813235807629, 'n_layers': 2}. Best is trial 53 with value: 0.4791380806172145.\n"
     ]
    },
    {
     "name": "stderr",
     "output_type": "stream",
     "text": [
      "[I 2025-01-23 15:10:40,559] Trial 71 finished with value: 0.5294900479468897 and parameters: {'opt_Epochs': 6, 'opt_Learning_Rate': 0.05266871525587494, 'opt_Batch_Size': 40, 'opt_N2R_Ratio': 11.4614701863728, 'opt_Regularization_term': 0.2537517307955525, 'opt_Noise_Dim': 33, 'opt_Impair_LR': 0.04981441049197934, 'opt_Repair_LR': 0.020675258195305288, 'n_layers': 1}. Best is trial 53 with value: 0.4791380806172145.\n"
     ]
    },
    {
     "name": "stdout",
     "output_type": "stream",
     "text": [
      "Trial 71 finished with value: 0.5294900479468897 and parameters: {'opt_Epochs': 6, 'opt_Learning_Rate': 0.05266871525587494, 'opt_Batch_Size': 40, 'opt_N2R_Ratio': 11.4614701863728, 'opt_Regularization_term': 0.2537517307955525, 'opt_Noise_Dim': 33, 'opt_Impair_LR': 0.04981441049197934, 'opt_Repair_LR': 0.020675258195305288, 'n_layers': 1}. Best is trial 53 with value: 0.4791380806172145.\n",
      "Trial 71 finished with value: 0.5294900479468897 and parameters: {'opt_Epochs': 6, 'opt_Learning_Rate': 0.05266871525587494, 'opt_Batch_Size': 40, 'opt_N2R_Ratio': 11.4614701863728, 'opt_Regularization_term': 0.2537517307955525, 'opt_Noise_Dim': 33, 'opt_Impair_LR': 0.04981441049197934, 'opt_Repair_LR': 0.020675258195305288, 'n_layers': 1}. Best is trial 53 with value: 0.4791380806172145.\n"
     ]
    },
    {
     "name": "stderr",
     "output_type": "stream",
     "text": [
      "[I 2025-01-23 15:14:31,335] Trial 72 finished with value: 0.5920502321517211 and parameters: {'opt_Epochs': 8, 'opt_Learning_Rate': 0.033764038840204715, 'opt_Batch_Size': 46, 'opt_N2R_Ratio': 14.390069380734964, 'opt_Regularization_term': 0.2299590538874125, 'opt_Noise_Dim': 20, 'opt_Impair_LR': 0.06366013945426806, 'opt_Repair_LR': 0.036790765508751926, 'n_layers': 6}. Best is trial 53 with value: 0.4791380806172145.\n"
     ]
    },
    {
     "name": "stdout",
     "output_type": "stream",
     "text": [
      "Trial 72 finished with value: 0.5920502321517211 and parameters: {'opt_Epochs': 8, 'opt_Learning_Rate': 0.033764038840204715, 'opt_Batch_Size': 46, 'opt_N2R_Ratio': 14.390069380734964, 'opt_Regularization_term': 0.2299590538874125, 'opt_Noise_Dim': 20, 'opt_Impair_LR': 0.06366013945426806, 'opt_Repair_LR': 0.036790765508751926, 'n_layers': 6}. Best is trial 53 with value: 0.4791380806172145.\n",
      "Trial 72 finished with value: 0.5920502321517211 and parameters: {'opt_Epochs': 8, 'opt_Learning_Rate': 0.033764038840204715, 'opt_Batch_Size': 46, 'opt_N2R_Ratio': 14.390069380734964, 'opt_Regularization_term': 0.2299590538874125, 'opt_Noise_Dim': 20, 'opt_Impair_LR': 0.06366013945426806, 'opt_Repair_LR': 0.036790765508751926, 'n_layers': 6}. Best is trial 53 with value: 0.4791380806172145.\n"
     ]
    },
    {
     "name": "stderr",
     "output_type": "stream",
     "text": [
      "[I 2025-01-23 15:15:51,369] Trial 73 finished with value: 0.8584417624676481 and parameters: {'opt_Epochs': 4, 'opt_Learning_Rate': 0.023046988494164873, 'opt_Batch_Size': 38, 'opt_N2R_Ratio': 12.34705140116034, 'opt_Regularization_term': 0.21747061195765874, 'opt_Noise_Dim': 58, 'opt_Impair_LR': 0.07224526246669812, 'opt_Repair_LR': 0.053431918068702074, 'n_layers': 2}. Best is trial 53 with value: 0.4791380806172145.\n"
     ]
    },
    {
     "name": "stdout",
     "output_type": "stream",
     "text": [
      "Trial 73 finished with value: 0.8584417624676481 and parameters: {'opt_Epochs': 4, 'opt_Learning_Rate': 0.023046988494164873, 'opt_Batch_Size': 38, 'opt_N2R_Ratio': 12.34705140116034, 'opt_Regularization_term': 0.21747061195765874, 'opt_Noise_Dim': 58, 'opt_Impair_LR': 0.07224526246669812, 'opt_Repair_LR': 0.053431918068702074, 'n_layers': 2}. Best is trial 53 with value: 0.4791380806172145.\n",
      "Trial 73 finished with value: 0.8584417624676481 and parameters: {'opt_Epochs': 4, 'opt_Learning_Rate': 0.023046988494164873, 'opt_Batch_Size': 38, 'opt_N2R_Ratio': 12.34705140116034, 'opt_Regularization_term': 0.21747061195765874, 'opt_Noise_Dim': 58, 'opt_Impair_LR': 0.07224526246669812, 'opt_Repair_LR': 0.053431918068702074, 'n_layers': 2}. Best is trial 53 with value: 0.4791380806172145.\n"
     ]
    },
    {
     "name": "stderr",
     "output_type": "stream",
     "text": [
      "[I 2025-01-23 15:19:25,952] Trial 74 finished with value: 0.7840559222596756 and parameters: {'opt_Epochs': 7, 'opt_Learning_Rate': 0.057559850542416094, 'opt_Batch_Size': 57, 'opt_N2R_Ratio': 17.517314588307194, 'opt_Regularization_term': 0.26393173937500364, 'opt_Noise_Dim': 32, 'opt_Impair_LR': 0.03659583233197427, 'opt_Repair_LR': 0.0715220207239206, 'n_layers': 1}. Best is trial 53 with value: 0.4791380806172145.\n"
     ]
    },
    {
     "name": "stdout",
     "output_type": "stream",
     "text": [
      "Trial 74 finished with value: 0.7840559222596756 and parameters: {'opt_Epochs': 7, 'opt_Learning_Rate': 0.057559850542416094, 'opt_Batch_Size': 57, 'opt_N2R_Ratio': 17.517314588307194, 'opt_Regularization_term': 0.26393173937500364, 'opt_Noise_Dim': 32, 'opt_Impair_LR': 0.03659583233197427, 'opt_Repair_LR': 0.0715220207239206, 'n_layers': 1}. Best is trial 53 with value: 0.4791380806172145.\n",
      "Trial 74 finished with value: 0.7840559222596756 and parameters: {'opt_Epochs': 7, 'opt_Learning_Rate': 0.057559850542416094, 'opt_Batch_Size': 57, 'opt_N2R_Ratio': 17.517314588307194, 'opt_Regularization_term': 0.26393173937500364, 'opt_Noise_Dim': 32, 'opt_Impair_LR': 0.03659583233197427, 'opt_Repair_LR': 0.0715220207239206, 'n_layers': 1}. Best is trial 53 with value: 0.4791380806172145.\n"
     ]
    },
    {
     "name": "stderr",
     "output_type": "stream",
     "text": [
      "[I 2025-01-23 15:21:43,457] Trial 75 finished with value: 1.690361471379058 and parameters: {'opt_Epochs': 6, 'opt_Learning_Rate': 0.045658973432315106, 'opt_Batch_Size': 50, 'opt_N2R_Ratio': 13.472227222493203, 'opt_Regularization_term': 0.24728882663210178, 'opt_Noise_Dim': 13, 'opt_Impair_LR': 0.04668296427756984, 'opt_Repair_LR': 0.1370598181442397, 'n_layers': 2}. Best is trial 53 with value: 0.4791380806172145.\n"
     ]
    },
    {
     "name": "stdout",
     "output_type": "stream",
     "text": [
      "Trial 75 finished with value: 1.690361471379058 and parameters: {'opt_Epochs': 6, 'opt_Learning_Rate': 0.045658973432315106, 'opt_Batch_Size': 50, 'opt_N2R_Ratio': 13.472227222493203, 'opt_Regularization_term': 0.24728882663210178, 'opt_Noise_Dim': 13, 'opt_Impair_LR': 0.04668296427756984, 'opt_Repair_LR': 0.1370598181442397, 'n_layers': 2}. Best is trial 53 with value: 0.4791380806172145.\n",
      "Trial 75 finished with value: 1.690361471379058 and parameters: {'opt_Epochs': 6, 'opt_Learning_Rate': 0.045658973432315106, 'opt_Batch_Size': 50, 'opt_N2R_Ratio': 13.472227222493203, 'opt_Regularization_term': 0.24728882663210178, 'opt_Noise_Dim': 13, 'opt_Impair_LR': 0.04668296427756984, 'opt_Repair_LR': 0.1370598181442397, 'n_layers': 2}. Best is trial 53 with value: 0.4791380806172145.\n"
     ]
    },
    {
     "name": "stderr",
     "output_type": "stream",
     "text": [
      "[I 2025-01-23 15:23:55,878] Trial 76 finished with value: 1.4345119206195178 and parameters: {'opt_Epochs': 5, 'opt_Learning_Rate': 0.034259652702541964, 'opt_Batch_Size': 255, 'opt_N2R_Ratio': 10.295154455044147, 'opt_Regularization_term': 0.2785403727131807, 'opt_Noise_Dim': 40, 'opt_Impair_LR': 0.17255029503840194, 'opt_Repair_LR': 0.02583887662937638, 'n_layers': 1}. Best is trial 53 with value: 0.4791380806172145.\n"
     ]
    },
    {
     "name": "stdout",
     "output_type": "stream",
     "text": [
      "Trial 76 finished with value: 1.4345119206195178 and parameters: {'opt_Epochs': 5, 'opt_Learning_Rate': 0.034259652702541964, 'opt_Batch_Size': 255, 'opt_N2R_Ratio': 10.295154455044147, 'opt_Regularization_term': 0.2785403727131807, 'opt_Noise_Dim': 40, 'opt_Impair_LR': 0.17255029503840194, 'opt_Repair_LR': 0.02583887662937638, 'n_layers': 1}. Best is trial 53 with value: 0.4791380806172145.\n",
      "Trial 76 finished with value: 1.4345119206195178 and parameters: {'opt_Epochs': 5, 'opt_Learning_Rate': 0.034259652702541964, 'opt_Batch_Size': 255, 'opt_N2R_Ratio': 10.295154455044147, 'opt_Regularization_term': 0.2785403727131807, 'opt_Noise_Dim': 40, 'opt_Impair_LR': 0.17255029503840194, 'opt_Repair_LR': 0.02583887662937638, 'n_layers': 1}. Best is trial 53 with value: 0.4791380806172145.\n"
     ]
    },
    {
     "name": "stderr",
     "output_type": "stream",
     "text": [
      "[I 2025-01-23 15:25:23,656] Trial 77 finished with value: 0.5684367303518533 and parameters: {'opt_Epochs': 6, 'opt_Learning_Rate': 0.022086254728896842, 'opt_Batch_Size': 69, 'opt_N2R_Ratio': 11.161630653177314, 'opt_Regularization_term': 0.2915843362228355, 'opt_Noise_Dim': 74, 'opt_Impair_LR': 0.023683972413342677, 'opt_Repair_LR': 0.011332655670255948, 'n_layers': 2}. Best is trial 53 with value: 0.4791380806172145.\n"
     ]
    },
    {
     "name": "stdout",
     "output_type": "stream",
     "text": [
      "Trial 77 finished with value: 0.5684367303518533 and parameters: {'opt_Epochs': 6, 'opt_Learning_Rate': 0.022086254728896842, 'opt_Batch_Size': 69, 'opt_N2R_Ratio': 11.161630653177314, 'opt_Regularization_term': 0.2915843362228355, 'opt_Noise_Dim': 74, 'opt_Impair_LR': 0.023683972413342677, 'opt_Repair_LR': 0.011332655670255948, 'n_layers': 2}. Best is trial 53 with value: 0.4791380806172145.\n",
      "Trial 77 finished with value: 0.5684367303518533 and parameters: {'opt_Epochs': 6, 'opt_Learning_Rate': 0.022086254728896842, 'opt_Batch_Size': 69, 'opt_N2R_Ratio': 11.161630653177314, 'opt_Regularization_term': 0.2915843362228355, 'opt_Noise_Dim': 74, 'opt_Impair_LR': 0.023683972413342677, 'opt_Repair_LR': 0.011332655670255948, 'n_layers': 2}. Best is trial 53 with value: 0.4791380806172145.\n"
     ]
    },
    {
     "name": "stderr",
     "output_type": "stream",
     "text": [
      "[I 2025-01-23 15:28:51,108] Trial 78 finished with value: 0.662758162554274 and parameters: {'opt_Epochs': 4, 'opt_Learning_Rate': 0.029865204697305997, 'opt_Batch_Size': 35, 'opt_N2R_Ratio': 15.521652888164656, 'opt_Regularization_term': 0.2746533690784581, 'opt_Noise_Dim': 22, 'opt_Impair_LR': 0.057896665784504434, 'opt_Repair_LR': 0.04636868307337594, 'n_layers': 3}. Best is trial 53 with value: 0.4791380806172145.\n"
     ]
    },
    {
     "name": "stdout",
     "output_type": "stream",
     "text": [
      "Trial 78 finished with value: 0.662758162554274 and parameters: {'opt_Epochs': 4, 'opt_Learning_Rate': 0.029865204697305997, 'opt_Batch_Size': 35, 'opt_N2R_Ratio': 15.521652888164656, 'opt_Regularization_term': 0.2746533690784581, 'opt_Noise_Dim': 22, 'opt_Impair_LR': 0.057896665784504434, 'opt_Repair_LR': 0.04636868307337594, 'n_layers': 3}. Best is trial 53 with value: 0.4791380806172145.\n",
      "Trial 78 finished with value: 0.662758162554274 and parameters: {'opt_Epochs': 4, 'opt_Learning_Rate': 0.029865204697305997, 'opt_Batch_Size': 35, 'opt_N2R_Ratio': 15.521652888164656, 'opt_Regularization_term': 0.2746533690784581, 'opt_Noise_Dim': 22, 'opt_Impair_LR': 0.057896665784504434, 'opt_Repair_LR': 0.04636868307337594, 'n_layers': 3}. Best is trial 53 with value: 0.4791380806172145.\n"
     ]
    },
    {
     "name": "stderr",
     "output_type": "stream",
     "text": [
      "[I 2025-01-23 15:30:11,751] Trial 79 finished with value: 0.5480261888909846 and parameters: {'opt_Epochs': 7, 'opt_Learning_Rate': 0.04202356071161996, 'opt_Batch_Size': 45, 'opt_N2R_Ratio': 11.721591170440732, 'opt_Regularization_term': 0.26637002975498986, 'opt_Noise_Dim': 90, 'opt_Impair_LR': 0.02049670390828983, 'opt_Repair_LR': 0.034355983831396306, 'n_layers': 1}. Best is trial 53 with value: 0.4791380806172145.\n"
     ]
    },
    {
     "name": "stdout",
     "output_type": "stream",
     "text": [
      "Trial 79 finished with value: 0.5480261888909846 and parameters: {'opt_Epochs': 7, 'opt_Learning_Rate': 0.04202356071161996, 'opt_Batch_Size': 45, 'opt_N2R_Ratio': 11.721591170440732, 'opt_Regularization_term': 0.26637002975498986, 'opt_Noise_Dim': 90, 'opt_Impair_LR': 0.02049670390828983, 'opt_Repair_LR': 0.034355983831396306, 'n_layers': 1}. Best is trial 53 with value: 0.4791380806172145.\n",
      "Trial 79 finished with value: 0.5480261888909846 and parameters: {'opt_Epochs': 7, 'opt_Learning_Rate': 0.04202356071161996, 'opt_Batch_Size': 45, 'opt_N2R_Ratio': 11.721591170440732, 'opt_Regularization_term': 0.26637002975498986, 'opt_Noise_Dim': 90, 'opt_Impair_LR': 0.02049670390828983, 'opt_Repair_LR': 0.034355983831396306, 'n_layers': 1}. Best is trial 53 with value: 0.4791380806172145.\n"
     ]
    },
    {
     "name": "stderr",
     "output_type": "stream",
     "text": [
      "[I 2025-01-23 15:33:22,655] Trial 80 finished with value: 1.7492010025267897 and parameters: {'opt_Epochs': 5, 'opt_Learning_Rate': 0.19628748878070865, 'opt_Batch_Size': 226, 'opt_N2R_Ratio': 14.256809255452858, 'opt_Regularization_term': 0.2874755138627621, 'opt_Noise_Dim': 51, 'opt_Impair_LR': 0.03918675422105888, 'opt_Repair_LR': 0.15512570889454508, 'n_layers': 2}. Best is trial 53 with value: 0.4791380806172145.\n"
     ]
    },
    {
     "name": "stdout",
     "output_type": "stream",
     "text": [
      "Trial 80 finished with value: 1.7492010025267897 and parameters: {'opt_Epochs': 5, 'opt_Learning_Rate': 0.19628748878070865, 'opt_Batch_Size': 226, 'opt_N2R_Ratio': 14.256809255452858, 'opt_Regularization_term': 0.2874755138627621, 'opt_Noise_Dim': 51, 'opt_Impair_LR': 0.03918675422105888, 'opt_Repair_LR': 0.15512570889454508, 'n_layers': 2}. Best is trial 53 with value: 0.4791380806172145.\n",
      "Trial 80 finished with value: 1.7492010025267897 and parameters: {'opt_Epochs': 5, 'opt_Learning_Rate': 0.19628748878070865, 'opt_Batch_Size': 226, 'opt_N2R_Ratio': 14.256809255452858, 'opt_Regularization_term': 0.2874755138627621, 'opt_Noise_Dim': 51, 'opt_Impair_LR': 0.03918675422105888, 'opt_Repair_LR': 0.15512570889454508, 'n_layers': 2}. Best is trial 53 with value: 0.4791380806172145.\n"
     ]
    },
    {
     "name": "stderr",
     "output_type": "stream",
     "text": [
      "[I 2025-01-23 15:34:23,543] Trial 81 finished with value: 0.5265915470554473 and parameters: {'opt_Epochs': 5, 'opt_Learning_Rate': 0.018424349199257152, 'opt_Batch_Size': 32, 'opt_N2R_Ratio': 9.3815695637366, 'opt_Regularization_term': 0.27887888053680787, 'opt_Noise_Dim': 7, 'opt_Impair_LR': 0.03632365053255553, 'opt_Repair_LR': 0.030679667268728533, 'n_layers': 1}. Best is trial 53 with value: 0.4791380806172145.\n"
     ]
    },
    {
     "name": "stdout",
     "output_type": "stream",
     "text": [
      "Trial 81 finished with value: 0.5265915470554473 and parameters: {'opt_Epochs': 5, 'opt_Learning_Rate': 0.018424349199257152, 'opt_Batch_Size': 32, 'opt_N2R_Ratio': 9.3815695637366, 'opt_Regularization_term': 0.27887888053680787, 'opt_Noise_Dim': 7, 'opt_Impair_LR': 0.03632365053255553, 'opt_Repair_LR': 0.030679667268728533, 'n_layers': 1}. Best is trial 53 with value: 0.4791380806172145.\n",
      "Trial 81 finished with value: 0.5265915470554473 and parameters: {'opt_Epochs': 5, 'opt_Learning_Rate': 0.018424349199257152, 'opt_Batch_Size': 32, 'opt_N2R_Ratio': 9.3815695637366, 'opt_Regularization_term': 0.27887888053680787, 'opt_Noise_Dim': 7, 'opt_Impair_LR': 0.03632365053255553, 'opt_Repair_LR': 0.030679667268728533, 'n_layers': 1}. Best is trial 53 with value: 0.4791380806172145.\n"
     ]
    },
    {
     "name": "stderr",
     "output_type": "stream",
     "text": [
      "[I 2025-01-23 15:36:41,899] Trial 82 finished with value: 0.5305172705269876 and parameters: {'opt_Epochs': 5, 'opt_Learning_Rate': 0.019595424989169784, 'opt_Batch_Size': 43, 'opt_N2R_Ratio': 9.149294175261169, 'opt_Regularization_term': 0.25578025801016463, 'opt_Noise_Dim': 16, 'opt_Impair_LR': 0.052216293693945044, 'opt_Repair_LR': 0.016592294360408228, 'n_layers': 1}. Best is trial 53 with value: 0.4791380806172145.\n"
     ]
    },
    {
     "name": "stdout",
     "output_type": "stream",
     "text": [
      "Trial 82 finished with value: 0.5305172705269876 and parameters: {'opt_Epochs': 5, 'opt_Learning_Rate': 0.019595424989169784, 'opt_Batch_Size': 43, 'opt_N2R_Ratio': 9.149294175261169, 'opt_Regularization_term': 0.25578025801016463, 'opt_Noise_Dim': 16, 'opt_Impair_LR': 0.052216293693945044, 'opt_Repair_LR': 0.016592294360408228, 'n_layers': 1}. Best is trial 53 with value: 0.4791380806172145.\n",
      "Trial 82 finished with value: 0.5305172705269876 and parameters: {'opt_Epochs': 5, 'opt_Learning_Rate': 0.019595424989169784, 'opt_Batch_Size': 43, 'opt_N2R_Ratio': 9.149294175261169, 'opt_Regularization_term': 0.25578025801016463, 'opt_Noise_Dim': 16, 'opt_Impair_LR': 0.052216293693945044, 'opt_Repair_LR': 0.016592294360408228, 'n_layers': 1}. Best is trial 53 with value: 0.4791380806172145.\n"
     ]
    },
    {
     "name": "stderr",
     "output_type": "stream",
     "text": [
      "[I 2025-01-23 15:38:20,852] Trial 83 finished with value: 0.5425563003788604 and parameters: {'opt_Epochs': 6, 'opt_Learning_Rate': 0.019568905049816926, 'opt_Batch_Size': 37, 'opt_N2R_Ratio': 10.961650036201585, 'opt_Regularization_term': 0.2782163835478972, 'opt_Noise_Dim': 1, 'opt_Impair_LR': 0.0195066014168932, 'opt_Repair_LR': 0.02867379808156355, 'n_layers': 1}. Best is trial 53 with value: 0.4791380806172145.\n"
     ]
    },
    {
     "name": "stdout",
     "output_type": "stream",
     "text": [
      "Trial 83 finished with value: 0.5425563003788604 and parameters: {'opt_Epochs': 6, 'opt_Learning_Rate': 0.019568905049816926, 'opt_Batch_Size': 37, 'opt_N2R_Ratio': 10.961650036201585, 'opt_Regularization_term': 0.2782163835478972, 'opt_Noise_Dim': 1, 'opt_Impair_LR': 0.0195066014168932, 'opt_Repair_LR': 0.02867379808156355, 'n_layers': 1}. Best is trial 53 with value: 0.4791380806172145.\n",
      "Trial 83 finished with value: 0.5425563003788604 and parameters: {'opt_Epochs': 6, 'opt_Learning_Rate': 0.019568905049816926, 'opt_Batch_Size': 37, 'opt_N2R_Ratio': 10.961650036201585, 'opt_Regularization_term': 0.2782163835478972, 'opt_Noise_Dim': 1, 'opt_Impair_LR': 0.0195066014168932, 'opt_Repair_LR': 0.02867379808156355, 'n_layers': 1}. Best is trial 53 with value: 0.4791380806172145.\n"
     ]
    },
    {
     "name": "stderr",
     "output_type": "stream",
     "text": [
      "[I 2025-01-23 15:39:39,796] Trial 84 finished with value: 0.5468093297582994 and parameters: {'opt_Epochs': 5, 'opt_Learning_Rate': 0.2734441025613207, 'opt_Batch_Size': 198, 'opt_N2R_Ratio': 9.612571608543963, 'opt_Regularization_term': 0.0416268879314963, 'opt_Noise_Dim': 32, 'opt_Impair_LR': 0.03607514210621358, 'opt_Repair_LR': 0.04416815765818666, 'n_layers': 1}. Best is trial 53 with value: 0.4791380806172145.\n"
     ]
    },
    {
     "name": "stdout",
     "output_type": "stream",
     "text": [
      "Trial 84 finished with value: 0.5468093297582994 and parameters: {'opt_Epochs': 5, 'opt_Learning_Rate': 0.2734441025613207, 'opt_Batch_Size': 198, 'opt_N2R_Ratio': 9.612571608543963, 'opt_Regularization_term': 0.0416268879314963, 'opt_Noise_Dim': 32, 'opt_Impair_LR': 0.03607514210621358, 'opt_Repair_LR': 0.04416815765818666, 'n_layers': 1}. Best is trial 53 with value: 0.4791380806172145.\n",
      "Trial 84 finished with value: 0.5468093297582994 and parameters: {'opt_Epochs': 5, 'opt_Learning_Rate': 0.2734441025613207, 'opt_Batch_Size': 198, 'opt_N2R_Ratio': 9.612571608543963, 'opt_Regularization_term': 0.0416268879314963, 'opt_Noise_Dim': 32, 'opt_Impair_LR': 0.03607514210621358, 'opt_Repair_LR': 0.04416815765818666, 'n_layers': 1}. Best is trial 53 with value: 0.4791380806172145.\n"
     ]
    },
    {
     "name": "stderr",
     "output_type": "stream",
     "text": [
      "[I 2025-01-23 15:41:51,651] Trial 85 finished with value: 0.8018448766241686 and parameters: {'opt_Epochs': 4, 'opt_Learning_Rate': 0.11737934172656138, 'opt_Batch_Size': 55, 'opt_N2R_Ratio': 8.269070128989824, 'opt_Regularization_term': 0.2714288511196479, 'opt_Noise_Dim': 13, 'opt_Impair_LR': 0.06556459019545492, 'opt_Repair_LR': 0.056788078542005765, 'n_layers': 2}. Best is trial 53 with value: 0.4791380806172145.\n"
     ]
    },
    {
     "name": "stdout",
     "output_type": "stream",
     "text": [
      "Trial 85 finished with value: 0.8018448766241686 and parameters: {'opt_Epochs': 4, 'opt_Learning_Rate': 0.11737934172656138, 'opt_Batch_Size': 55, 'opt_N2R_Ratio': 8.269070128989824, 'opt_Regularization_term': 0.2714288511196479, 'opt_Noise_Dim': 13, 'opt_Impair_LR': 0.06556459019545492, 'opt_Repair_LR': 0.056788078542005765, 'n_layers': 2}. Best is trial 53 with value: 0.4791380806172145.\n",
      "Trial 85 finished with value: 0.8018448766241686 and parameters: {'opt_Epochs': 4, 'opt_Learning_Rate': 0.11737934172656138, 'opt_Batch_Size': 55, 'opt_N2R_Ratio': 8.269070128989824, 'opt_Regularization_term': 0.2714288511196479, 'opt_Noise_Dim': 13, 'opt_Impair_LR': 0.06556459019545492, 'opt_Repair_LR': 0.056788078542005765, 'n_layers': 2}. Best is trial 53 with value: 0.4791380806172145.\n"
     ]
    },
    {
     "name": "stderr",
     "output_type": "stream",
     "text": [
      "[I 2025-01-23 15:44:00,898] Trial 86 finished with value: 1.6146043024164576 and parameters: {'opt_Epochs': 5, 'opt_Learning_Rate': 0.010915716244795409, 'opt_Batch_Size': 61, 'opt_N2R_Ratio': 11.951583259635425, 'opt_Regularization_term': 0.29391520177705166, 'opt_Noise_Dim': 47, 'opt_Impair_LR': 0.04371624593206058, 'opt_Repair_LR': 0.12504285779135255, 'n_layers': 1}. Best is trial 53 with value: 0.4791380806172145.\n"
     ]
    },
    {
     "name": "stdout",
     "output_type": "stream",
     "text": [
      "Trial 86 finished with value: 1.6146043024164576 and parameters: {'opt_Epochs': 5, 'opt_Learning_Rate': 0.010915716244795409, 'opt_Batch_Size': 61, 'opt_N2R_Ratio': 11.951583259635425, 'opt_Regularization_term': 0.29391520177705166, 'opt_Noise_Dim': 47, 'opt_Impair_LR': 0.04371624593206058, 'opt_Repair_LR': 0.12504285779135255, 'n_layers': 1}. Best is trial 53 with value: 0.4791380806172145.\n",
      "Trial 86 finished with value: 1.6146043024164576 and parameters: {'opt_Epochs': 5, 'opt_Learning_Rate': 0.010915716244795409, 'opt_Batch_Size': 61, 'opt_N2R_Ratio': 11.951583259635425, 'opt_Regularization_term': 0.29391520177705166, 'opt_Noise_Dim': 47, 'opt_Impair_LR': 0.04371624593206058, 'opt_Repair_LR': 0.12504285779135255, 'n_layers': 1}. Best is trial 53 with value: 0.4791380806172145.\n"
     ]
    },
    {
     "name": "stderr",
     "output_type": "stream",
     "text": [
      "[I 2025-01-23 15:46:31,389] Trial 87 finished with value: 0.7173731376516059 and parameters: {'opt_Epochs': 6, 'opt_Learning_Rate': 0.03242224872701903, 'opt_Batch_Size': 32, 'opt_N2R_Ratio': 13.059611068009692, 'opt_Regularization_term': 0.24447230113605167, 'opt_Noise_Dim': 69, 'opt_Impair_LR': 0.07812235397964279, 'opt_Repair_LR': 0.020580603858903656, 'n_layers': 2}. Best is trial 53 with value: 0.4791380806172145.\n"
     ]
    },
    {
     "name": "stdout",
     "output_type": "stream",
     "text": [
      "Trial 87 finished with value: 0.7173731376516059 and parameters: {'opt_Epochs': 6, 'opt_Learning_Rate': 0.03242224872701903, 'opt_Batch_Size': 32, 'opt_N2R_Ratio': 13.059611068009692, 'opt_Regularization_term': 0.24447230113605167, 'opt_Noise_Dim': 69, 'opt_Impair_LR': 0.07812235397964279, 'opt_Repair_LR': 0.020580603858903656, 'n_layers': 2}. Best is trial 53 with value: 0.4791380806172145.\n",
      "Trial 87 finished with value: 0.7173731376516059 and parameters: {'opt_Epochs': 6, 'opt_Learning_Rate': 0.03242224872701903, 'opt_Batch_Size': 32, 'opt_N2R_Ratio': 13.059611068009692, 'opt_Regularization_term': 0.24447230113605167, 'opt_Noise_Dim': 69, 'opt_Impair_LR': 0.07812235397964279, 'opt_Repair_LR': 0.020580603858903656, 'n_layers': 2}. Best is trial 53 with value: 0.4791380806172145.\n"
     ]
    },
    {
     "name": "stderr",
     "output_type": "stream",
     "text": [
      "[I 2025-01-23 15:48:14,183] Trial 88 finished with value: 0.5407741272703128 and parameters: {'opt_Epochs': 5, 'opt_Learning_Rate': 0.058130586842412624, 'opt_Batch_Size': 75, 'opt_N2R_Ratio': 7.605822433822848, 'opt_Regularization_term': 0.09427146263236982, 'opt_Noise_Dim': 36, 'opt_Impair_LR': 0.03375859861421527, 'opt_Repair_LR': 0.03623843656323616, 'n_layers': 1}. Best is trial 53 with value: 0.4791380806172145.\n"
     ]
    },
    {
     "name": "stdout",
     "output_type": "stream",
     "text": [
      "Trial 88 finished with value: 0.5407741272703128 and parameters: {'opt_Epochs': 5, 'opt_Learning_Rate': 0.058130586842412624, 'opt_Batch_Size': 75, 'opt_N2R_Ratio': 7.605822433822848, 'opt_Regularization_term': 0.09427146263236982, 'opt_Noise_Dim': 36, 'opt_Impair_LR': 0.03375859861421527, 'opt_Repair_LR': 0.03623843656323616, 'n_layers': 1}. Best is trial 53 with value: 0.4791380806172145.\n",
      "Trial 88 finished with value: 0.5407741272703128 and parameters: {'opt_Epochs': 5, 'opt_Learning_Rate': 0.058130586842412624, 'opt_Batch_Size': 75, 'opt_N2R_Ratio': 7.605822433822848, 'opt_Regularization_term': 0.09427146263236982, 'opt_Noise_Dim': 36, 'opt_Impair_LR': 0.03375859861421527, 'opt_Repair_LR': 0.03623843656323616, 'n_layers': 1}. Best is trial 53 with value: 0.4791380806172145.\n"
     ]
    },
    {
     "name": "stderr",
     "output_type": "stream",
     "text": [
      "[I 2025-01-23 15:49:28,442] Trial 89 finished with value: 0.5565670755315332 and parameters: {'opt_Epochs': 4, 'opt_Learning_Rate': 0.048341964066851414, 'opt_Batch_Size': 51, 'opt_N2R_Ratio': 10.823755998283717, 'opt_Regularization_term': 0.285217939792583, 'opt_Noise_Dim': 59, 'opt_Impair_LR': 0.018065870830270968, 'opt_Repair_LR': 0.028211472486644275, 'n_layers': 1}. Best is trial 53 with value: 0.4791380806172145.\n"
     ]
    },
    {
     "name": "stdout",
     "output_type": "stream",
     "text": [
      "Trial 89 finished with value: 0.5565670755315332 and parameters: {'opt_Epochs': 4, 'opt_Learning_Rate': 0.048341964066851414, 'opt_Batch_Size': 51, 'opt_N2R_Ratio': 10.823755998283717, 'opt_Regularization_term': 0.285217939792583, 'opt_Noise_Dim': 59, 'opt_Impair_LR': 0.018065870830270968, 'opt_Repair_LR': 0.028211472486644275, 'n_layers': 1}. Best is trial 53 with value: 0.4791380806172145.\n",
      "Trial 89 finished with value: 0.5565670755315332 and parameters: {'opt_Epochs': 4, 'opt_Learning_Rate': 0.048341964066851414, 'opt_Batch_Size': 51, 'opt_N2R_Ratio': 10.823755998283717, 'opt_Regularization_term': 0.285217939792583, 'opt_Noise_Dim': 59, 'opt_Impair_LR': 0.018065870830270968, 'opt_Repair_LR': 0.028211472486644275, 'n_layers': 1}. Best is trial 53 with value: 0.4791380806172145.\n"
     ]
    },
    {
     "name": "stderr",
     "output_type": "stream",
     "text": [
      "[I 2025-01-23 15:52:25,693] Trial 90 finished with value: 0.6032551587896146 and parameters: {'opt_Epochs': 7, 'opt_Learning_Rate': 0.03845765741123899, 'opt_Batch_Size': 43, 'opt_N2R_Ratio': 10.118588815483582, 'opt_Regularization_term': 0.26258994085744625, 'opt_Noise_Dim': 105, 'opt_Impair_LR': 0.05588514204228842, 'opt_Repair_LR': 0.010154616509489988, 'n_layers': 2}. Best is trial 53 with value: 0.4791380806172145.\n"
     ]
    },
    {
     "name": "stdout",
     "output_type": "stream",
     "text": [
      "Trial 90 finished with value: 0.6032551587896146 and parameters: {'opt_Epochs': 7, 'opt_Learning_Rate': 0.03845765741123899, 'opt_Batch_Size': 43, 'opt_N2R_Ratio': 10.118588815483582, 'opt_Regularization_term': 0.26258994085744625, 'opt_Noise_Dim': 105, 'opt_Impair_LR': 0.05588514204228842, 'opt_Repair_LR': 0.010154616509489988, 'n_layers': 2}. Best is trial 53 with value: 0.4791380806172145.\n",
      "Trial 90 finished with value: 0.6032551587896146 and parameters: {'opt_Epochs': 7, 'opt_Learning_Rate': 0.03845765741123899, 'opt_Batch_Size': 43, 'opt_N2R_Ratio': 10.118588815483582, 'opt_Regularization_term': 0.26258994085744625, 'opt_Noise_Dim': 105, 'opt_Impair_LR': 0.05588514204228842, 'opt_Repair_LR': 0.010154616509489988, 'n_layers': 2}. Best is trial 53 with value: 0.4791380806172145.\n"
     ]
    },
    {
     "name": "stderr",
     "output_type": "stream",
     "text": [
      "[I 2025-01-23 15:53:18,391] Trial 91 finished with value: 0.5333743683835293 and parameters: {'opt_Epochs': 5, 'opt_Learning_Rate': 0.1447752328846357, 'opt_Batch_Size': 37, 'opt_N2R_Ratio': 5.653679237919967, 'opt_Regularization_term': 0.281636694836478, 'opt_Noise_Dim': 1, 'opt_Impair_LR': 0.0289017942511827, 'opt_Repair_LR': 0.028609801705946653, 'n_layers': 1}. Best is trial 53 with value: 0.4791380806172145.\n"
     ]
    },
    {
     "name": "stdout",
     "output_type": "stream",
     "text": [
      "Trial 91 finished with value: 0.5333743683835293 and parameters: {'opt_Epochs': 5, 'opt_Learning_Rate': 0.1447752328846357, 'opt_Batch_Size': 37, 'opt_N2R_Ratio': 5.653679237919967, 'opt_Regularization_term': 0.281636694836478, 'opt_Noise_Dim': 1, 'opt_Impair_LR': 0.0289017942511827, 'opt_Repair_LR': 0.028609801705946653, 'n_layers': 1}. Best is trial 53 with value: 0.4791380806172145.\n",
      "Trial 91 finished with value: 0.5333743683835293 and parameters: {'opt_Epochs': 5, 'opt_Learning_Rate': 0.1447752328846357, 'opt_Batch_Size': 37, 'opt_N2R_Ratio': 5.653679237919967, 'opt_Regularization_term': 0.281636694836478, 'opt_Noise_Dim': 1, 'opt_Impair_LR': 0.0289017942511827, 'opt_Repair_LR': 0.028609801705946653, 'n_layers': 1}. Best is trial 53 with value: 0.4791380806172145.\n"
     ]
    },
    {
     "name": "stderr",
     "output_type": "stream",
     "text": [
      "[I 2025-01-23 15:55:03,669] Trial 92 finished with value: 0.5141051643706378 and parameters: {'opt_Epochs': 5, 'opt_Learning_Rate': 0.010143586118125143, 'opt_Batch_Size': 33, 'opt_N2R_Ratio': 6.339979510983982, 'opt_Regularization_term': 0.29692196705050267, 'opt_Noise_Dim': 13, 'opt_Impair_LR': 0.047084586560600925, 'opt_Repair_LR': 0.017296677513014058, 'n_layers': 1}. Best is trial 53 with value: 0.4791380806172145.\n"
     ]
    },
    {
     "name": "stdout",
     "output_type": "stream",
     "text": [
      "Trial 92 finished with value: 0.5141051643706378 and parameters: {'opt_Epochs': 5, 'opt_Learning_Rate': 0.010143586118125143, 'opt_Batch_Size': 33, 'opt_N2R_Ratio': 6.339979510983982, 'opt_Regularization_term': 0.29692196705050267, 'opt_Noise_Dim': 13, 'opt_Impair_LR': 0.047084586560600925, 'opt_Repair_LR': 0.017296677513014058, 'n_layers': 1}. Best is trial 53 with value: 0.4791380806172145.\n",
      "Trial 92 finished with value: 0.5141051643706378 and parameters: {'opt_Epochs': 5, 'opt_Learning_Rate': 0.010143586118125143, 'opt_Batch_Size': 33, 'opt_N2R_Ratio': 6.339979510983982, 'opt_Regularization_term': 0.29692196705050267, 'opt_Noise_Dim': 13, 'opt_Impair_LR': 0.047084586560600925, 'opt_Repair_LR': 0.017296677513014058, 'n_layers': 1}. Best is trial 53 with value: 0.4791380806172145.\n"
     ]
    },
    {
     "name": "stderr",
     "output_type": "stream",
     "text": [
      "[I 2025-01-23 15:56:59,693] Trial 93 finished with value: 0.49449387921931875 and parameters: {'opt_Epochs': 6, 'opt_Learning_Rate': 0.018000300243746572, 'opt_Batch_Size': 44, 'opt_N2R_Ratio': 6.468051831835838, 'opt_Regularization_term': 0.29617928596970683, 'opt_Noise_Dim': 27, 'opt_Impair_LR': 0.04634441968843863, 'opt_Repair_LR': 0.0185185241595194, 'n_layers': 1}. Best is trial 53 with value: 0.4791380806172145.\n"
     ]
    },
    {
     "name": "stdout",
     "output_type": "stream",
     "text": [
      "Trial 93 finished with value: 0.49449387921931875 and parameters: {'opt_Epochs': 6, 'opt_Learning_Rate': 0.018000300243746572, 'opt_Batch_Size': 44, 'opt_N2R_Ratio': 6.468051831835838, 'opt_Regularization_term': 0.29617928596970683, 'opt_Noise_Dim': 27, 'opt_Impair_LR': 0.04634441968843863, 'opt_Repair_LR': 0.0185185241595194, 'n_layers': 1}. Best is trial 53 with value: 0.4791380806172145.\n",
      "Trial 93 finished with value: 0.49449387921931875 and parameters: {'opt_Epochs': 6, 'opt_Learning_Rate': 0.018000300243746572, 'opt_Batch_Size': 44, 'opt_N2R_Ratio': 6.468051831835838, 'opt_Regularization_term': 0.29617928596970683, 'opt_Noise_Dim': 27, 'opt_Impair_LR': 0.04634441968843863, 'opt_Repair_LR': 0.0185185241595194, 'n_layers': 1}. Best is trial 53 with value: 0.4791380806172145.\n"
     ]
    },
    {
     "name": "stderr",
     "output_type": "stream",
     "text": [
      "[I 2025-01-23 15:57:53,032] Trial 94 finished with value: 0.5499126252975869 and parameters: {'opt_Epochs': 6, 'opt_Learning_Rate': 0.026701131012239705, 'opt_Batch_Size': 65, 'opt_N2R_Ratio': 4.952008311101989, 'opt_Regularization_term': 0.29997395910160973, 'opt_Noise_Dim': 29, 'opt_Impair_LR': 0.04915769842102846, 'opt_Repair_LR': 0.01699132212639253, 'n_layers': 1}. Best is trial 53 with value: 0.4791380806172145.\n"
     ]
    },
    {
     "name": "stdout",
     "output_type": "stream",
     "text": [
      "Trial 94 finished with value: 0.5499126252975869 and parameters: {'opt_Epochs': 6, 'opt_Learning_Rate': 0.026701131012239705, 'opt_Batch_Size': 65, 'opt_N2R_Ratio': 4.952008311101989, 'opt_Regularization_term': 0.29997395910160973, 'opt_Noise_Dim': 29, 'opt_Impair_LR': 0.04915769842102846, 'opt_Repair_LR': 0.01699132212639253, 'n_layers': 1}. Best is trial 53 with value: 0.4791380806172145.\n",
      "Trial 94 finished with value: 0.5499126252975869 and parameters: {'opt_Epochs': 6, 'opt_Learning_Rate': 0.026701131012239705, 'opt_Batch_Size': 65, 'opt_N2R_Ratio': 4.952008311101989, 'opt_Regularization_term': 0.29997395910160973, 'opt_Noise_Dim': 29, 'opt_Impair_LR': 0.04915769842102846, 'opt_Repair_LR': 0.01699132212639253, 'n_layers': 1}. Best is trial 53 with value: 0.4791380806172145.\n"
     ]
    },
    {
     "name": "stderr",
     "output_type": "stream",
     "text": [
      "[I 2025-01-23 15:59:32,514] Trial 95 finished with value: 0.6289580723072623 and parameters: {'opt_Epochs': 6, 'opt_Learning_Rate': 0.01044161149595543, 'opt_Batch_Size': 47, 'opt_N2R_Ratio': 5.475427656478329, 'opt_Regularization_term': 0.29423259388715317, 'opt_Noise_Dim': 26, 'opt_Impair_LR': 0.06730458103902846, 'opt_Repair_LR': 0.01736297760896727, 'n_layers': 1}. Best is trial 53 with value: 0.4791380806172145.\n"
     ]
    },
    {
     "name": "stdout",
     "output_type": "stream",
     "text": [
      "Trial 95 finished with value: 0.6289580723072623 and parameters: {'opt_Epochs': 6, 'opt_Learning_Rate': 0.01044161149595543, 'opt_Batch_Size': 47, 'opt_N2R_Ratio': 5.475427656478329, 'opt_Regularization_term': 0.29423259388715317, 'opt_Noise_Dim': 26, 'opt_Impair_LR': 0.06730458103902846, 'opt_Repair_LR': 0.01736297760896727, 'n_layers': 1}. Best is trial 53 with value: 0.4791380806172145.\n",
      "Trial 95 finished with value: 0.6289580723072623 and parameters: {'opt_Epochs': 6, 'opt_Learning_Rate': 0.01044161149595543, 'opt_Batch_Size': 47, 'opt_N2R_Ratio': 5.475427656478329, 'opt_Regularization_term': 0.29423259388715317, 'opt_Noise_Dim': 26, 'opt_Impair_LR': 0.06730458103902846, 'opt_Repair_LR': 0.01736297760896727, 'n_layers': 1}. Best is trial 53 with value: 0.4791380806172145.\n"
     ]
    },
    {
     "name": "stderr",
     "output_type": "stream",
     "text": [
      "[I 2025-01-23 16:01:11,785] Trial 96 finished with value: 1.7414851082132212 and parameters: {'opt_Epochs': 6, 'opt_Learning_Rate': 0.017568406394366545, 'opt_Batch_Size': 40, 'opt_N2R_Ratio': 3.973832843712166, 'opt_Regularization_term': 0.2920813845010421, 'opt_Noise_Dim': 14, 'opt_Impair_LR': 0.042957035657794865, 'opt_Repair_LR': 0.22349260249141528, 'n_layers': 2}. Best is trial 53 with value: 0.4791380806172145.\n"
     ]
    },
    {
     "name": "stdout",
     "output_type": "stream",
     "text": [
      "Trial 96 finished with value: 1.7414851082132212 and parameters: {'opt_Epochs': 6, 'opt_Learning_Rate': 0.017568406394366545, 'opt_Batch_Size': 40, 'opt_N2R_Ratio': 3.973832843712166, 'opt_Regularization_term': 0.2920813845010421, 'opt_Noise_Dim': 14, 'opt_Impair_LR': 0.042957035657794865, 'opt_Repair_LR': 0.22349260249141528, 'n_layers': 2}. Best is trial 53 with value: 0.4791380806172145.\n",
      "Trial 96 finished with value: 1.7414851082132212 and parameters: {'opt_Epochs': 6, 'opt_Learning_Rate': 0.017568406394366545, 'opt_Batch_Size': 40, 'opt_N2R_Ratio': 3.973832843712166, 'opt_Regularization_term': 0.2920813845010421, 'opt_Noise_Dim': 14, 'opt_Impair_LR': 0.042957035657794865, 'opt_Repair_LR': 0.22349260249141528, 'n_layers': 2}. Best is trial 53 with value: 0.4791380806172145.\n"
     ]
    },
    {
     "name": "stderr",
     "output_type": "stream",
     "text": [
      "[I 2025-01-23 16:03:00,477] Trial 97 finished with value: 0.5865748268492676 and parameters: {'opt_Epochs': 5, 'opt_Learning_Rate': 0.028416774667475088, 'opt_Batch_Size': 54, 'opt_N2R_Ratio': 6.346598946565139, 'opt_Regularization_term': 0.2728192723234709, 'opt_Noise_Dim': 46, 'opt_Impair_LR': 0.06000714563619784, 'opt_Repair_LR': 0.023481234080966203, 'n_layers': 8}. Best is trial 53 with value: 0.4791380806172145.\n"
     ]
    },
    {
     "name": "stdout",
     "output_type": "stream",
     "text": [
      "Trial 97 finished with value: 0.5865748268492676 and parameters: {'opt_Epochs': 5, 'opt_Learning_Rate': 0.028416774667475088, 'opt_Batch_Size': 54, 'opt_N2R_Ratio': 6.346598946565139, 'opt_Regularization_term': 0.2728192723234709, 'opt_Noise_Dim': 46, 'opt_Impair_LR': 0.06000714563619784, 'opt_Repair_LR': 0.023481234080966203, 'n_layers': 8}. Best is trial 53 with value: 0.4791380806172145.\n",
      "Trial 97 finished with value: 0.5865748268492676 and parameters: {'opt_Epochs': 5, 'opt_Learning_Rate': 0.028416774667475088, 'opt_Batch_Size': 54, 'opt_N2R_Ratio': 6.346598946565139, 'opt_Regularization_term': 0.2728192723234709, 'opt_Noise_Dim': 46, 'opt_Impair_LR': 0.06000714563619784, 'opt_Repair_LR': 0.023481234080966203, 'n_layers': 8}. Best is trial 53 with value: 0.4791380806172145.\n"
     ]
    },
    {
     "name": "stderr",
     "output_type": "stream",
     "text": [
      "[I 2025-01-23 16:05:28,111] Trial 98 finished with value: 0.9607749982083096 and parameters: {'opt_Epochs': 6, 'opt_Learning_Rate': 0.035402532815687275, 'opt_Batch_Size': 59, 'opt_N2R_Ratio': 8.602838319782203, 'opt_Regularization_term': 0.2858224906863787, 'opt_Noise_Dim': 339, 'opt_Impair_LR': 0.07383748058504148, 'opt_Repair_LR': 0.04201784082043945, 'n_layers': 1}. Best is trial 53 with value: 0.4791380806172145.\n"
     ]
    },
    {
     "name": "stdout",
     "output_type": "stream",
     "text": [
      "Trial 98 finished with value: 0.9607749982083096 and parameters: {'opt_Epochs': 6, 'opt_Learning_Rate': 0.035402532815687275, 'opt_Batch_Size': 59, 'opt_N2R_Ratio': 8.602838319782203, 'opt_Regularization_term': 0.2858224906863787, 'opt_Noise_Dim': 339, 'opt_Impair_LR': 0.07383748058504148, 'opt_Repair_LR': 0.04201784082043945, 'n_layers': 1}. Best is trial 53 with value: 0.4791380806172145.\n",
      "Trial 98 finished with value: 0.9607749982083096 and parameters: {'opt_Epochs': 6, 'opt_Learning_Rate': 0.035402532815687275, 'opt_Batch_Size': 59, 'opt_N2R_Ratio': 8.602838319782203, 'opt_Regularization_term': 0.2858224906863787, 'opt_Noise_Dim': 339, 'opt_Impair_LR': 0.07383748058504148, 'opt_Repair_LR': 0.04201784082043945, 'n_layers': 1}. Best is trial 53 with value: 0.4791380806172145.\n"
     ]
    },
    {
     "name": "stderr",
     "output_type": "stream",
     "text": [
      "[I 2025-01-23 16:08:15,755] Trial 99 finished with value: 0.5689076624018077 and parameters: {'opt_Epochs': 7, 'opt_Learning_Rate': 0.023794465448808297, 'opt_Batch_Size': 42, 'opt_N2R_Ratio': 17.53411272590383, 'opt_Regularization_term': 0.2607006157119911, 'opt_Noise_Dim': 61, 'opt_Impair_LR': 0.05560317478250651, 'opt_Repair_LR': 0.033403925578916645, 'n_layers': 2}. Best is trial 53 with value: 0.4791380806172145.\n"
     ]
    },
    {
     "name": "stdout",
     "output_type": "stream",
     "text": [
      "Trial 99 finished with value: 0.5689076624018077 and parameters: {'opt_Epochs': 7, 'opt_Learning_Rate': 0.023794465448808297, 'opt_Batch_Size': 42, 'opt_N2R_Ratio': 17.53411272590383, 'opt_Regularization_term': 0.2607006157119911, 'opt_Noise_Dim': 61, 'opt_Impair_LR': 0.05560317478250651, 'opt_Repair_LR': 0.033403925578916645, 'n_layers': 2}. Best is trial 53 with value: 0.4791380806172145.\n",
      "Trial 99 finished with value: 0.5689076624018077 and parameters: {'opt_Epochs': 7, 'opt_Learning_Rate': 0.023794465448808297, 'opt_Batch_Size': 42, 'opt_N2R_Ratio': 17.53411272590383, 'opt_Regularization_term': 0.2607006157119911, 'opt_Noise_Dim': 61, 'opt_Impair_LR': 0.05560317478250651, 'opt_Repair_LR': 0.033403925578916645, 'n_layers': 2}. Best is trial 53 with value: 0.4791380806172145.\n"
     ]
    }
   ],
   "source": [
    "def objective(trial):\n",
    "\n",
    "    opt_Epochs = trial.suggest_int('opt_Epochs', 1, 10)\n",
    "    opt_Learning_Rate = trial.suggest_float('opt_Learning_Rate', 0.01, 0.3)\n",
    "    opt_Batch_Size = trial.suggest_int('opt_Batch_Size', 32, 256)\n",
    "    opt_N2R_Ratio = trial.suggest_float('opt_N2R_Ratio', 0.01, 20)\n",
    "    opt_Regularization_term = trial.suggest_float('opt_Regularization_term', 0.01, 0.3)\n",
    "    opt_Noise_Dim = trial.suggest_int('opt_Noise_Dim', 1, 512)\n",
    "    opt_Impair_LR = trial.suggest_float('opt_Impair_LR', 0.01, 0.3)\n",
    "    opt_Repair_LR = trial.suggest_float('opt_Repair_LR', 0.01, 0.3)\n",
    "\n",
    "    n_layers = trial.suggest_int('n_layers', 1, 10)\n",
    "\n",
    "    Layers = [1024, 1024, 1024, 1024, 1024, 1024, 1024, 1024, 1024, 1024]\n",
    "    Layers = Layers[:n_layers]\n",
    "\n",
    "    random_int = random.randint(0, 29)\n",
    "    train = load_models_dict(path=\"../data/models/mnist/all/test_ensemble\")[random_int]\n",
    "\n",
    "    unlearned = gemu._main(\n",
    "        model=train,\n",
    "        dataset_name=\"mnist\",\n",
    "        t_Epochs = opt_Epochs,\n",
    "        t_Learning_Rate = opt_Learning_Rate,\n",
    "        t_Batch_Size = opt_Batch_Size,\n",
    "        t_N2R_Ratio= opt_N2R_Ratio,\n",
    "        t_Regularization_term = opt_Regularization_term,\n",
    "        t_Layers = Layers,\n",
    "        t_Noise_Dim = opt_Noise_Dim,\n",
    "        t_Impair_LR=opt_Impair_LR,\n",
    "        t_Repair_LR=opt_Repair_LR,\n",
    "        logs=False,\n",
    "        model_eval_logs=False,\n",
    "    )\n",
    "\n",
    "    valid_ds = mlp_dataclass.MNIST_CostumDataset(\n",
    "        sample_mode=\"all\",\n",
    "        train=True,\n",
    "        test=False,\n",
    "        balanced=False,\n",
    "        dataset_name=\"mnist\",\n",
    "        download=False,\n",
    "    )  \n",
    "    valid_dl = DataLoader(valid_ds, 256, shuffle=False)\n",
    "\n",
    "    random_int = random.randint(0, 29)\n",
    "    exact = load_models_dict(path=\"../data/models/mnist/except_erased/test_ensemble\")[random_int]\n",
    "    \n",
    "    div = metrics.kl_divergence_between_models(\n",
    "        model1 = exact,\n",
    "        model2 = unlearned,\n",
    "        data_loader = valid_dl,\n",
    "    )\n",
    "\n",
    "    return div\n",
    "\n",
    "study_gemu.optimize(objective, n_trials=1)\n",
    "\n",
    "import pickle\n",
    "\n",
    "# Save the sampler with pickle to be loaded later.\n",
    "with open(\"sampler_gemu.pkl\", \"wb\") as fout:\n",
    "    pickle.dump(study_gemu.sampler, fout)"
   ]
  },
  {
   "cell_type": "markdown",
   "metadata": {},
   "source": [
    "## Standard Values"
   ]
  },
  {
   "cell_type": "code",
   "execution_count": 9,
   "metadata": {},
   "outputs": [
    {
     "name": "stdout",
     "output_type": "stream",
     "text": [
      "Baseline Performance\n",
      "Time: 0.10074710845947266\n",
      "Epoch: 1, Loss: -88000.8671875\n",
      "Epoch: 2, Loss: -90298.9375\n",
      "Epoch: 3, Loss: -90210.203125\n",
      "Epoch: 4, Loss: -90174.6015625\n",
      "Epoch: 5, Loss: -90443.625\n",
      "Epoch: 6, Loss: -90286.9140625\n",
      "Ending NoiseGenerator Maximazation Phase\n",
      "Time: 43.48147010803223\n",
      "______\n",
      "Starting Impairing Phase\n",
      "Time: 43.57169198989868\n",
      "Train loss 1: 35.66211067249977\n",
      "Ending Impairing Phase\n",
      "Time: 92.891606092453\n",
      "Train loss 1: 5.133904508031208\n",
      "Ending Repairing Phase\n",
      "Time: 115.92272400856018\n",
      "______\n"
     ]
    }
   ],
   "source": [
    "import gemu\n",
    "\n",
    "standard_model_gemu = gemu._main(\n",
    "    model=u,\n",
    "    dataset_name=\"mnist\",\n",
    "    t_Epochs=study_gemu.best_params[\"opt_Epochs\"],\n",
    "    t_Batch_Size=study_gemu.best_params[\"opt_Batch_Size\"],\n",
    "    t_Learning_Rate=study_gemu.best_params[\"opt_Learning_Rate\"],\n",
    "    t_N2R_Ratio=study_gemu.best_params[\"opt_N2R_Ratio\"],\n",
    "    t_Regularization_term=study_gemu.best_params[\"opt_Regularization_term\"],\n",
    "    t_Layers=[1024, 1024, 1024, 1024, 1024, 1024, 1024, 1024, 1024, 1024][:study_gemu.best_params[\"n_layers\"]],\n",
    "    t_Noise_Dim=study_gemu.best_params[\"opt_Noise_Dim\"],\n",
    "    t_Impair_LR=study_gemu.best_params[\"opt_Impair_LR\"],\n",
    "    t_Repair_LR=study_gemu.best_params[\"opt_Repair_LR\"],\n",
    "    logs=True,\n",
    "    model_eval_logs=False,\n",
    ")"
   ]
  },
  {
   "cell_type": "markdown",
   "metadata": {},
   "source": [
    "___\n",
    "## Gradient Ascent"
   ]
  },
  {
   "cell_type": "code",
   "execution_count": 10,
   "metadata": {},
   "outputs": [
    {
     "name": "stderr",
     "output_type": "stream",
     "text": [
      "[I 2025-01-23 16:10:11,758] A new study created in RDB with name: OptiGA\n"
     ]
    },
    {
     "name": "stdout",
     "output_type": "stream",
     "text": [
      "A new study created in RDB with name: OptiGA\n",
      "A new study created in RDB with name: OptiGA\n",
      "A new study created in RDB with name: OptiGA\n"
     ]
    }
   ],
   "source": [
    "import logging\n",
    "import sys\n",
    "import pickle\n",
    "import optuna\n",
    "import os\n",
    "\n",
    "\n",
    "# Add stream handler of stdout to show the messages\n",
    "optuna.logging.get_logger(\"optuna\").addHandler(logging.StreamHandler(sys.stdout))\n",
    "study3_name = \"OptiGA\"  # Unique identifier of the study.\n",
    "storage3_name = \"sqlite:///{}.db\".format(\"HP_Opti\")\n",
    "\n",
    "if os.path.exists(\"sampler_ga.pkl\"):\n",
    "    restored3_sampler = pickle.load(open(\"sampler_ga.pkl\", \"rb\"))\n",
    "    study_ga = optuna.create_study(study_name=study3_name, storage=storage3_name, load_if_exists=True, sampler=restored3_sampler)\n",
    "else:\n",
    "    study_ga = optuna.create_study(study_name=study3_name, storage=storage3_name, load_if_exists=True,)"
   ]
  },
  {
   "cell_type": "code",
   "execution_count": 13,
   "metadata": {},
   "outputs": [
    {
     "name": "stderr",
     "output_type": "stream",
     "text": [
      "[I 2025-01-23 17:12:22,270] Trial 100 finished with value: 3.1702903947931644 and parameters: {'opt_Epochs': 1, 'opt_Learning_Rate': 0.8385184769281354, 'opt_Batch_Size': 180}. Best is trial 99 with value: 3.121353491823722.\n"
     ]
    },
    {
     "name": "stdout",
     "output_type": "stream",
     "text": [
      "Trial 100 finished with value: 3.1702903947931644 and parameters: {'opt_Epochs': 1, 'opt_Learning_Rate': 0.8385184769281354, 'opt_Batch_Size': 180}. Best is trial 99 with value: 3.121353491823722.\n",
      "Trial 100 finished with value: 3.1702903947931644 and parameters: {'opt_Epochs': 1, 'opt_Learning_Rate': 0.8385184769281354, 'opt_Batch_Size': 180}. Best is trial 99 with value: 3.121353491823722.\n",
      "Trial 100 finished with value: 3.1702903947931644 and parameters: {'opt_Epochs': 1, 'opt_Learning_Rate': 0.8385184769281354, 'opt_Batch_Size': 180}. Best is trial 99 with value: 3.121353491823722.\n"
     ]
    },
    {
     "name": "stderr",
     "output_type": "stream",
     "text": [
      "[I 2025-01-23 17:12:31,924] Trial 101 finished with value: 3.4108012980603144 and parameters: {'opt_Epochs': 1, 'opt_Learning_Rate': 0.8026956802681777, 'opt_Batch_Size': 182}. Best is trial 99 with value: 3.121353491823722.\n"
     ]
    },
    {
     "name": "stdout",
     "output_type": "stream",
     "text": [
      "Trial 101 finished with value: 3.4108012980603144 and parameters: {'opt_Epochs': 1, 'opt_Learning_Rate': 0.8026956802681777, 'opt_Batch_Size': 182}. Best is trial 99 with value: 3.121353491823722.\n",
      "Trial 101 finished with value: 3.4108012980603144 and parameters: {'opt_Epochs': 1, 'opt_Learning_Rate': 0.8026956802681777, 'opt_Batch_Size': 182}. Best is trial 99 with value: 3.121353491823722.\n",
      "Trial 101 finished with value: 3.4108012980603144 and parameters: {'opt_Epochs': 1, 'opt_Learning_Rate': 0.8026956802681777, 'opt_Batch_Size': 182}. Best is trial 99 with value: 3.121353491823722.\n"
     ]
    },
    {
     "name": "stderr",
     "output_type": "stream",
     "text": [
      "[I 2025-01-23 17:12:41,827] Trial 102 finished with value: 4.116389963474678 and parameters: {'opt_Epochs': 1, 'opt_Learning_Rate': 0.8406420431899663, 'opt_Batch_Size': 191}. Best is trial 99 with value: 3.121353491823722.\n"
     ]
    },
    {
     "name": "stdout",
     "output_type": "stream",
     "text": [
      "Trial 102 finished with value: 4.116389963474678 and parameters: {'opt_Epochs': 1, 'opt_Learning_Rate': 0.8406420431899663, 'opt_Batch_Size': 191}. Best is trial 99 with value: 3.121353491823722.\n",
      "Trial 102 finished with value: 4.116389963474678 and parameters: {'opt_Epochs': 1, 'opt_Learning_Rate': 0.8406420431899663, 'opt_Batch_Size': 191}. Best is trial 99 with value: 3.121353491823722.\n",
      "Trial 102 finished with value: 4.116389963474678 and parameters: {'opt_Epochs': 1, 'opt_Learning_Rate': 0.8406420431899663, 'opt_Batch_Size': 191}. Best is trial 99 with value: 3.121353491823722.\n"
     ]
    },
    {
     "name": "stderr",
     "output_type": "stream",
     "text": [
      "[I 2025-01-23 17:12:51,653] Trial 103 finished with value: 3.926605093225519 and parameters: {'opt_Epochs': 1, 'opt_Learning_Rate': 0.9949145952388141, 'opt_Batch_Size': 187}. Best is trial 99 with value: 3.121353491823722.\n"
     ]
    },
    {
     "name": "stdout",
     "output_type": "stream",
     "text": [
      "Trial 103 finished with value: 3.926605093225519 and parameters: {'opt_Epochs': 1, 'opt_Learning_Rate': 0.9949145952388141, 'opt_Batch_Size': 187}. Best is trial 99 with value: 3.121353491823722.\n",
      "Trial 103 finished with value: 3.926605093225519 and parameters: {'opt_Epochs': 1, 'opt_Learning_Rate': 0.9949145952388141, 'opt_Batch_Size': 187}. Best is trial 99 with value: 3.121353491823722.\n",
      "Trial 103 finished with value: 3.926605093225519 and parameters: {'opt_Epochs': 1, 'opt_Learning_Rate': 0.9949145952388141, 'opt_Batch_Size': 187}. Best is trial 99 with value: 3.121353491823722.\n"
     ]
    },
    {
     "name": "stderr",
     "output_type": "stream",
     "text": [
      "[I 2025-01-23 17:13:06,874] Trial 104 finished with value: 3.959106477524371 and parameters: {'opt_Epochs': 8, 'opt_Learning_Rate': 0.8976092893894684, 'opt_Batch_Size': 163}. Best is trial 99 with value: 3.121353491823722.\n"
     ]
    },
    {
     "name": "stdout",
     "output_type": "stream",
     "text": [
      "Trial 104 finished with value: 3.959106477524371 and parameters: {'opt_Epochs': 8, 'opt_Learning_Rate': 0.8976092893894684, 'opt_Batch_Size': 163}. Best is trial 99 with value: 3.121353491823722.\n",
      "Trial 104 finished with value: 3.959106477524371 and parameters: {'opt_Epochs': 8, 'opt_Learning_Rate': 0.8976092893894684, 'opt_Batch_Size': 163}. Best is trial 99 with value: 3.121353491823722.\n",
      "Trial 104 finished with value: 3.959106477524371 and parameters: {'opt_Epochs': 8, 'opt_Learning_Rate': 0.8976092893894684, 'opt_Batch_Size': 163}. Best is trial 99 with value: 3.121353491823722.\n"
     ]
    }
   ],
   "source": [
    "from unlearning import SimpleGradientAscent\n",
    "\n",
    "def objective(trial):\n",
    "\n",
    "    opt_Epochs = trial.suggest_int('opt_Epochs', 1, 10)\n",
    "    opt_Learning_Rate = trial.suggest_float('opt_Learning_Rate', 0, 1)\n",
    "    opt_Batch_Size = trial.suggest_int('opt_Batch_Size', 1, 256)\n",
    "\n",
    "    random_int = random.randint(0, 29)\n",
    "    train = load_models_dict(path=\"../data/models/mnist/all/test_ensemble\")[random_int]\n",
    "\n",
    "    forget_ds = mlp_dataclass.MNIST_CostumDataset(\n",
    "        sample_mode=\"only_erased\",\n",
    "        train=True,\n",
    "        test=False,\n",
    "        balanced=False,\n",
    "        dataset_name=\"mnist\",\n",
    "        download=False,\n",
    "    )\n",
    "    forget_dl = valid_dl = DataLoader(forget_ds, opt_Batch_Size, shuffle=False)\n",
    "\n",
    "    unlearned = SimpleGradientAscent(\n",
    "        model=train,\n",
    "        unlearned_data=forget_dl,\n",
    "        dataset_name=\"mnist\",\n",
    "        t_LR = opt_Learning_Rate,\n",
    "        t_Epochs = opt_Epochs,\n",
    "        ).unlearn()\n",
    "\n",
    "    valid_ds = mlp_dataclass.MNIST_CostumDataset(\n",
    "        sample_mode=\"all\",\n",
    "        train=True,\n",
    "        test=False,\n",
    "        balanced=False,\n",
    "        dataset_name=\"mnist\",\n",
    "        download=False,\n",
    "    )  \n",
    "    valid_dl = DataLoader(valid_ds, 256, shuffle=False)\n",
    "\n",
    "    random_int = random.randint(0, 29)\n",
    "    exact = load_models_dict(path=\"../data/models/mnist/except_erased/test_ensemble\")[random_int]\n",
    "    \n",
    "    div = metrics.kl_divergence_between_models(\n",
    "        model1 = exact,\n",
    "        model2 = unlearned,\n",
    "        data_loader = valid_dl,\n",
    "    )\n",
    "\n",
    "    return div\n",
    "\n",
    "study_ga.optimize(objective, n_trials=1)\n",
    "\n",
    "import pickle\n",
    "\n",
    "# Save the sampler with pickle to be loaded later.\n",
    "with open(\"sampler_ga.pkl\", \"wb\") as fout:\n",
    "    pickle.dump(study_ga.sampler, fout)"
   ]
  },
  {
   "cell_type": "markdown",
   "metadata": {},
   "source": [
    "## Standard Values"
   ]
  },
  {
   "cell_type": "code",
   "execution_count": 12,
   "metadata": {},
   "outputs": [
    {
     "name": "stderr",
     "output_type": "stream",
     "text": [
      "                                                                   \r"
     ]
    }
   ],
   "source": [
    "forget_ds = mlp_dataclass.MNIST_CostumDataset(\n",
    "    sample_mode=\"only_erased\",\n",
    "    train=True,\n",
    "    test=False,\n",
    "    balanced=False,\n",
    "    dataset_name=\"mnist\",\n",
    "    download=False,\n",
    ")\n",
    "forget_dl = DataLoader(forget_ds, batch_size=study_ga.best_params[\"opt_Batch_Size\"], shuffle=False)\n",
    "\n",
    "unlearned_model_ga = SimpleGradientAscent(\n",
    "    model=u,\n",
    "    unlearned_data=forget_dl,\n",
    "    dataset_name=\"mnist\",\n",
    "    t_LR = study_ga.best_params[\"opt_Learning_Rate\"],\n",
    "    t_Epochs = study_ga.best_params[\"opt_Epochs\"],\n",
    "    ).unlearn()"
   ]
  },
  {
   "cell_type": "markdown",
   "metadata": {},
   "source": [
    "___"
   ]
  }
 ],
 "metadata": {
  "kernelspec": {
   "display_name": "bach.conda",
   "language": "python",
   "name": "python3"
  },
  "language_info": {
   "codemirror_mode": {
    "name": "ipython",
    "version": 3
   },
   "file_extension": ".py",
   "mimetype": "text/x-python",
   "name": "python",
   "nbconvert_exporter": "python",
   "pygments_lexer": "ipython3",
   "version": "3.12.8"
  }
 },
 "nbformat": 4,
 "nbformat_minor": 2
}
