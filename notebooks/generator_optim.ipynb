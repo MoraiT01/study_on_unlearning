{
 "cells": [
  {
   "cell_type": "markdown",
   "metadata": {},
   "source": [
    "# Optimization of Noise Generator\n",
    "\n",
    "We want to find the right Hyperparameters for the Noise Generator.\n",
    "For the Optimization, we will use the `Optuna` Framework\n",
    "\n",
    "The correct Hyperparameters for the Noise will be found for:\n",
    "- `GeFeU`\n",
    "- `GEMU`"
   ]
  },
  {
   "cell_type": "code",
   "execution_count": 1,
   "metadata": {},
   "outputs": [
    {
     "name": "stderr",
     "output_type": "stream",
     "text": [
      "c:\\Users\\Moritz\\miniconda3\\envs\\bach.conda\\Lib\\site-packages\\tqdm\\auto.py:21: TqdmWarning: IProgress not found. Please update jupyter and ipywidgets. See https://ipywidgets.readthedocs.io/en/stable/user_install.html\n",
      "  from .autonotebook import tqdm as notebook_tqdm\n"
     ]
    }
   ],
   "source": [
    "import optuna\n",
    "import torch\n",
    "import torch.nn as nn\n",
    "import torch.nn.functional as F\n",
    "from torch.utils.data import DataLoader\n",
    "\n",
    "import src.gefeu\n",
    "import src.gemu\n",
    "import src.mlp_dataclass\n",
    "import src.metrics\n",
    "from src.helper import load_models_dict"
   ]
  },
  {
   "cell_type": "markdown",
   "metadata": {},
   "source": [
    "___\n",
    "## GeFeU"
   ]
  },
  {
   "cell_type": "code",
   "execution_count": null,
   "metadata": {},
   "outputs": [],
   "source": [
    "def objective(trial):\n",
    "\n",
    "    opt_Epochs = trial.suggest_int('opt_Epochs', 1, 10)\n",
    "    opt_Learning_Rate = trial.suggest_float('opt_Learning_Rate', 0.01, 0.3)\n",
    "    opt_Batch_Size = trial.suggest_int('opt_Batch_Size', 32, 256)\n",
    "    opt_N2R_Ratio = trial.suggest_float('opt_N2R_Ratio', 0.01, 20)\n",
    "    opt_Regularization_term = trial.suggest_float('opt_Regularization_term', 0.01, 0.3)\n",
    "    opt_Noise_Dim = trial.suggest_int('opt_Noise_Dim', 1, 512)\n",
    "    opt_Impair_LR = trial.suggest_float('opt_Impair_LR', 0.01, 0.3)\n",
    "    opt_Repair_LR = trial.suggest_float('opt_Repair_LR', 0.01, 0.3)\n",
    "\n",
    "    print(f\"Epochs: {opt_Epochs} \n",
    "          |\\nLearning Rate: {opt_Learning_Rate} \n",
    "          |\\nBatch Size: {opt_Batch_Size} \n",
    "          |\\nN2R Ratio: {opt_N2R_Ratio} \n",
    "          |\\nRegularization Term: {opt_Regularization_term} \n",
    "          |\\nNoise Dim: {opt_Noise_Dim}\n",
    "          |\\nImpair LR: {opt_Impair_LR}\n",
    "          |\\nRepair LR: {opt_Repair_LR}\")\n",
    "\n",
    "    l1 = trial.suggest_int('l1', 32, 1024)\n",
    "    l2 = trial.suggest_int('l2', 32, 1024)\n",
    "    l3 = trial.suggest_int('l3', 32, 1024)\n",
    "    l4 = trial.suggest_int('l4', 32, 1024)\n",
    "    l5 = trial.suggest_int('l5', 32, 1024)\n",
    "    l6 = trial.suggest_int('l6', 32, 1024)\n",
    "    l7 = trial.suggest_int('l7', 32, 1024)\n",
    "    l8 = trial.suggest_int('l8', 32, 1024)\n",
    "    l9 = trial.suggest_int('l9', 32, 1024)\n",
    "    n_layers = trial.suggest_int('n_layers', 1, 9)\n",
    "\n",
    "    Layers = [l1, l2, l3, l4, l5, l6, l7, l8, l9]\n",
    "    Layers = Layers[:n_layers]\n",
    "    print(\"Layers: \", Layers)\n",
    "\n",
    "    train = load_models_dict(path=\"data/models/mnist/all/test_ensemble\")[0]\n",
    "    \n",
    "    unlearned = src.gefeu._main(\n",
    "        model=train,\n",
    "        dataset_name=\"mnist\",\n",
    "        t_Epochs = opt_Epochs,\n",
    "        t_Learning_Rate = opt_Learning_Rate,\n",
    "        t_Batch_Size = opt_Batch_Size,\n",
    "        t_N2R_Ratio= opt_N2R_Ratio,\n",
    "        t_Regularization_term = opt_Regularization_term,\n",
    "        t_Layers = Layers,\n",
    "        t_Noise_Dim = opt_Noise_Dim,\n",
    "        t_Impair_LR=opt_Impair_LR,\n",
    "        t_Repair_LR=opt_Repair_LR,\n",
    "        logs=True,\n",
    "        model_eval_logs=False,\n",
    "    )\n",
    "\n",
    "    valid_ds = src.mlp_dataclass.MNIST_CostumDataset(\n",
    "        sample_mode=\"all\",\n",
    "        train=False,\n",
    "        test=True,\n",
    "        balanced=False,\n",
    "        dataset_name=\"mnist\",\n",
    "        download=False,\n",
    "    )  \n",
    "    valid_dl = DataLoader(valid_ds, 256, shuffle=False)\n",
    "\n",
    "    exact = load_models_dict(path=\"data/models/mnist/except_erased/test_ensemble\")[0]\n",
    "    \n",
    "    div = src.metrics.kl_divergence_between_models(\n",
    "        model1 = unlearned,\n",
    "        model2 = exact,\n",
    "        data_loader = valid_dl,\n",
    "    )\n",
    "\n",
    "    return div"
   ]
  },
  {
   "cell_type": "code",
   "execution_count": null,
   "metadata": {},
   "outputs": [],
   "source": [
    "study = optuna.create_study(study_name=\"GenOptiGeFeU\")\n",
    "study.optimize(objective, n_trials=5)\n",
    "\n",
    "study.best_params"
   ]
  },
  {
   "cell_type": "markdown",
   "metadata": {},
   "source": [
    "## Standard Values"
   ]
  },
  {
   "cell_type": "code",
   "execution_count": null,
   "metadata": {},
   "outputs": [],
   "source": [
    "# standard_model = src.gefeu._main(\n",
    "#     model=None,\n",
    "#     dataset_name=\"mnist\",\n",
    "#     t_Epochs=,\n",
    "#     t_Batch_Size=,\n",
    "#     t_Learning_Rate=,\n",
    "#     t_N2R_Ratio=,\n",
    "#     t_Regularization_term=,\n",
    "#     t_Layers=,\n",
    "#     t_Noise_Dim=,\n",
    "#     t_Impair_LR=,\n",
    "#     t_Repair_LR=,\n",
    "#     logs=True,\n",
    "#     model_eval_logs=False,\n",
    "# )"
   ]
  },
  {
   "cell_type": "markdown",
   "metadata": {},
   "source": [
    "___\n",
    "## GEMU"
   ]
  },
  {
   "cell_type": "code",
   "execution_count": null,
   "metadata": {},
   "outputs": [],
   "source": [
    "def objective(trial):\n",
    "\n",
    "    opt_Epochs = trial.suggest_int('opt_Epochs', 1, 10)\n",
    "    opt_Learning_Rate = trial.suggest_float('opt_Learning_Rate', 0.01, 0.3)\n",
    "    opt_Batch_Size = trial.suggest_int('opt_Batch_Size', 32, 256)\n",
    "    opt_N2R_Ratio = trial.suggest_float('opt_N2R_Ratio', 0.01, 20)\n",
    "    opt_Regularization_term = trial.suggest_float('opt_Regularization_term', 0.01, 0.3)\n",
    "    opt_Noise_Dim = trial.suggest_int('opt_Noise_Dim', 1, 512)\n",
    "    opt_Impair_LR = trial.suggest_float('opt_Impair_LR', 0.01, 0.3)\n",
    "    opt_Repair_LR = trial.suggest_float('opt_Repair_LR', 0.01, 0.3)\n",
    "\n",
    "    print(f\"Epochs: {opt_Epochs} \n",
    "          |\\nLearning Rate: {opt_Learning_Rate} \n",
    "          |\\nBatch Size: {opt_Batch_Size} \n",
    "          |\\nN2R Ratio: {opt_N2R_Ratio} \n",
    "          |\\nRegularization Term: {opt_Regularization_term} \n",
    "          |\\nNoise Dim: {opt_Noise_Dim}\n",
    "          |\\nImpair LR: {opt_Impair_LR}\n",
    "          |\\nRepair LR: {opt_Repair_LR}\")\n",
    "\n",
    "    l1 = trial.suggest_int('l1', 32, 1024)\n",
    "    l2 = trial.suggest_int('l2', 32, 1024)\n",
    "    l3 = trial.suggest_int('l3', 32, 1024)\n",
    "    l4 = trial.suggest_int('l4', 32, 1024)\n",
    "    l5 = trial.suggest_int('l5', 32, 1024)\n",
    "    l6 = trial.suggest_int('l6', 32, 1024)\n",
    "    l7 = trial.suggest_int('l7', 32, 1024)\n",
    "    l8 = trial.suggest_int('l8', 32, 1024)\n",
    "    l9 = trial.suggest_int('l9', 32, 1024)\n",
    "    n_layers = trial.suggest_int('n_layers', 1, 9)\n",
    "\n",
    "    Layers = [l1, l2, l3, l4, l5, l6, l7, l8, l9]\n",
    "    Layers = Layers[:n_layers]\n",
    "    print(\"Layers: \", Layers)\n",
    "\n",
    "    train = load_models_dict(path=\"data/models/mnist/all/test_ensemble\")[0]\n",
    "\n",
    "    unlearned = src.gemu._main(\n",
    "        model=train,\n",
    "        dataset_name=\"mnist\",\n",
    "        t_Epochs = opt_Epochs,\n",
    "        t_Learning_Rate = opt_Learning_Rate,\n",
    "        t_Batch_Size = opt_Batch_Size,\n",
    "        t_N2R_Ratio= opt_N2R_Ratio,\n",
    "        t_Regularization_term = opt_Regularization_term,\n",
    "        t_Layers = Layers,\n",
    "        t_Noise_Dim = opt_Noise_Dim,\n",
    "        t_Impair_LR=opt_Impair_LR,\n",
    "        t_Repair_LR=opt_Repair_LR,\n",
    "        logs=True,\n",
    "        model_eval_logs=False,\n",
    "    )\n",
    "\n",
    "    valid_ds = src.mlp_dataclass.MNIST_CostumDataset(\n",
    "        sample_mode=\"all\",\n",
    "        train=False,\n",
    "        test=True,\n",
    "        balanced=False,\n",
    "        dataset_name=\"mnist\",\n",
    "        download=False,\n",
    "    )  \n",
    "    valid_dl = DataLoader(valid_ds, 256, shuffle=False)\n",
    "\n",
    "    exact = load_models_dict(path=\"data/models/mnist/except_erased/test_ensemble\")[0]\n",
    "    \n",
    "    div = src.metrics.kl_divergence_between_models(\n",
    "        model1 = unlearned,\n",
    "        model2 = exact,\n",
    "        data_loader = valid_dl,\n",
    "    )\n",
    "\n",
    "    return div"
   ]
  },
  {
   "cell_type": "code",
   "execution_count": null,
   "metadata": {},
   "outputs": [],
   "source": [
    "study = optuna.create_study(study_name=\"GenOptiGEMU\")\n",
    "study.optimize(objective, n_trials=5)\n",
    "\n",
    "study.best_params"
   ]
  },
  {
   "cell_type": "markdown",
   "metadata": {},
   "source": [
    "## Standard Values"
   ]
  },
  {
   "cell_type": "code",
   "execution_count": null,
   "metadata": {},
   "outputs": [],
   "source": [
    "# standard_model = src.gefeu._main(\n",
    "#     model=None,\n",
    "#     dataset_name=\"mnist\",\n",
    "#     t_Epochs=,\n",
    "#     t_Batch_Size=,\n",
    "#     t_Learning_Rate=,\n",
    "#     t_N2R_Ratio=,\n",
    "#     t_Regularization_term=,\n",
    "#     t_Layers=,\n",
    "#     t_Noise_Dim=,\n",
    "#     t_Impair_LR=,\n",
    "#     t_Repair_LR=,\n",
    "#     logs=True,\n",
    "#     model_eval_logs=False,\n",
    "# )"
   ]
  },
  {
   "cell_type": "markdown",
   "metadata": {},
   "source": [
    "___"
   ]
  }
 ],
 "metadata": {
  "kernelspec": {
   "display_name": "bach.conda",
   "language": "python",
   "name": "python3"
  },
  "language_info": {
   "codemirror_mode": {
    "name": "ipython",
    "version": 3
   },
   "file_extension": ".py",
   "mimetype": "text/x-python",
   "name": "python",
   "nbconvert_exporter": "python",
   "pygments_lexer": "ipython3",
   "version": "3.12.5"
  }
 },
 "nbformat": 4,
 "nbformat_minor": 2
}
