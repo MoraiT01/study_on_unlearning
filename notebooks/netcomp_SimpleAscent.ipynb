{
 "cells": [
  {
   "cell_type": "markdown",
   "metadata": {},
   "source": [
    "# Comparing Networks\n",
    "\n",
    "In this notebook, we want to compare different network to each other.\n",
    "This one contains\n",
    "\n",
    "- Untrained Model\n",
    "- Trained Model\n",
    "- Trained Model (**Simple Gradient Ascent Unlearning**)*$^1$\n",
    "\n",
    "There will be a notebook for every approx. MU algorithm\n",
    "\n",
    "*$^1$ Simple Gradient Ascent: For every sample that we want to unlearn, we will take a step \"up the loss function\" in the training loop."
   ]
  },
  {
   "cell_type": "code",
   "execution_count": null,
   "metadata": {},
   "outputs": [
    {
     "name": "stderr",
     "output_type": "stream",
     "text": [
      "c:\\Users\\Moritz\\miniconda3\\envs\\bach.conda\\Lib\\site-packages\\tqdm\\auto.py:21: TqdmWarning: IProgress not found. Please update jupyter and ipywidgets. See https://ipywidgets.readthedocs.io/en/stable/user_install.html\n",
      "  from .autonotebook import tqdm as notebook_tqdm\n"
     ]
    },
    {
     "data": {
      "text/plain": [
       "139"
      ]
     },
     "execution_count": 1,
     "metadata": {},
     "output_type": "execute_result"
    }
   ],
   "source": [
    "import os\n",
    "import sys\n",
    "\n",
    "# Add the parent directory to sys.path\n",
    "sys.path.append(os.path.join('..', 'src'))\n",
    "\n",
    "import torch\n",
    "import copy\n",
    "from PIL import Image\n",
    "import numpy as np\n",
    "# from helper import get_model TODO Muss überarbeitet werden\n",
    "from mlp_dataclass import MNIST_CostumDataset, TwoLayerPerceptron, ConvNet\n",
    "from training import main, train_n_models\n",
    "from helper import load_models_dict\n",
    "\n",
    "USED_DATASET = \"mnist\"\n",
    "# OUT OF: [\"mnist\", \"cmnist\", \"fashion_mnist\"]\n",
    "\n",
    "ALLREADY_TRAINED = False\n",
    "\n",
    "all_data = MNIST_CostumDataset(\n",
    "    sample_mode=\"all\",\n",
    "    train= True,\n",
    "    test = True,\n",
    "    dataset_name = USED_DATASET,\n",
    "    download=True,\n",
    ")\n",
    "\n",
    "unlearned_data = MNIST_CostumDataset(\n",
    "    sample_mode=\"only_erased\",\n",
    "    train= True,\n",
    "    test = False,\n",
    "    classes=[\"7\"],\n",
    "    dataset_name = USED_DATASET,\n",
    "    download=True,\n",
    ")\n",
    "len(unlearned_data)"
   ]
  },
  {
   "cell_type": "code",
   "execution_count": 2,
   "metadata": {},
   "outputs": [],
   "source": [
    "def prepare_sample(path:str):\n",
    "    \"\"\"preps sample to pass to model, transforms to tensor, reshape to 784, shaping it as batch\"\"\"\n",
    "    sample = Image.open(path).convert(\"L\")\n",
    "    sample = torch.Tensor(np.array(sample)).reshape(784)\n",
    "    \n",
    "    return sample.unsqueeze(0)\n",
    "\n",
    "def show_sample(sample:torch.Tensor):\n",
    "    \"\"\"Converts the sample to a numpy array and reshapes it to a 28x28 image\"\"\"\n",
    "    sample = sample.reshape(28, 28)\n",
    "    sample = sample.numpy()\n",
    "    sample = Image.fromarray(sample)\n",
    "    return sample"
   ]
  },
  {
   "cell_type": "markdown",
   "metadata": {},
   "source": [
    "____"
   ]
  },
  {
   "cell_type": "markdown",
   "metadata": {},
   "source": [
    "### Untrained Model"
   ]
  },
  {
   "cell_type": "code",
   "execution_count": null,
   "metadata": {},
   "outputs": [],
   "source": [
    "if USED_DATASET in [\"mnist\", \"fashion_mnist\"]:\n",
    "    untrained_showcase_all= TwoLayerPerceptron()\n",
    "if USED_DATASET in [\"cmnist\"]:\n",
    "    untrained_showcase_all = ConvNet()\n",
    "name = str(untrained_showcase_all)\n",
    "untrained_showcase_all.load_state_dict(\n",
    "    torch.load(\n",
    "        f=f\"..{os.sep}data{os.sep}models{os.sep}{USED_DATASET}{os.sep}untrained{os.sep}{name}_showcase_untrained\",\n",
    "        weights_only=True\n",
    "        )\n",
    "    )\n",
    "untrained_ms = load_models_dict(f\"..{os.sep}data{os.sep}models{os.sep}{USED_DATASET}{os.sep}untrained{os.sep}ensemble\")"
   ]
  },
  {
   "cell_type": "markdown",
   "metadata": {},
   "source": [
    "___"
   ]
  },
  {
   "cell_type": "markdown",
   "metadata": {},
   "source": [
    "### Trained Model\n"
   ]
  },
  {
   "cell_type": "code",
   "execution_count": null,
   "metadata": {},
   "outputs": [],
   "source": [
    "if USED_DATASET in [\"mnist\", \"fashion_mnist\"]:\n",
    "    trained_showcase_all= TwoLayerPerceptron()\n",
    "if USED_DATASET in [\"cmnist\"]:\n",
    "    trained_showcase_all = ConvNet()\n",
    "name = str(trained_showcase_all)\n",
    "trained_showcase_all.load_state_dict(\n",
    "    torch.load(\n",
    "        f=f\"..{os.sep}data{os.sep}models{os.sep}{USED_DATASET}{os.sep}all{os.sep}{name}_b_trained_showcase\",\n",
    "        weights_only=True\n",
    "        )\n",
    "    )"
   ]
  },
  {
   "cell_type": "code",
   "execution_count": null,
   "metadata": {},
   "outputs": [],
   "source": [
    "trained_ms = load_models_dict(path=f\"..{os.sep}data{os.sep}models{os.sep}{USED_DATASET}{os.sep}all{os.sep}test_ensemble\")"
   ]
  },
  {
   "cell_type": "markdown",
   "metadata": {},
   "source": [
    "___"
   ]
  },
  {
   "cell_type": "markdown",
   "metadata": {},
   "source": [
    "### Simple Gradient Ascent Model\n"
   ]
  },
  {
   "cell_type": "code",
   "execution_count": null,
   "metadata": {},
   "outputs": [],
   "source": [
    "from unlearning import SimpleGradientAscent\n",
    "from training import save_model"
   ]
  },
  {
   "cell_type": "code",
   "execution_count": null,
   "metadata": {},
   "outputs": [],
   "source": [
    "# Train a single model first\n",
    "if not ALLREADY_TRAINED:\n",
    "    sga = SimpleGradientAscent(\n",
    "        model=trained_showcase_all,\n",
    "        unlearned_data=unlearned_data,\n",
    "        dataset_name=USED_DATASET,\n",
    "    )\n",
    "    mu_showcase = sga.unlearn()\n",
    "    save_model(mu_showcase, name=\"mu_showcase\", path=f\"..{os.sep}data{os.sep}models{os.sep}{USED_DATASET}{os.sep}SimpleGradAsc\", logs=False)\n",
    "else:\n",
    "    if USED_DATASET in [\"mnist\", \"fashion_mnist\"]:\n",
    "        mu_showcase= TwoLayerPerceptron()\n",
    "    if USED_DATASET in [\"cmnist\"]:\n",
    "        mu_showcase= ConvNet()\n",
    "    name = str(mu_showcase)\n",
    "    mu_showcase.load_state_dict(\n",
    "        torch.load(\n",
    "            f=f\"..{os.sep}data{os.sep}models{os.sep}{USED_DATASET}{os.sep}SimpleGradAsc{os.sep}{name}_mu_showcase\",\n",
    "            weights_only=True\n",
    "            )\n",
    "        )"
   ]
  },
  {
   "cell_type": "code",
   "execution_count": null,
   "metadata": {},
   "outputs": [],
   "source": [
    "if not ALLREADY_TRAINED:\n",
    "    mu_ms = {}\n",
    "    for i, model in trained_ms.items():\n",
    "        sga = SimpleGradientAscent(\n",
    "            model=model,\n",
    "            unlearned_data=unlearned_data,\n",
    "            dataset_name=USED_DATASET,\n",
    "        )\n",
    "        mx = sga.unlearn()\n",
    "        save_model(mx, name=\"mu_ms\", path=f\"..{os.sep}data{os.sep}models{os.sep}{USED_DATASET}{os.sep}SimpleGradAsc{os.sep}test_ensemble\", logs=False)\n",
    "        mu_ms[len(mu_ms)] = mx\n",
    "else:\n",
    "    mu_ms = load_models_dict(path=f\"..{os.sep}data{os.sep}models{os.sep}{USED_DATASET}{os.sep}SimpleGradAsc{os.sep}test_ensemble\")"
   ]
  },
  {
   "cell_type": "markdown",
   "metadata": {},
   "source": [
    "___"
   ]
  },
  {
   "cell_type": "markdown",
   "metadata": {},
   "source": [
    "## Metrics"
   ]
  },
  {
   "cell_type": "code",
   "execution_count": 9,
   "metadata": {},
   "outputs": [],
   "source": [
    "from metrics import calc_accuracy\n",
    "from torch.utils.data import DataLoader\n",
    "from matplotlib import pyplot as plt"
   ]
  },
  {
   "cell_type": "markdown",
   "metadata": {},
   "source": [
    "### L2 Norm\n",
    "\n",
    "Compare how the different models are from each other using the L2 Norm, comparing every parameter with each other"
   ]
  },
  {
   "cell_type": "code",
   "execution_count": 10,
   "metadata": {},
   "outputs": [],
   "source": [
    "from metrics import model_l2_norm_difference, calc_mutlimodel_metric_average"
   ]
  },
  {
   "cell_type": "markdown",
   "metadata": {},
   "source": [
    "We can luckily cut down on some calculations, since the **L2-Norm** is symmetrical\n",
    "\n",
    "#### Unlearn to ..."
   ]
  },
  {
   "cell_type": "code",
   "execution_count": 11,
   "metadata": {},
   "outputs": [
    {
     "data": {
      "text/plain": [
       "27.63682018741965"
      ]
     },
     "execution_count": 11,
     "metadata": {},
     "output_type": "execute_result"
    }
   ],
   "source": [
    "# ...trained model\n",
    "a11 = calc_mutlimodel_metric_average(untrained_ms, trained_ms, metric=\"l2_norm\")\n",
    "a11"
   ]
  },
  {
   "cell_type": "code",
   "execution_count": null,
   "metadata": {},
   "outputs": [
    {
     "data": {
      "text/plain": [
       "27.64840864042441"
      ]
     },
     "execution_count": 12,
     "metadata": {},
     "output_type": "execute_result"
    }
   ],
   "source": [
    "# ...exact model\n",
    "a12 = calc_mutlimodel_metric_average(untrained_ms, mu_ms, metric=\"l2_norm\")\n",
    "a12"
   ]
  },
  {
   "cell_type": "markdown",
   "metadata": {},
   "source": [
    "#### Trained to ..."
   ]
  },
  {
   "cell_type": "code",
   "execution_count": null,
   "metadata": {},
   "outputs": [
    {
     "data": {
      "text/plain": [
       "28.450116612017155"
      ]
     },
     "execution_count": 13,
     "metadata": {},
     "output_type": "execute_result"
    }
   ],
   "source": [
    "# ...untrained model\n",
    "a21 = calc_mutlimodel_metric_average(trained_ms, mu_ms, metric=\"l2_norm\")\n",
    "a21"
   ]
  },
  {
   "cell_type": "markdown",
   "metadata": {},
   "source": [
    "#### Exact to ..."
   ]
  },
  {
   "cell_type": "code",
   "execution_count": 14,
   "metadata": {},
   "outputs": [],
   "source": [
    "# see above"
   ]
  },
  {
   "cell_type": "markdown",
   "metadata": {},
   "source": [
    "### KL-Divergence\n",
    "\n",
    "Used to compare the difference between distribution, but may also be used to compare models by their predicted target distributions."
   ]
  },
  {
   "cell_type": "code",
   "execution_count": null,
   "metadata": {},
   "outputs": [],
   "source": [
    "from metrics import kl_divergence_between_models, calc_mutlimodel_metric_average\n",
    "from torch.utils.data import DataLoader\n",
    "\n",
    "dataloader = DataLoader(\n",
    "    dataset=unlearned_data,\n",
    "    batch_size=8,\n",
    "    shuffle=False,\n",
    ")"
   ]
  },
  {
   "cell_type": "markdown",
   "metadata": {},
   "source": [
    "#### Unlearned to..."
   ]
  },
  {
   "cell_type": "code",
   "execution_count": null,
   "metadata": {},
   "outputs": [
    {
     "data": {
      "text/plain": [
       "0.7395783272578562"
      ]
     },
     "execution_count": 17,
     "metadata": {},
     "output_type": "execute_result"
    }
   ],
   "source": [
    "calc_mutlimodel_metric_average(\n",
    "    modeltype1=untrained_ms,\n",
    "    modeltype2=mu_ms,\n",
    "    testing_loader=dataloader,\n",
    "    metric=\"kl_div\",\n",
    ")"
   ]
  },
  {
   "cell_type": "code",
   "execution_count": null,
   "metadata": {},
   "outputs": [
    {
     "data": {
      "text/plain": [
       "0.03693711008581683"
      ]
     },
     "execution_count": 19,
     "metadata": {},
     "output_type": "execute_result"
    }
   ],
   "source": [
    "calc_mutlimodel_metric_average(\n",
    "    modeltype1=trained_ms,\n",
    "    modeltype2=mu_ms,\n",
    "    testing_loader=dataloader,\n",
    "    metric=\"kl_div\",\n",
    ")"
   ]
  },
  {
   "cell_type": "markdown",
   "metadata": {},
   "source": [
    "#### Trained to..."
   ]
  },
  {
   "cell_type": "code",
   "execution_count": null,
   "metadata": {},
   "outputs": [],
   "source": [
    "calc_mutlimodel_metric_average(\n",
    "    modeltype1=trained_ms,\n",
    "    modeltype2=untrained_ms,\n",
    "    testing_loader=dataloader,\n",
    "    metric=\"kl_div\",\n",
    ")"
   ]
  },
  {
   "cell_type": "code",
   "execution_count": null,
   "metadata": {},
   "outputs": [],
   "source": [
    "calc_mutlimodel_metric_average(\n",
    "    modeltype1=trained_ms,\n",
    "    modeltype2=mu_ms,\n",
    "    testing_loader=dataloader,\n",
    "    metric=\"kl_div\",\n",
    ")"
   ]
  },
  {
   "cell_type": "markdown",
   "metadata": {},
   "source": [
    "#### MU to..."
   ]
  },
  {
   "cell_type": "code",
   "execution_count": null,
   "metadata": {},
   "outputs": [],
   "source": [
    "calc_mutlimodel_metric_average(\n",
    "    modeltype1=mu_ms,\n",
    "    modeltype2=untrained_ms,\n",
    "    testing_loader=dataloader,\n",
    "    metric=\"kl_div\",\n",
    ")"
   ]
  },
  {
   "cell_type": "code",
   "execution_count": null,
   "metadata": {},
   "outputs": [],
   "source": [
    "calc_mutlimodel_metric_average(\n",
    "    modeltype1=mu_ms,\n",
    "    modeltype2=trained_ms,\n",
    "    testing_loader=dataloader,\n",
    "    metric=\"kl_div\",\n",
    ")"
   ]
  },
  {
   "cell_type": "markdown",
   "metadata": {},
   "source": [
    "### Accuracy\n",
    "\n",
    "- $D_{Gesamt}$\n",
    "- $D_{Erased}$\n",
    "- $D_{Remain}$\n",
    "- $D_{Accuracy Per Class}$"
   ]
  },
  {
   "cell_type": "code",
   "execution_count": null,
   "metadata": {},
   "outputs": [],
   "source": [
    "from visualize import boxplotting_multimodel_eval\n",
    "\n",
    "accs = {}"
   ]
  },
  {
   "cell_type": "markdown",
   "metadata": {},
   "source": [
    "Now, let us see what metrics each model has"
   ]
  },
  {
   "cell_type": "code",
   "execution_count": null,
   "metadata": {},
   "outputs": [
    {
     "name": "stdout",
     "output_type": "stream",
     "text": [
      "Starts evaluation for 'mnist'...\n"
     ]
    },
    {
     "name": "stderr",
     "output_type": "stream",
     "text": [
      "                                                                            \r"
     ]
    },
    {
     "data": {
      "image/png": "[encoded data removed]",
      "text/plain": [
       "<Figure size 1000x600 with 1 Axes>"
      ]
     },
     "metadata": {},
     "output_type": "display_data"
    },
    {
     "data": {
      "text/plain": [
       "{'D_gesamt': [0.8713428571428572,\n",
       "  0.8710571428571429,\n",
       "  0.8710571428571429,\n",
       "  0.8705428571428572,\n",
       "  0.8723571428571428,\n",
       "  0.8727428571428572,\n",
       "  0.8728428571428571,\n",
       "  0.8709571428571429,\n",
       "  0.8706714285714285,\n",
       "  0.8712142857142857,\n",
       "  0.8721428571428571,\n",
       "  0.8723857142857143,\n",
       "  0.8725142857142857,\n",
       "  0.8711571428571429,\n",
       "  0.8709142857142858,\n",
       "  0.8709,\n",
       "  0.8702857142857143,\n",
       "  0.8698285714285714,\n",
       "  0.8718285714285714,\n",
       "  0.8701714285714286,\n",
       "  0.8713285714285715,\n",
       "  0.8719,\n",
       "  0.8704571428571428,\n",
       "  0.8719714285714286,\n",
       "  0.8705714285714286,\n",
       "  0.8716857142857143,\n",
       "  0.8704571428571428,\n",
       "  0.8724571428571428,\n",
       "  0.8698,\n",
       "  0.8723],\n",
       " 'D_erased': [0.5287588294651867,\n",
       "  0.515640766902119,\n",
       "  0.5257315842583249,\n",
       "  0.5186680121089808,\n",
       "  0.5116044399596368,\n",
       "  0.5176589303733602,\n",
       "  0.5116044399596368,\n",
       "  0.5065590312815338,\n",
       "  0.49848637739656915,\n",
       "  0.5216952573158425,\n",
       "  0.5216952573158425,\n",
       "  0.5267406659939455,\n",
       "  0.5166498486377397,\n",
       "  0.5307769929364279,\n",
       "  0.5025227043390514,\n",
       "  0.5267406659939455,\n",
       "  0.513622603430878,\n",
       "  0.5237134207870837,\n",
       "  0.5166498486377397,\n",
       "  0.5196770938446014,\n",
       "  0.5095862764883956,\n",
       "  0.5095862764883956,\n",
       "  0.5116044399596368,\n",
       "  0.5247225025227044,\n",
       "  0.5166498486377397,\n",
       "  0.5176589303733602,\n",
       "  0.5176589303733602,\n",
       "  0.5287588294651867,\n",
       "  0.508577194752775,\n",
       "  0.5105953582240161],\n",
       " 'D_remain': [0.8762625164833573,\n",
       "  0.8761610804387834,\n",
       "  0.8760161718036777,\n",
       "  0.8755959367618716,\n",
       "  0.8775377124722862,\n",
       "  0.8778420206060079,\n",
       "  0.8780304018316452,\n",
       "  0.8761900621658044,\n",
       "  0.8760161718036777,\n",
       "  0.8762335347563361,\n",
       "  0.8771754408845223,\n",
       "  0.8773493312466489,\n",
       "  0.8776246576533495,\n",
       "  0.8760451535306989,\n",
       "  0.876204553029315,\n",
       "  0.8758422814415511,\n",
       "  0.8754075555362344,\n",
       "  0.874798939268791,\n",
       "  0.8769290962048428,\n",
       "  0.8752046834470866,\n",
       "  0.8765233520265473,\n",
       "  0.8771029865669695,\n",
       "  0.8756104276253822,\n",
       "  0.876958077931864,\n",
       "  0.8756539002159138,\n",
       "  0.8767696967062267,\n",
       "  0.8755234824443189,\n",
       "  0.8773928038371807,\n",
       "  0.8749873204944283,\n",
       "  0.8774942398817546],\n",
       " '0': [0.9666811531218311,\n",
       "  0.9669708822251195,\n",
       "  0.9675503404316964,\n",
       "  0.9658119658119658,\n",
       "  0.96595683036361,\n",
       "  0.9650876430537447,\n",
       "  0.9684195277415616,\n",
       "  0.9666811531218311,\n",
       "  0.9647979139504563,\n",
       "  0.9685643922932059,\n",
       "  0.9661016949152542,\n",
       "  0.9674054758800521,\n",
       "  0.96595683036361,\n",
       "  0.9661016949152542,\n",
       "  0.9669708822251195,\n",
       "  0.9672606113284079,\n",
       "  0.9681297986382732,\n",
       "  0.9684195277415616,\n",
       "  0.9668260176734753,\n",
       "  0.9672606113284079,\n",
       "  0.9663914240185426,\n",
       "  0.9662465594668984,\n",
       "  0.96595683036361,\n",
       "  0.9671157467767637,\n",
       "  0.96595683036361,\n",
       "  0.9665362885701869,\n",
       "  0.9666811531218311,\n",
       "  0.96595683036361,\n",
       "  0.9658119658119658,\n",
       "  0.9678400695349848],\n",
       " '1': [0.9216706868096991,\n",
       "  0.9233210613177606,\n",
       "  0.9198933604164021,\n",
       "  0.9233210613177606,\n",
       "  0.9223054462358766,\n",
       "  0.9215437349244636,\n",
       "  0.9223054462358766,\n",
       "  0.9200203123016377,\n",
       "  0.9221784943506411,\n",
       "  0.9212898311539927,\n",
       "  0.9223054462358766,\n",
       "  0.9234480132029961,\n",
       "  0.9188777453345183,\n",
       "  0.9181160340231053,\n",
       "  0.923955820743938,\n",
       "  0.9225593500063476,\n",
       "  0.9219245905801701,\n",
       "  0.9205281198425797,\n",
       "  0.922940205662054,\n",
       "  0.9217976386949346,\n",
       "  0.9228132537768186,\n",
       "  0.9233210613177606,\n",
       "  0.9206550717278151,\n",
       "  0.9223054462358766,\n",
       "  0.9211628792687572,\n",
       "  0.92446362828488,\n",
       "  0.9212898311539927,\n",
       "  0.9256061952519995,\n",
       "  0.9215437349244636,\n",
       "  0.923701916973467],\n",
       " '2': [0.7828326180257511,\n",
       "  0.7839771101573677,\n",
       "  0.7835479256080115,\n",
       "  0.7825464949928469,\n",
       "  0.7854077253218884,\n",
       "  0.7844062947067239,\n",
       "  0.7869814020028613,\n",
       "  0.7836909871244635,\n",
       "  0.7793991416309013,\n",
       "  0.7818311874105865,\n",
       "  0.7841201716738198,\n",
       "  0.7856938483547926,\n",
       "  0.7874105865522174,\n",
       "  0.7805436337625179,\n",
       "  0.7802575107296137,\n",
       "  0.7809728183118742,\n",
       "  0.7763948497854077,\n",
       "  0.7791130185979971,\n",
       "  0.7859799713876967,\n",
       "  0.776824034334764,\n",
       "  0.7819742489270386,\n",
       "  0.7871244635193133,\n",
       "  0.7792560801144492,\n",
       "  0.7848354792560801,\n",
       "  0.7806866952789699,\n",
       "  0.7818311874105865,\n",
       "  0.7812589413447782,\n",
       "  0.782689556509299,\n",
       "  0.7802575107296137,\n",
       "  0.784549356223176],\n",
       " '3': [0.8784483965831116,\n",
       "  0.87494748634645,\n",
       "  0.8773281053073799,\n",
       "  0.8745273771180507,\n",
       "  0.8771880688979135,\n",
       "  0.8791485786304439,\n",
       "  0.8771880688979135,\n",
       "  0.8762078140316483,\n",
       "  0.873407085842319,\n",
       "  0.8769079960789805,\n",
       "  0.878868505811511,\n",
       "  0.8766279232600476,\n",
       "  0.8771880688979135,\n",
       "  0.8792886150399104,\n",
       "  0.8812491247724409,\n",
       "  0.8755076319843159,\n",
       "  0.8809690519535079,\n",
       "  0.8783083601736451,\n",
       "  0.8790085422209775,\n",
       "  0.8764878868505811,\n",
       "  0.8784483965831116,\n",
       "  0.8783083601736451,\n",
       "  0.8759277412127153,\n",
       "  0.8795686878588433,\n",
       "  0.8769079960789805,\n",
       "  0.8745273771180507,\n",
       "  0.8798487606777762,\n",
       "  0.8781683237641786,\n",
       "  0.8720067217476544,\n",
       "  0.8764878868505811],\n",
       " '4': [0.8871629542790153,\n",
       "  0.8878956623681126,\n",
       "  0.8911195779601406,\n",
       "  0.8877491207502931,\n",
       "  0.8876025791324736,\n",
       "  0.8898007033997656,\n",
       "  0.8896541617819461,\n",
       "  0.8931711606096131,\n",
       "  0.8881887456037515,\n",
       "  0.8884818288393904,\n",
       "  0.8922919109026963,\n",
       "  0.8898007033997656,\n",
       "  0.891559202813599,\n",
       "  0.891559202813599,\n",
       "  0.8887749120750293,\n",
       "  0.8871629542790153,\n",
       "  0.8914126611957796,\n",
       "  0.8849648300117233,\n",
       "  0.8881887456037515,\n",
       "  0.8906799531066822,\n",
       "  0.8900937866354045,\n",
       "  0.8922919109026963,\n",
       "  0.889947245017585,\n",
       "  0.8886283704572099,\n",
       "  0.8905334114888629,\n",
       "  0.8865767878077374,\n",
       "  0.8852579132473622,\n",
       "  0.888335287221571,\n",
       "  0.8892145369284877,\n",
       "  0.8903868698710434],\n",
       " '5': [0.7977189925550452,\n",
       "  0.7959765563123713,\n",
       "  0.7955013464280057,\n",
       "  0.7931252970061777,\n",
       "  0.7999366386820845,\n",
       "  0.8019958815143355,\n",
       "  0.7989862189133534,\n",
       "  0.7945509266592745,\n",
       "  0.7956597497227942,\n",
       "  0.7950261365436401,\n",
       "  0.8015206716299699,\n",
       "  0.7913828607635038,\n",
       "  0.8023126881039125,\n",
       "  0.7958181530175827,\n",
       "  0.7923332805322351,\n",
       "  0.7891652146364644,\n",
       "  0.794075716774909,\n",
       "  0.7921748772374465,\n",
       "  0.7964517661967369,\n",
       "  0.7931252970061777,\n",
       "  0.7962933629019484,\n",
       "  0.7937589101853318,\n",
       "  0.7931252970061777,\n",
       "  0.7972437826706795,\n",
       "  0.7924916838270236,\n",
       "  0.7989862189133534,\n",
       "  0.7905908442895612,\n",
       "  0.7978773958498336,\n",
       "  0.7997782353872961,\n",
       "  0.7961349596071599],\n",
       " '6': [0.8931064572425829,\n",
       "  0.891215823152996,\n",
       "  0.891652123327516,\n",
       "  0.8933973240255962,\n",
       "  0.8948516579406631,\n",
       "  0.8999418266433973,\n",
       "  0.8974694589877836,\n",
       "  0.889325189063409,\n",
       "  0.8951425247236765,\n",
       "  0.8931064572425829,\n",
       "  0.8955788248981966,\n",
       "  0.8971785922047703,\n",
       "  0.8949970913321699,\n",
       "  0.8965968586387435,\n",
       "  0.8932518906340896,\n",
       "  0.8948516579406631,\n",
       "  0.893542757417103,\n",
       "  0.891652123327516,\n",
       "  0.893542757417103,\n",
       "  0.893979057591623,\n",
       "  0.8919429901105294,\n",
       "  0.89586969168121,\n",
       "  0.891215823152996,\n",
       "  0.8951425247236765,\n",
       "  0.8926701570680629,\n",
       "  0.897760325770797,\n",
       "  0.891215823152996,\n",
       "  0.8965968586387435,\n",
       "  0.8897614892379291,\n",
       "  0.8976148923792903],\n",
       " '8': [0.8593406593406593,\n",
       "  0.8567032967032967,\n",
       "  0.8613919413919414,\n",
       "  0.8591941391941392,\n",
       "  0.8613919413919414,\n",
       "  0.8608058608058609,\n",
       "  0.8615384615384616,\n",
       "  0.8603663003663004,\n",
       "  0.8660805860805861,\n",
       "  0.8583150183150183,\n",
       "  0.8536263736263736,\n",
       "  0.8631501831501831,\n",
       "  0.8628571428571429,\n",
       "  0.8584615384615385,\n",
       "  0.8540659340659341,\n",
       "  0.85992673992674,\n",
       "  0.8567032967032967,\n",
       "  0.8589010989010989,\n",
       "  0.8565567765567765,\n",
       "  0.8574358974358974,\n",
       "  0.8581684981684982,\n",
       "  0.8574358974358974,\n",
       "  0.8638827838827838,\n",
       "  0.8602197802197802,\n",
       "  0.8606593406593407,\n",
       "  0.8540659340659341,\n",
       "  0.8578754578754578,\n",
       "  0.8605128205128205,\n",
       "  0.856996336996337,\n",
       "  0.8603663003663004],\n",
       " '9': [0.8217878700776086,\n",
       "  0.8268180511641277,\n",
       "  0.8177637252083932,\n",
       "  0.8226501868352974,\n",
       "  0.8276803679218167,\n",
       "  0.8216441506179937,\n",
       "  0.8236562230526013,\n",
       "  0.82480597872952,\n",
       "  0.8219315895372233,\n",
       "  0.8252371371083644,\n",
       "  0.8240873814314458,\n",
       "  0.8216441506179937,\n",
       "  0.8219315895372233,\n",
       "  0.8200632365622306,\n",
       "  0.826530612244898,\n",
       "  0.8259557344064387,\n",
       "  0.8180511641276229,\n",
       "  0.8197757976430009,\n",
       "  0.8250934176487497,\n",
       "  0.819632078183386,\n",
       "  0.8237999425122161,\n",
       "  0.8223627479160678,\n",
       "  0.8212129922391492,\n",
       "  0.820494394941075,\n",
       "  0.8227939062949123,\n",
       "  0.8276803679218167,\n",
       "  0.8255245760275941,\n",
       "  0.8236562230526013,\n",
       "  0.822219028456453,\n",
       "  0.823943661971831],\n",
       " '7_all': [0.8915398327163033,\n",
       "  0.8893459481694775,\n",
       "  0.8918140682846565,\n",
       "  0.8894830659536542,\n",
       "  0.888523241464418,\n",
       "  0.8905800082270671,\n",
       "  0.8894830659536542,\n",
       "  0.8878376525435349,\n",
       "  0.8870149458384753,\n",
       "  0.8901686548745372,\n",
       "  0.8901686548745372,\n",
       "  0.893733717263129,\n",
       "  0.8900315370903606,\n",
       "  0.8922254216371863,\n",
       "  0.8878376525435349,\n",
       "  0.8916769505004799,\n",
       "  0.8882490058960647,\n",
       "  0.8908542437954202,\n",
       "  0.8903057726587138,\n",
       "  0.8909913615795969,\n",
       "  0.8900315370903606,\n",
       "  0.8887974770327711,\n",
       "  0.8901686548745372,\n",
       "  0.8909913615795969,\n",
       "  0.888523241464418,\n",
       "  0.8911284793637735,\n",
       "  0.8911284793637735,\n",
       "  0.8916769505004799,\n",
       "  0.8877005347593583,\n",
       "  0.8887974770327711],\n",
       " '7_remain': [0.9485877499206601,\n",
       "  0.9481117105680736,\n",
       "  0.9493811488416376,\n",
       "  0.9477943509996827,\n",
       "  0.9477943509996827,\n",
       "  0.9492224690574421,\n",
       "  0.948905109489051,\n",
       "  0.9477943509996827,\n",
       "  0.9481117105680736,\n",
       "  0.9481117105680736,\n",
       "  0.9481117105680736,\n",
       "  0.951443986036179,\n",
       "  0.9487464297048556,\n",
       "  0.9490637892732466,\n",
       "  0.9484290701364646,\n",
       "  0.9490637892732466,\n",
       "  0.9471596318629006,\n",
       "  0.9485877499206601,\n",
       "  0.9490637892732466,\n",
       "  0.9493811488416376,\n",
       "  0.949857188194224,\n",
       "  0.9484290701364646,\n",
       "  0.9496985084100286,\n",
       "  0.9485877499206601,\n",
       "  0.9470009520787052,\n",
       "  0.949857188194224,\n",
       "  0.949857188194224,\n",
       "  0.9487464297048556,\n",
       "  0.9473183116470961,\n",
       "  0.9482703903522691],\n",
       " '7_erased': [0.5287588294651867,\n",
       "  0.515640766902119,\n",
       "  0.5257315842583249,\n",
       "  0.5186680121089808,\n",
       "  0.5116044399596368,\n",
       "  0.5176589303733602,\n",
       "  0.5116044399596368,\n",
       "  0.5065590312815338,\n",
       "  0.49848637739656915,\n",
       "  0.5216952573158425,\n",
       "  0.5216952573158425,\n",
       "  0.5267406659939455,\n",
       "  0.5166498486377397,\n",
       "  0.5307769929364279,\n",
       "  0.5025227043390514,\n",
       "  0.5267406659939455,\n",
       "  0.513622603430878,\n",
       "  0.5237134207870837,\n",
       "  0.5166498486377397,\n",
       "  0.5196770938446014,\n",
       "  0.5095862764883956,\n",
       "  0.5095862764883956,\n",
       "  0.5116044399596368,\n",
       "  0.5247225025227044,\n",
       "  0.5166498486377397,\n",
       "  0.5176589303733602,\n",
       "  0.5176589303733602,\n",
       "  0.5287588294651867,\n",
       "  0.508577194752775,\n",
       "  0.5105953582240161]}"
      ]
     },
     "execution_count": 26,
     "metadata": {},
     "output_type": "execute_result"
    }
   ],
   "source": [
    "# can take like 80minutes\n",
    "accs[\"mu_ms\"] = boxplotting_multimodel_eval(mu_ms, dataset_name=USED_DATASET, evaluation=\"accuracy\", logs=True)"
   ]
  },
  {
   "cell_type": "markdown",
   "metadata": {},
   "source": [
    "#### Losses"
   ]
  },
  {
   "cell_type": "code",
   "execution_count": null,
   "metadata": {},
   "outputs": [],
   "source": [
    "losses = {}"
   ]
  },
  {
   "cell_type": "code",
   "execution_count": null,
   "metadata": {},
   "outputs": [],
   "source": [
    "losses[\"mu_ms\"] = boxplotting_multimodel_eval(mu_ms, dataset_name=USED_DATASET, evaluation=\"loss\", logs=True)"
   ]
  }
 ],
 "metadata": {
  "kernelspec": {
   "display_name": "bach.conda",
   "language": "python",
   "name": "python3"
  },
  "language_info": {
   "codemirror_mode": {
    "name": "ipython",
    "version": 3
   },
   "file_extension": ".py",
   "mimetype": "text/x-python",
   "name": "python",
   "nbconvert_exporter": "python",
   "pygments_lexer": "ipython3",
   "version": "3.12.5"
  }
 },
 "nbformat": 4,
 "nbformat_minor": 2
}
