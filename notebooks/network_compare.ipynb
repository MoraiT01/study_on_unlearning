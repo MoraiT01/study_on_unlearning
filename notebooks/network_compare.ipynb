{
 "cells": [
  {
   "cell_type": "markdown",
   "metadata": {},
   "source": [
    "# Comparing Networks\n",
    "\n",
    "In this notebook, we want to compare different network to each other.\n",
    "We will start of with...\n",
    "\n",
    "- Untrained Model\n",
    "- Trained Model\n",
    "- Trained Model (Exact Unlearning)*$^1$\n",
    "\n",
    "All these model should serve as comparison point for approximate MU Algorithms, which we want to try out\n",
    "\n",
    "*$^1$ Exact Unlearning: refers to an complete retraining of the Model, without the samples which we want to unlearn."
   ]
  },
  {
   "cell_type": "code",
   "execution_count": 1,
   "metadata": {},
   "outputs": [
    {
     "name": "stderr",
     "output_type": "stream",
     "text": [
      "c:\\Users\\morit\\miniconda3\\envs\\bach.conda\\Lib\\site-packages\\tqdm\\auto.py:21: TqdmWarning: IProgress not found. Please update jupyter and ipywidgets. See https://ipywidgets.readthedocs.io/en/stable/user_install.html\n",
      "  from .autonotebook import tqdm as notebook_tqdm\n"
     ]
    },
    {
     "data": {
      "text/plain": [
       "139"
      ]
     },
     "execution_count": 1,
     "metadata": {},
     "output_type": "execute_result"
    }
   ],
   "source": [
    "import os\n",
    "import sys\n",
    "\n",
    "# Add the parent directory to sys.path\n",
    "sys.path.append(os.path.join('..', 'src'))\n",
    "\n",
    "import torch\n",
    "import copy\n",
    "from PIL import Image\n",
    "import numpy as np\n",
    "# from helper import get_model TODO Muss überarbeitet werden\n",
    "from mlp_dataclass import MNIST_CostumDataset, TwoLayerPerceptron, ConvNet\n",
    "from training import main, train_n_models\n",
    "from helper import load_models_dict\n",
    "\n",
    "USED_DATASET = \"mnist\"\n",
    "# OUT OF: [\"mnist\", \"cmnist\", \"fashion_mnist\"]\n",
    "\n",
    "ALLREADY_TRAINED = False\n",
    "\n",
    "data = MNIST_CostumDataset(\n",
    "    sample_mode=\"only_erased\",\n",
    "    train= False,\n",
    "    test = True,\n",
    "    classes=[\"7\"],\n",
    "    dataset_name = USED_DATASET,\n",
    "    download=True,\n",
    ")\n",
    "len(data)"
   ]
  },
  {
   "cell_type": "code",
   "execution_count": 2,
   "metadata": {},
   "outputs": [],
   "source": [
    "def prepare_sample(path:str):\n",
    "    \"\"\"preps sample to pass to model, transforms to tensor, reshape to 784, shaping it as batch\"\"\"\n",
    "    sample = Image.open(path).convert(\"L\")\n",
    "    sample = torch.Tensor(np.array(sample)).reshape(784)\n",
    "    \n",
    "    return sample.unsqueeze(0)\n",
    "\n",
    "def show_sample(sample:torch.Tensor):\n",
    "    \"\"\"Converts the sample to a numpy array and reshapes it to a 28x28 image\"\"\"\n",
    "    sample = sample.reshape(28, 28)\n",
    "    sample = sample.numpy()\n",
    "    sample = Image.fromarray(sample)\n",
    "    return sample"
   ]
  },
  {
   "cell_type": "markdown",
   "metadata": {},
   "source": [
    "____"
   ]
  },
  {
   "cell_type": "markdown",
   "metadata": {},
   "source": [
    "### Untrained Model\n",
    "\n",
    "We want to include an untrained model as a pour reference point.\n",
    "\n",
    "Later, we will compare the differently trained (and untrained) models on different metrics. We are thinking, that the **untrained model should always be the furthest neighbor** and see if thats true. Also out of pur curiosity, how do the models compare according to the found metrics to the untrained model.\n",
    "\n",
    "It could be interesting to see, if the unlearned models tend to be more similar to the \"Exact MU Model\" or to the \"Untrained Model\"\n",
    "\n",
    "The \"Trained Model\"´s and \"Exact Model\"´s starting point is the \"Untrained Model\". That means all models can be traced back to it."
   ]
  },
  {
   "cell_type": "code",
   "execution_count": 4,
   "metadata": {},
   "outputs": [],
   "source": [
    "untrained_model = TwoLayerPerceptron()"
   ]
  },
  {
   "cell_type": "code",
   "execution_count": null,
   "metadata": {},
   "outputs": [],
   "source": [
    "untrained_ms = {f\"untrained_{USED_DATASET}_{v}\": TwoLayerPerceptron() for v in range(30)}"
   ]
  },
  {
   "cell_type": "markdown",
   "metadata": {},
   "source": [
    "___"
   ]
  },
  {
   "cell_type": "markdown",
   "metadata": {},
   "source": [
    "### Trained Model\n",
    "\n",
    "This model will be the starting point for all MU algorithms. The more it is important that it does not change throughout the experiments, otherwise we need to run everything again.\n",
    "\n",
    "Notes Regarding the Dataloader: We included Up-/Downsampling. There is a counter in the Dataset class, which controls, which class is next to provide a sample. From the available pool a sample will be chosen at random.\n",
    "\n",
    "Reason: The amount of available samples should not influence the performance of the model on certain classes.\n",
    "\n",
    "Regarding the samples for the class \"7\": There are more samples of sevens without a middle line than ones with.\n",
    "\n",
    "Ratio: \n",
    "- 6268 (train: 5385, test: 883)\n",
    "- 1025 (train: 880,  test: 145)\n",
    "\n",
    "Should there be concerns regarding that the bigger part of the sevens (without middle line) will be unlearning?"
   ]
  },
  {
   "cell_type": "code",
   "execution_count": 6,
   "metadata": {},
   "outputs": [
    {
     "name": "stderr",
     "output_type": "stream",
     "text": [
      "                                                                               \r"
     ]
    },
    {
     "name": "stdout",
     "output_type": "stream",
     "text": [
      "Number of Updates [6000/60000] - Train Loss: 1.4348 - Val Loss: 0.9996 - Train Accuracy: 0.6228 - Val Accuracy: 0.6737\n"
     ]
    },
    {
     "name": "stderr",
     "output_type": "stream",
     "text": [
      "                                                                                 \r"
     ]
    },
    {
     "name": "stdout",
     "output_type": "stream",
     "text": [
      "Number of Updates [12000/60000] - Train Loss: 0.8719 - Val Loss: 0.7967 - Train Accuracy: 0.7138 - Val Accuracy: 0.7330\n"
     ]
    },
    {
     "name": "stderr",
     "output_type": "stream",
     "text": [
      "                                                                                 \r"
     ]
    },
    {
     "name": "stdout",
     "output_type": "stream",
     "text": [
      "Number of Updates [18000/60000] - Train Loss: 0.7388 - Val Loss: 0.7124 - Train Accuracy: 0.7542 - Val Accuracy: 0.7571\n"
     ]
    },
    {
     "name": "stderr",
     "output_type": "stream",
     "text": [
      "                                                                                 \r"
     ]
    },
    {
     "name": "stdout",
     "output_type": "stream",
     "text": [
      "Number of Updates [24000/60000] - Train Loss: 0.6776 - Val Loss: 0.6613 - Train Accuracy: 0.7763 - Val Accuracy: 0.7819\n"
     ]
    },
    {
     "name": "stderr",
     "output_type": "stream",
     "text": [
      "                                                                                 \r"
     ]
    },
    {
     "name": "stdout",
     "output_type": "stream",
     "text": [
      "Number of Updates [30000/60000] - Train Loss: 0.6296 - Val Loss: 0.6248 - Train Accuracy: 0.7908 - Val Accuracy: 0.7887\n"
     ]
    },
    {
     "name": "stderr",
     "output_type": "stream",
     "text": [
      "                                                                                 \r"
     ]
    },
    {
     "name": "stdout",
     "output_type": "stream",
     "text": [
      "Number of Updates [36000/60000] - Train Loss: 0.6039 - Val Loss: 0.6190 - Train Accuracy: 0.8053 - Val Accuracy: 0.7927\n"
     ]
    },
    {
     "name": "stderr",
     "output_type": "stream",
     "text": [
      "                                                                                 \r"
     ]
    },
    {
     "name": "stdout",
     "output_type": "stream",
     "text": [
      "Number of Updates [42000/60000] - Train Loss: 0.5912 - Val Loss: 0.6162 - Train Accuracy: 0.8123 - Val Accuracy: 0.7939\n"
     ]
    },
    {
     "name": "stderr",
     "output_type": "stream",
     "text": [
      "                                                                                \r"
     ]
    },
    {
     "name": "stdout",
     "output_type": "stream",
     "text": [
      "Number of Updates [48000/60000] - Train Loss: 0.5825 - Val Loss: 0.6137 - Train Accuracy: 0.8152 - Val Accuracy: 0.7933\n"
     ]
    },
    {
     "name": "stderr",
     "output_type": "stream",
     "text": [
      "                                                                                 \r"
     ]
    },
    {
     "name": "stdout",
     "output_type": "stream",
     "text": [
      "Number of Updates [54000/60000] - Train Loss: 0.5900 - Val Loss: 0.6106 - Train Accuracy: 0.8107 - Val Accuracy: 0.7950\n"
     ]
    },
    {
     "name": "stderr",
     "output_type": "stream",
     "text": [
      "                                                                                \r"
     ]
    },
    {
     "name": "stdout",
     "output_type": "stream",
     "text": [
      "Number of Updates [60000/60000] - Train Loss: 0.5960 - Val Loss: 0.6080 - Train Accuracy: 0.8048 - Val Accuracy: 0.7941\n"
     ]
    },
    {
     "data": {
      "image/png": "[encoded data removed]",
      "text/plain": [
       "<Figure size 1000x500 with 1 Axes>"
      ]
     },
     "metadata": {},
     "output_type": "display_data"
    },
    {
     "data": {
      "image/png": "[encoded data removed]",
      "text/plain": [
       "<Figure size 1000x500 with 1 Axes>"
      ]
     },
     "metadata": {},
     "output_type": "display_data"
    },
    {
     "name": "stdout",
     "output_type": "stream",
     "text": [
      "Model saved to:  ..\\data\\models\\fashion_mnist\\all\\TwoLayerPerceptron_b_trained_showcase\n"
     ]
    }
   ],
   "source": [
    "# Train a single model first\n",
    "if not ALLREADY_TRAINED:\n",
    "    trained_showcase_all = main(\n",
    "        new_name=\"trained_showcase\",\n",
    "        model=None,\n",
    "        sampling_mode=\"all\",\n",
    "        balanced=True,\n",
    "        dataset_name=\"fashion_mnist\",\n",
    "        include_val=True,\n",
    "        logs=True,\n",
    "    )\n",
    "else:\n",
    "    if USED_DATASET in [\"mnist\", \"fashion_mnist\"]:\n",
    "        trained_showcase_all= TwoLayerPerceptron()\n",
    "    if USED_DATASET in [\"cmnist\"]:\n",
    "        trained_showcase_all = ConvNet()\n",
    "    trained_showcase_all.load_state_dict(\n",
    "        torch.load(\n",
    "            path=f\"..{os.sep}data{os.sep}models{os.sep}{USED_DATASET}{os.sep}all{os.sep}TwoLayerPerceptron_b_trained_showcase\",\n",
    "            weights_only=True\n",
    "            )\n",
    "        )"
   ]
  },
  {
   "cell_type": "code",
   "execution_count": null,
   "metadata": {},
   "outputs": [
    {
     "name": "stderr",
     "output_type": "stream",
     "text": [
      "Training models: 100%|██████████| 30/30 [03:46<00:00,  7.56s/models]\n"
     ]
    }
   ],
   "source": [
    "if not ALLREADY_TRAINED:\n",
    "    trained_ms = train_n_models(\n",
    "        sampling_mode=\"all\",\n",
    "        dataset_name=USED_DATASET,\n",
    "        logs=False,\n",
    "        test_ensemble=True,\n",
    "    )\n",
    "else:\n",
    "    trained_ms = load_models_dict(path=f\"..{os.sep}data{os.sep}models{os.sep}{USED_DATASET}{os.sep}all{os.sep}test_ensemble\")"
   ]
  },
  {
   "cell_type": "markdown",
   "metadata": {},
   "source": [
    "___"
   ]
  },
  {
   "cell_type": "markdown",
   "metadata": {},
   "source": [
    "### Exact Unlearned Model\n",
    "\n",
    "This model has the same training conditions as the \"Trained Model\", with the only difference being, that it had no sevens __with no middle line__"
   ]
  },
  {
   "cell_type": "code",
   "execution_count": 7,
   "metadata": {},
   "outputs": [
    {
     "name": "stderr",
     "output_type": "stream",
     "text": [
      "                                                                               \r"
     ]
    },
    {
     "name": "stdout",
     "output_type": "stream",
     "text": [
      "Number of Updates [6000/60000] - Train Loss: 2.0449 - Val Loss: 1.7457 - Train Accuracy: 0.6097 - Val Accuracy: 0.7935\n"
     ]
    },
    {
     "name": "stderr",
     "output_type": "stream",
     "text": [
      "                                                                                \r"
     ]
    },
    {
     "name": "stdout",
     "output_type": "stream",
     "text": [
      "Number of Updates [12000/60000] - Train Loss: 1.4780 - Val Loss: 1.1945 - Train Accuracy: 0.8008 - Val Accuracy: 0.8389\n"
     ]
    },
    {
     "name": "stderr",
     "output_type": "stream",
     "text": [
      "                                                                                \r"
     ]
    },
    {
     "name": "stdout",
     "output_type": "stream",
     "text": [
      "Number of Updates [18000/60000] - Train Loss: 1.0457 - Val Loss: 0.8682 - Train Accuracy: 0.8287 - Val Accuracy: 0.8562\n"
     ]
    },
    {
     "name": "stderr",
     "output_type": "stream",
     "text": [
      "                                                                                \r"
     ]
    },
    {
     "name": "stdout",
     "output_type": "stream",
     "text": [
      "Number of Updates [24000/60000] - Train Loss: 0.8222 - Val Loss: 0.6956 - Train Accuracy: 0.8357 - Val Accuracy: 0.8707\n"
     ]
    },
    {
     "name": "stderr",
     "output_type": "stream",
     "text": [
      "                                                                                \r"
     ]
    },
    {
     "name": "stdout",
     "output_type": "stream",
     "text": [
      "Number of Updates [30000/60000] - Train Loss: 0.6676 - Val Loss: 0.5906 - Train Accuracy: 0.8633 - Val Accuracy: 0.8802\n"
     ]
    },
    {
     "name": "stderr",
     "output_type": "stream",
     "text": [
      "                                                                                \r"
     ]
    },
    {
     "name": "stdout",
     "output_type": "stream",
     "text": [
      "Number of Updates [36000/60000] - Train Loss: 0.6153 - Val Loss: 0.5825 - Train Accuracy: 0.8715 - Val Accuracy: 0.8811\n"
     ]
    },
    {
     "name": "stderr",
     "output_type": "stream",
     "text": [
      "                                                                                \r"
     ]
    },
    {
     "name": "stdout",
     "output_type": "stream",
     "text": [
      "Number of Updates [42000/60000] - Train Loss: 0.6175 - Val Loss: 0.5747 - Train Accuracy: 0.8610 - Val Accuracy: 0.8816\n"
     ]
    },
    {
     "name": "stderr",
     "output_type": "stream",
     "text": [
      "                                                                                \r"
     ]
    },
    {
     "name": "stdout",
     "output_type": "stream",
     "text": [
      "Number of Updates [48000/60000] - Train Loss: 0.5980 - Val Loss: 0.5672 - Train Accuracy: 0.8732 - Val Accuracy: 0.8826\n"
     ]
    },
    {
     "name": "stderr",
     "output_type": "stream",
     "text": [
      "                                                                                \r"
     ]
    },
    {
     "name": "stdout",
     "output_type": "stream",
     "text": [
      "Number of Updates [54000/60000] - Train Loss: 0.5922 - Val Loss: 0.5601 - Train Accuracy: 0.8698 - Val Accuracy: 0.8837\n"
     ]
    },
    {
     "name": "stderr",
     "output_type": "stream",
     "text": [
      "                                                                                 \r"
     ]
    },
    {
     "name": "stdout",
     "output_type": "stream",
     "text": [
      "Number of Updates [60000/60000] - Train Loss: 0.5877 - Val Loss: 0.5534 - Train Accuracy: 0.8748 - Val Accuracy: 0.8839\n"
     ]
    },
    {
     "data": {
      "image/png": "[encoded data removed]",
      "text/plain": [
       "<Figure size 1000x500 with 1 Axes>"
      ]
     },
     "metadata": {},
     "output_type": "display_data"
    },
    {
     "data": {
      "image/png": "[encoded data removed]",
      "text/plain": [
       "<Figure size 1000x500 with 1 Axes>"
      ]
     },
     "metadata": {},
     "output_type": "display_data"
    },
    {
     "name": "stdout",
     "output_type": "stream",
     "text": [
      "Model saved to:  ..\\data\\models\\mnist\\except_erased\\TwoLayerPerceptron_b_trained_showcase\n"
     ]
    }
   ],
   "source": [
    "# Train a single model first\n",
    "if not ALLREADY_TRAINED:\n",
    "    trained_showcase_except = main(\n",
    "        new_name=\"trained_showcase\",\n",
    "        model=None,\n",
    "        sampling_mode=\"except_erased\",\n",
    "        balanced=True,\n",
    "        dataset_name=USED_DATASET,\n",
    "        include_val=True,\n",
    "        logs=True,\n",
    "    )\n",
    "else:\n",
    "    if USED_DATASET in [\"mnist\", \"fashion_mnist\"]:\n",
    "        trained_showcase_except= TwoLayerPerceptron()\n",
    "    if USED_DATASET in [\"cmnist\"]:\n",
    "        trained_showcase_except = ConvNet()\n",
    "    trained_showcase_except.load_state_dict(\n",
    "        torch.load(\n",
    "            path=f\"..{os.sep}data{os.sep}models{os.sep}{USED_DATASET}{os.sep}except_erased{os.sep}TwoLayerPerceptron_b_trained_showcase\",\n",
    "            weights_only=True\n",
    "            )\n",
    "        )"
   ]
  },
  {
   "cell_type": "code",
   "execution_count": null,
   "metadata": {},
   "outputs": [
    {
     "name": "stderr",
     "output_type": "stream",
     "text": [
      "Training models: 100%|██████████| 30/30 [03:52<00:00,  7.74s/models]\n"
     ]
    }
   ],
   "source": [
    "if not ALLREADY_TRAINED:\n",
    "    exact_ms = train_n_models(\n",
    "        sampling_mode=\"except_erased\",\n",
    "        dataset_name=USED_DATASET,\n",
    "        logs=False,\n",
    "        test_ensemble=True,\n",
    "    )\n",
    "else:\n",
    "    exact_ms = load_models_dict(path=f\"..{os.sep}data{os.sep}models{os.sep}{USED_DATASET}{os.sep}except_erased{os.sep}test_ensemble\")"
   ]
  },
  {
   "cell_type": "markdown",
   "metadata": {},
   "source": [
    "___"
   ]
  },
  {
   "cell_type": "markdown",
   "metadata": {},
   "source": [
    "## Metrics"
   ]
  },
  {
   "cell_type": "code",
   "execution_count": 8,
   "metadata": {},
   "outputs": [],
   "source": [
    "from metrics import calc_accuracy\n",
    "from torch.utils.data import DataLoader\n",
    "from matplotlib import pyplot as plt"
   ]
  },
  {
   "cell_type": "markdown",
   "metadata": {},
   "source": [
    "### L2 Norm\n",
    "\n",
    "Compare how the different models are from each other using the L2 Norm, comparing every parameter with each other"
   ]
  },
  {
   "cell_type": "code",
   "execution_count": 9,
   "metadata": {},
   "outputs": [],
   "source": [
    "from metrics import model_l2_norm_difference, calc_mutlimodel_metric_average"
   ]
  },
  {
   "cell_type": "markdown",
   "metadata": {},
   "source": [
    "We can luckily cut down on some calculations, since the **L2-Norm** is symmetrical\n",
    "\n",
    "#### Unlearn to ..."
   ]
  },
  {
   "cell_type": "code",
   "execution_count": null,
   "metadata": {},
   "outputs": [],
   "source": [
    "# ...trained model\n",
    "a11 = calc_mutlimodel_metric_average(untrained_model, trained_ms, metric=\"l2_norm\")\n",
    "a11"
   ]
  },
  {
   "cell_type": "code",
   "execution_count": null,
   "metadata": {},
   "outputs": [],
   "source": [
    "# ...exact model\n",
    "a12 = calc_mutlimodel_metric_average(untrained_ms, exact_ms, metric=\"l2_norm\")\n",
    "a12"
   ]
  },
  {
   "cell_type": "markdown",
   "metadata": {},
   "source": [
    "#### Trained to ..."
   ]
  },
  {
   "cell_type": "code",
   "execution_count": null,
   "metadata": {},
   "outputs": [],
   "source": [
    "# ...untrained model\n",
    "a21 = calc_mutlimodel_metric_average(trained_ms, exact_ms, metric=\"l2_norm\")\n",
    "a21"
   ]
  },
  {
   "cell_type": "markdown",
   "metadata": {},
   "source": [
    "#### Exact to ..."
   ]
  },
  {
   "cell_type": "code",
   "execution_count": null,
   "metadata": {},
   "outputs": [],
   "source": [
    "# see above"
   ]
  },
  {
   "cell_type": "markdown",
   "metadata": {},
   "source": [
    "### KL-Divergence\n",
    "\n",
    "Used to compare the difference between distribution, but may also be used to compare models by their predicted target distributions."
   ]
  },
  {
   "cell_type": "code",
   "execution_count": 10,
   "metadata": {},
   "outputs": [],
   "source": [
    "from metrics import kl_divergence_between_models\n",
    "from torch.utils.data import DataLoader\n",
    "dataloader = DataLoader(\n",
    "    dataset=data,\n",
    "    batch_size=8,\n",
    "    shuffle=False,\n",
    ")"
   ]
  },
  {
   "cell_type": "markdown",
   "metadata": {},
   "source": [
    "#### Unlearned to..."
   ]
  },
  {
   "cell_type": "code",
   "execution_count": 13,
   "metadata": {},
   "outputs": [
    {
     "ename": "IndexError",
     "evalue": "Dimension out of range (expected to be in range of [-1, 0], but got 1)",
     "output_type": "error",
     "traceback": [
      "\u001b[1;31m---------------------------------------------------------------------------\u001b[0m",
      "\u001b[1;31mIndexError\u001b[0m                                Traceback (most recent call last)",
      "Cell \u001b[1;32mIn[13], line 1\u001b[0m\n\u001b[1;32m----> 1\u001b[0m \u001b[43mkl_divergence_between_models\u001b[49m\u001b[43m(\u001b[49m\u001b[43mtrained_showcase_all\u001b[49m\u001b[43m[\u001b[49m\u001b[38;5;241;43m0\u001b[39;49m\u001b[43m]\u001b[49m\u001b[43m,\u001b[49m\u001b[43m \u001b[49m\u001b[43mtrained_showcase_except\u001b[49m\u001b[43m[\u001b[49m\u001b[38;5;241;43m0\u001b[39;49m\u001b[43m]\u001b[49m\u001b[43m,\u001b[49m\u001b[43m \u001b[49m\u001b[43mdata_loader\u001b[49m\u001b[38;5;241;43m=\u001b[39;49m\u001b[43mdata\u001b[49m\u001b[43m)\u001b[49m\n",
      "File \u001b[1;32mc:\\Users\\morit\\OneDrive\\Dokumente\\BachelorArbeit\\Repo\\study_on_unlearning\\notebooks\\..\\src\\metrics.py:133\u001b[0m, in \u001b[0;36mkl_divergence_between_models\u001b[1;34m(model1, model2, data_loader, device)\u001b[0m\n\u001b[0;32m    130\u001b[0m inputs \u001b[38;5;241m=\u001b[39m inputs\u001b[38;5;241m.\u001b[39mto(device)\n\u001b[0;32m    132\u001b[0m \u001b[38;5;66;03m# Get prediction logits from both models\u001b[39;00m\n\u001b[1;32m--> 133\u001b[0m probs1 \u001b[38;5;241m=\u001b[39m \u001b[43mmodel1\u001b[49m\u001b[43m(\u001b[49m\u001b[43minputs\u001b[49m\u001b[43m)\u001b[49m\n\u001b[0;32m    134\u001b[0m probs2 \u001b[38;5;241m=\u001b[39m model2(inputs)\n\u001b[0;32m    136\u001b[0m \u001b[38;5;66;03m# Calculate the KL divergence for each sample and sum up\u001b[39;00m\n",
      "File \u001b[1;32mc:\\Users\\morit\\miniconda3\\envs\\bach.conda\\Lib\\site-packages\\torch\\nn\\modules\\module.py:1553\u001b[0m, in \u001b[0;36mModule._wrapped_call_impl\u001b[1;34m(self, *args, **kwargs)\u001b[0m\n\u001b[0;32m   1551\u001b[0m     \u001b[38;5;28;01mreturn\u001b[39;00m \u001b[38;5;28mself\u001b[39m\u001b[38;5;241m.\u001b[39m_compiled_call_impl(\u001b[38;5;241m*\u001b[39margs, \u001b[38;5;241m*\u001b[39m\u001b[38;5;241m*\u001b[39mkwargs)  \u001b[38;5;66;03m# type: ignore[misc]\u001b[39;00m\n\u001b[0;32m   1552\u001b[0m \u001b[38;5;28;01melse\u001b[39;00m:\n\u001b[1;32m-> 1553\u001b[0m     \u001b[38;5;28;01mreturn\u001b[39;00m \u001b[38;5;28;43mself\u001b[39;49m\u001b[38;5;241;43m.\u001b[39;49m\u001b[43m_call_impl\u001b[49m\u001b[43m(\u001b[49m\u001b[38;5;241;43m*\u001b[39;49m\u001b[43margs\u001b[49m\u001b[43m,\u001b[49m\u001b[43m \u001b[49m\u001b[38;5;241;43m*\u001b[39;49m\u001b[38;5;241;43m*\u001b[39;49m\u001b[43mkwargs\u001b[49m\u001b[43m)\u001b[49m\n",
      "File \u001b[1;32mc:\\Users\\morit\\miniconda3\\envs\\bach.conda\\Lib\\site-packages\\torch\\nn\\modules\\module.py:1562\u001b[0m, in \u001b[0;36mModule._call_impl\u001b[1;34m(self, *args, **kwargs)\u001b[0m\n\u001b[0;32m   1557\u001b[0m \u001b[38;5;66;03m# If we don't have any hooks, we want to skip the rest of the logic in\u001b[39;00m\n\u001b[0;32m   1558\u001b[0m \u001b[38;5;66;03m# this function, and just call forward.\u001b[39;00m\n\u001b[0;32m   1559\u001b[0m \u001b[38;5;28;01mif\u001b[39;00m \u001b[38;5;129;01mnot\u001b[39;00m (\u001b[38;5;28mself\u001b[39m\u001b[38;5;241m.\u001b[39m_backward_hooks \u001b[38;5;129;01mor\u001b[39;00m \u001b[38;5;28mself\u001b[39m\u001b[38;5;241m.\u001b[39m_backward_pre_hooks \u001b[38;5;129;01mor\u001b[39;00m \u001b[38;5;28mself\u001b[39m\u001b[38;5;241m.\u001b[39m_forward_hooks \u001b[38;5;129;01mor\u001b[39;00m \u001b[38;5;28mself\u001b[39m\u001b[38;5;241m.\u001b[39m_forward_pre_hooks\n\u001b[0;32m   1560\u001b[0m         \u001b[38;5;129;01mor\u001b[39;00m _global_backward_pre_hooks \u001b[38;5;129;01mor\u001b[39;00m _global_backward_hooks\n\u001b[0;32m   1561\u001b[0m         \u001b[38;5;129;01mor\u001b[39;00m _global_forward_hooks \u001b[38;5;129;01mor\u001b[39;00m _global_forward_pre_hooks):\n\u001b[1;32m-> 1562\u001b[0m     \u001b[38;5;28;01mreturn\u001b[39;00m \u001b[43mforward_call\u001b[49m\u001b[43m(\u001b[49m\u001b[38;5;241;43m*\u001b[39;49m\u001b[43margs\u001b[49m\u001b[43m,\u001b[49m\u001b[43m \u001b[49m\u001b[38;5;241;43m*\u001b[39;49m\u001b[38;5;241;43m*\u001b[39;49m\u001b[43mkwargs\u001b[49m\u001b[43m)\u001b[49m\n\u001b[0;32m   1564\u001b[0m \u001b[38;5;28;01mtry\u001b[39;00m:\n\u001b[0;32m   1565\u001b[0m     result \u001b[38;5;241m=\u001b[39m \u001b[38;5;28;01mNone\u001b[39;00m\n",
      "File \u001b[1;32mc:\\Users\\morit\\OneDrive\\Dokumente\\BachelorArbeit\\Repo\\study_on_unlearning\\notebooks\\..\\src\\mlp_dataclass.py:33\u001b[0m, in \u001b[0;36mTwoLayerPerceptron.forward\u001b[1;34m(self, x)\u001b[0m\n\u001b[0;32m     31\u001b[0m x \u001b[38;5;241m=\u001b[39m torch\u001b[38;5;241m.\u001b[39mrelu(x)\n\u001b[0;32m     32\u001b[0m x \u001b[38;5;241m=\u001b[39m \u001b[38;5;28mself\u001b[39m\u001b[38;5;241m.\u001b[39mfc3(x)\n\u001b[1;32m---> 33\u001b[0m x \u001b[38;5;241m=\u001b[39m \u001b[43mtorch\u001b[49m\u001b[38;5;241;43m.\u001b[39;49m\u001b[43mlog_softmax\u001b[49m\u001b[43m(\u001b[49m\u001b[43mx\u001b[49m\u001b[43m,\u001b[49m\u001b[43m \u001b[49m\u001b[43mdim\u001b[49m\u001b[38;5;241;43m=\u001b[39;49m\u001b[38;5;241;43m1\u001b[39;49m\u001b[43m)\u001b[49m\n\u001b[0;32m     34\u001b[0m \u001b[38;5;28;01mreturn\u001b[39;00m x\n",
      "\u001b[1;31mIndexError\u001b[0m: Dimension out of range (expected to be in range of [-1, 0], but got 1)"
     ]
    }
   ],
   "source": [
    "kl_divergence_between_models(trained_showcase_all[0], trained_showcase_except[0], data_loader=data)"
   ]
  },
  {
   "cell_type": "code",
   "execution_count": null,
   "metadata": {},
   "outputs": [],
   "source": []
  },
  {
   "cell_type": "markdown",
   "metadata": {},
   "source": [
    "#### Trained to..."
   ]
  },
  {
   "cell_type": "code",
   "execution_count": null,
   "metadata": {},
   "outputs": [],
   "source": []
  },
  {
   "cell_type": "code",
   "execution_count": null,
   "metadata": {},
   "outputs": [],
   "source": []
  },
  {
   "cell_type": "markdown",
   "metadata": {},
   "source": [
    "#### Exact to..."
   ]
  },
  {
   "cell_type": "code",
   "execution_count": null,
   "metadata": {},
   "outputs": [],
   "source": []
  },
  {
   "cell_type": "code",
   "execution_count": null,
   "metadata": {},
   "outputs": [],
   "source": []
  },
  {
   "cell_type": "markdown",
   "metadata": {},
   "source": [
    "### Accuracy\n",
    "\n",
    "- $D_{Gesamt}$\n",
    "- $D_{Erased}$\n",
    "- $D_{Remain}$\n",
    "- $D_{Accuracy Per Class}$"
   ]
  },
  {
   "cell_type": "code",
   "execution_count": 23,
   "metadata": {},
   "outputs": [],
   "source": [
    "from visualize import boxplotting_multimodel_eval"
   ]
  },
  {
   "cell_type": "markdown",
   "metadata": {},
   "source": [
    "Now, let us see what metrics each model has"
   ]
  },
  {
   "cell_type": "code",
   "execution_count": 24,
   "metadata": {},
   "outputs": [],
   "source": [
    "# Macht vllt ned so viel Sinn, fand i nur witzig\n",
    "# boxplotting_multimodel_eval"
   ]
  },
  {
   "cell_type": "code",
   "execution_count": null,
   "metadata": {},
   "outputs": [
    {
     "name": "stdout",
     "output_type": "stream",
     "text": [
      "Starts evaluation for 'mnist'...\n"
     ]
    },
    {
     "name": "stderr",
     "output_type": "stream",
     "text": [
      "                                                                            \r"
     ]
    },
    {
     "name": "stdout",
     "output_type": "stream",
     "text": [
      "Average Accuracy for D_gesamt: 0.8712 - Standard Deviation for D_gesamt: 0.0005\n"
     ]
    },
    {
     "name": "stderr",
     "output_type": "stream",
     "text": [
      "                                                                          \r"
     ]
    },
    {
     "name": "stdout",
     "output_type": "stream",
     "text": [
      "Average Accuracy for D_erased: 0.5148 - Standard Deviation for D_erased: 0.0098\n"
     ]
    },
    {
     "name": "stderr",
     "output_type": "stream",
     "text": [
      "                                                                            \r"
     ]
    },
    {
     "name": "stdout",
     "output_type": "stream",
     "text": [
      "Average Accuracy for D_remain: 0.8763 - Standard Deviation for D_remain: 0.0005\n"
     ]
    },
    {
     "name": "stderr",
     "output_type": "stream",
     "text": [
      "                                                                          \r"
     ]
    },
    {
     "name": "stdout",
     "output_type": "stream",
     "text": [
      "Average Accuracy for 0: 0.9666 - Standard Deviation for 0: 0.0008\n"
     ]
    },
    {
     "name": "stderr",
     "output_type": "stream",
     "text": [
      "                                                                          \r"
     ]
    },
    {
     "name": "stdout",
     "output_type": "stream",
     "text": [
      "Average Accuracy for 1: 0.9217 - Standard Deviation for 1: 0.0015\n"
     ]
    },
    {
     "name": "stderr",
     "output_type": "stream",
     "text": [
      "                                                                          \r"
     ]
    },
    {
     "name": "stdout",
     "output_type": "stream",
     "text": [
      "Average Accuracy for 2: 0.7824 - Standard Deviation for 2: 0.0035\n"
     ]
    },
    {
     "name": "stderr",
     "output_type": "stream",
     "text": [
      "                                                                          \r"
     ]
    },
    {
     "name": "stdout",
     "output_type": "stream",
     "text": [
      "Average Accuracy for 3: 0.8770 - Standard Deviation for 3: 0.0022\n"
     ]
    },
    {
     "name": "stderr",
     "output_type": "stream",
     "text": [
      "                                                                          \r"
     ]
    },
    {
     "name": "stdout",
     "output_type": "stream",
     "text": [
      "Average Accuracy for 4: 0.8895 - Standard Deviation for 4: 0.0019\n"
     ]
    },
    {
     "name": "stderr",
     "output_type": "stream",
     "text": [
      "                                                                          \r"
     ]
    },
    {
     "name": "stdout",
     "output_type": "stream",
     "text": [
      "Average Accuracy for 5: 0.7951 - Standard Deviation for 5: 0.0031\n"
     ]
    },
    {
     "name": "stderr",
     "output_type": "stream",
     "text": [
      "                                                                          \r"
     ]
    },
    {
     "name": "stdout",
     "output_type": "stream",
     "text": [
      "Average Accuracy for 6: 0.8946 - Standard Deviation for 6: 0.0019\n"
     ]
    },
    {
     "name": "stderr",
     "output_type": "stream",
     "text": [
      "                                                                          \r"
     ]
    },
    {
     "name": "stdout",
     "output_type": "stream",
     "text": [
      "Average Accuracy for 8: 0.8602 - Standard Deviation for 8: 0.0026\n"
     ]
    },
    {
     "name": "stderr",
     "output_type": "stream",
     "text": [
      "                                                                          \r"
     ]
    },
    {
     "name": "stdout",
     "output_type": "stream",
     "text": [
      "Average Accuracy for 9: 0.8223 - Standard Deviation for 9: 0.0022\n"
     ]
    },
    {
     "name": "stderr",
     "output_type": "stream",
     "text": [
      "                                                                          \r"
     ]
    },
    {
     "name": "stdout",
     "output_type": "stream",
     "text": [
      "Average Accuracy for 7_all: 0.8896 - Standard Deviation for 7_all: 0.0017\n"
     ]
    },
    {
     "name": "stderr",
     "output_type": "stream",
     "text": [
      "                                                                          \r"
     ]
    },
    {
     "name": "stdout",
     "output_type": "stream",
     "text": [
      "Average Accuracy for 7_remain: 0.9485 - Standard Deviation for 7_remain: 0.0011\n"
     ]
    },
    {
     "name": "stderr",
     "output_type": "stream",
     "text": [
      "                                                                          \r"
     ]
    },
    {
     "name": "stdout",
     "output_type": "stream",
     "text": [
      "Average Accuracy for 7_erased: 0.5148 - Standard Deviation for 7_erased: 0.0098\n",
      "plotting...\n"
     ]
    },
    {
     "data": {
      "image/png": "[encoded data removed]",
      "text/plain": [
       "<Figure size 1000x600 with 1 Axes>"
      ]
     },
     "metadata": {},
     "output_type": "display_data"
    },
    {
     "data": {
      "text/plain": [
       "{'D_gesamt': [0.8715857142857143,\n",
       "  0.8711285714285715,\n",
       "  0.8715285714285714,\n",
       "  0.8713428571428572,\n",
       "  0.8707714285714285,\n",
       "  0.8713,\n",
       "  0.8713571428571428,\n",
       "  0.8716714285714285,\n",
       "  0.8714428571428572,\n",
       "  0.8706857142857143,\n",
       "  0.8705,\n",
       "  0.8707714285714285,\n",
       "  0.8726428571428572,\n",
       "  0.8709571428571429,\n",
       "  0.8719857142857143,\n",
       "  0.8707428571428572,\n",
       "  0.8700142857142857,\n",
       "  0.8714571428571428,\n",
       "  0.8715,\n",
       "  0.8702142857142857,\n",
       "  0.8715857142857143,\n",
       "  0.8716285714285714,\n",
       "  0.8702285714285715,\n",
       "  0.8714571428571428,\n",
       "  0.8714571428571428,\n",
       "  0.8711142857142857,\n",
       "  0.8715142857142857,\n",
       "  0.8711142857142857,\n",
       "  0.8711714285714286,\n",
       "  0.8716857142857143],\n",
       " 'D_erased': [0.5237134207870837,\n",
       "  0.5237134207870837,\n",
       "  0.5065590312815338,\n",
       "  0.5126135216952573,\n",
       "  0.5035317860746721,\n",
       "  0.5005045408678103,\n",
       "  0.5287588294651867,\n",
       "  0.5105953582240161,\n",
       "  0.520686175580222,\n",
       "  0.5166498486377397,\n",
       "  0.5267406659939455,\n",
       "  0.515640766902119,\n",
       "  0.515640766902119,\n",
       "  0.5105953582240161,\n",
       "  0.5257315842583249,\n",
       "  0.5166498486377397,\n",
       "  0.4883955600403633,\n",
       "  0.515640766902119,\n",
       "  0.5075681130171544,\n",
       "  0.5095862764883956,\n",
       "  0.5095862764883956,\n",
       "  0.520686175580222,\n",
       "  0.5105953582240161,\n",
       "  0.5065590312815338,\n",
       "  0.5257315842583249,\n",
       "  0.5166498486377397,\n",
       "  0.5247225025227044,\n",
       "  0.5166498486377397,\n",
       "  0.49949545913218973,\n",
       "  0.5348133198789102],\n",
       " 'D_remain': [0.8765813154805895,\n",
       "  0.8761176078482517,\n",
       "  0.8767696967062267,\n",
       "  0.8764943702995261,\n",
       "  0.8760451535306989,\n",
       "  0.8766247880711212,\n",
       "  0.8762770073468678,\n",
       "  0.8768566418872901,\n",
       "  0.8764798794360156,\n",
       "  0.8757698271239983,\n",
       "  0.8754365372632555,\n",
       "  0.8758712631685722,\n",
       "  0.8777695662884551,\n",
       "  0.8761320987117622,\n",
       "  0.876958077931864,\n",
       "  0.8758277905780405,\n",
       "  0.8754945007172977,\n",
       "  0.8765668246170789,\n",
       "  0.876726224115695,\n",
       "  0.8753930646727238,\n",
       "  0.8767841875697373,\n",
       "  0.8766682606616528,\n",
       "  0.8753930646727238,\n",
       "  0.876697242388674,\n",
       "  0.8764219159819734,\n",
       "  0.876204553029315,\n",
       "  0.8764943702995261,\n",
       "  0.876204553029315,\n",
       "  0.8765088611630367,\n",
       "  0.8765233520265473],\n",
       " '0': [0.9655222367086774,\n",
       "  0.9665362885701869,\n",
       "  0.9663914240185426,\n",
       "  0.9656671012603216,\n",
       "  0.9663914240185426,\n",
       "  0.9669708822251195,\n",
       "  0.9655222367086774,\n",
       "  0.9678400695349848,\n",
       "  0.9672606113284079,\n",
       "  0.9665362885701869,\n",
       "  0.96595683036361,\n",
       "  0.9661016949152542,\n",
       "  0.9676952049833406,\n",
       "  0.9662465594668984,\n",
       "  0.967984934086629,\n",
       "  0.967984934086629,\n",
       "  0.9663914240185426,\n",
       "  0.9662465594668984,\n",
       "  0.9663914240185426,\n",
       "  0.9658119658119658,\n",
       "  0.967984934086629,\n",
       "  0.9658119658119658,\n",
       "  0.9669708822251195,\n",
       "  0.9661016949152542,\n",
       "  0.9665362885701869,\n",
       "  0.9649427785021005,\n",
       "  0.96595683036361,\n",
       "  0.9678400695349848,\n",
       "  0.9669708822251195,\n",
       "  0.9674054758800521],\n",
       " '1': [0.9224323981211121,\n",
       "  0.9191316491049892,\n",
       "  0.922940205662054,\n",
       "  0.9242097245144091,\n",
       "  0.9226863018915831,\n",
       "  0.9192586009902247,\n",
       "  0.9202742160721087,\n",
       "  0.9193855528754602,\n",
       "  0.9200203123016377,\n",
       "  0.9196394566459312,\n",
       "  0.9220515424654057,\n",
       "  0.9226863018915831,\n",
       "  0.9225593500063476,\n",
       "  0.9206550717278151,\n",
       "  0.9242097245144091,\n",
       "  0.9220515424654057,\n",
       "  0.9207820236130506,\n",
       "  0.923701916973467,\n",
       "  0.9212898311539927,\n",
       "  0.9221784943506411,\n",
       "  0.9231941094325251,\n",
       "  0.9209089754982861,\n",
       "  0.9202742160721087,\n",
       "  0.9220515424654057,\n",
       "  0.9231941094325251,\n",
       "  0.923701916973467,\n",
       "  0.9223054462358766,\n",
       "  0.9205281198425797,\n",
       "  0.9231941094325251,\n",
       "  0.9209089754982861],\n",
       " '2': [0.7849785407725322,\n",
       "  0.7793991416309013,\n",
       "  0.7829756795422032,\n",
       "  0.7804005722460658,\n",
       "  0.7849785407725322,\n",
       "  0.7849785407725322,\n",
       "  0.786409155937053,\n",
       "  0.7886981402002862,\n",
       "  0.7829756795422032,\n",
       "  0.7824034334763948,\n",
       "  0.776824034334764,\n",
       "  0.7766809728183118,\n",
       "  0.7881258941344779,\n",
       "  0.776824034334764,\n",
       "  0.7814020028612303,\n",
       "  0.7795422031473533,\n",
       "  0.7838340486409155,\n",
       "  0.7829756795422032,\n",
       "  0.7841201716738198,\n",
       "  0.776967095851216,\n",
       "  0.7874105865522174,\n",
       "  0.7871244635193133,\n",
       "  0.7775393419170243,\n",
       "  0.7866952789699571,\n",
       "  0.7844062947067239,\n",
       "  0.7795422031473533,\n",
       "  0.7828326180257511,\n",
       "  0.7804005722460658,\n",
       "  0.780829756795422,\n",
       "  0.7805436337625179],\n",
       " '3': [0.8745273771180507,\n",
       "  0.8777482145357793,\n",
       "  0.8728469402044532,\n",
       "  0.8748074499369836,\n",
       "  0.8759277412127153,\n",
       "  0.8728469402044532,\n",
       "  0.8757877048032489,\n",
       "  0.8799887970872426,\n",
       "  0.8790085422209775,\n",
       "  0.8757877048032489,\n",
       "  0.8763478504411147,\n",
       "  0.8778882509452458,\n",
       "  0.8773281053073799,\n",
       "  0.8777482145357793,\n",
       "  0.880688979134575,\n",
       "  0.8776081781263129,\n",
       "  0.8756476683937824,\n",
       "  0.8787284694020445,\n",
       "  0.8748074499369836,\n",
       "  0.8791485786304439,\n",
       "  0.877048032488447,\n",
       "  0.8760677776221818,\n",
       "  0.875227559165383,\n",
       "  0.8820893432292396,\n",
       "  0.8784483965831116,\n",
       "  0.8757877048032489,\n",
       "  0.8778882509452458,\n",
       "  0.8736871586612519,\n",
       "  0.878588432992578,\n",
       "  0.878868505811511],\n",
       " '4': [0.8909730363423212,\n",
       "  0.8881887456037515,\n",
       "  0.8889214536928488,\n",
       "  0.8890679953106683,\n",
       "  0.886430246189918,\n",
       "  0.8908264947245017,\n",
       "  0.8889214536928488,\n",
       "  0.8922919109026963,\n",
       "  0.8906799531066822,\n",
       "  0.889947245017585,\n",
       "  0.8846717467760844,\n",
       "  0.8889214536928488,\n",
       "  0.8889214536928488,\n",
       "  0.888042203985932,\n",
       "  0.8892145369284877,\n",
       "  0.8921453692848769,\n",
       "  0.8909730363423212,\n",
       "  0.8886283704572099,\n",
       "  0.8947831184056272,\n",
       "  0.8909730363423212,\n",
       "  0.8881887456037515,\n",
       "  0.8886283704572099,\n",
       "  0.8896541617819461,\n",
       "  0.8876025791324736,\n",
       "  0.8898007033997656,\n",
       "  0.8878956623681126,\n",
       "  0.8874560375146542,\n",
       "  0.8900937866354045,\n",
       "  0.8903868698710434,\n",
       "  0.8908264947245017],\n",
       " '5': [0.799144622208142,\n",
       "  0.7961349596071599,\n",
       "  0.7985110090289878,\n",
       "  0.7894820212260415,\n",
       "  0.7953429431332172,\n",
       "  0.7959765563123713,\n",
       "  0.7936005068905433,\n",
       "  0.7891652146364644,\n",
       "  0.7961349596071599,\n",
       "  0.7951845398384286,\n",
       "  0.794075716774909,\n",
       "  0.7966101694915254,\n",
       "  0.7986694123237763,\n",
       "  0.7988278156185649,\n",
       "  0.7928084904166006,\n",
       "  0.7934421035957548,\n",
       "  0.7928084904166006,\n",
       "  0.7901156344051956,\n",
       "  0.7962933629019484,\n",
       "  0.791699667353081,\n",
       "  0.7934421035957548,\n",
       "  0.797085379375891,\n",
       "  0.7993030255029304,\n",
       "  0.7936005068905433,\n",
       "  0.7929668937113892,\n",
       "  0.8008870584508158,\n",
       "  0.7948677332488516,\n",
       "  0.8008870584508158,\n",
       "  0.7945509266592745,\n",
       "  0.7913828607635038],\n",
       " '6': [0.8922338568935427,\n",
       "  0.8951425247236765,\n",
       "  0.8944153577661431,\n",
       "  0.900087260034904,\n",
       "  0.8944153577661431,\n",
       "  0.8944153577661431,\n",
       "  0.8951425247236765,\n",
       "  0.8925247236765561,\n",
       "  0.8979057591623036,\n",
       "  0.8928155904595695,\n",
       "  0.8960151250727167,\n",
       "  0.89586969168121,\n",
       "  0.8945607911576497,\n",
       "  0.8951425247236765,\n",
       "  0.8944153577661431,\n",
       "  0.893542757417103,\n",
       "  0.8938336242001164,\n",
       "  0.8945607911576497,\n",
       "  0.8923792902850495,\n",
       "  0.893542757417103,\n",
       "  0.8951425247236765,\n",
       "  0.8965968586387435,\n",
       "  0.8900523560209425,\n",
       "  0.891215823152996,\n",
       "  0.8949970913321699,\n",
       "  0.8963059918557301,\n",
       "  0.8933973240255962,\n",
       "  0.8948516579406631,\n",
       "  0.8963059918557301,\n",
       "  0.8964514252472368],\n",
       " '8': [0.8608058608058609,\n",
       "  0.8615384615384616,\n",
       "  0.8632967032967033,\n",
       "  0.8596336996336996,\n",
       "  0.8605128205128205,\n",
       "  0.8628571428571429,\n",
       "  0.8625641025641025,\n",
       "  0.8606593406593407,\n",
       "  0.8587545787545787,\n",
       "  0.8597802197802198,\n",
       "  0.8624175824175824,\n",
       "  0.8612454212454212,\n",
       "  0.8606593406593407,\n",
       "  0.8615384615384616,\n",
       "  0.8610989010989011,\n",
       "  0.8583150183150183,\n",
       "  0.8531868131868132,\n",
       "  0.8656410256410256,\n",
       "  0.8606593406593407,\n",
       "  0.8586080586080586,\n",
       "  0.8609523809523809,\n",
       "  0.8596336996336996,\n",
       "  0.8609523809523809,\n",
       "  0.8590476190476191,\n",
       "  0.8561172161172161,\n",
       "  0.8578754578754578,\n",
       "  0.8638827838827838,\n",
       "  0.8558241758241758,\n",
       "  0.8562637362637363,\n",
       "  0.8612454212454212],\n",
       " '9': [0.8210692727795343,\n",
       "  0.8249496981891348,\n",
       "  0.8235125035929864,\n",
       "  0.8272492095429721,\n",
       "  0.8197757976430009,\n",
       "  0.823943661971831,\n",
       "  0.8215004311583789,\n",
       "  0.8245185398102903,\n",
       "  0.8203506754814602,\n",
       "  0.8217878700776086,\n",
       "  0.821356711698764,\n",
       "  0.8184823225064674,\n",
       "  0.8252371371083644,\n",
       "  0.8232250646737568,\n",
       "  0.8233687841333717,\n",
       "  0.819632078183386,\n",
       "  0.8229376257545271,\n",
       "  0.8212129922391492,\n",
       "  0.820494394941075,\n",
       "  0.821356711698764,\n",
       "  0.8190572003449267,\n",
       "  0.8216441506179937,\n",
       "  0.8207818338603047,\n",
       "  0.8258120149468238,\n",
       "  0.8240873814314458,\n",
       "  0.8199195171026157,\n",
       "  0.8210692727795343,\n",
       "  0.8250934176487497,\n",
       "  0.8249496981891348,\n",
       "  0.8215004311583789],\n",
       " '7_all': [0.8912655971479501,\n",
       "  0.8897573015220074,\n",
       "  0.8886603592485945,\n",
       "  0.8889345948169478,\n",
       "  0.8879747703277115,\n",
       "  0.8883861236802413,\n",
       "  0.8907171260112436,\n",
       "  0.8882490058960647,\n",
       "  0.888523241464418,\n",
       "  0.8900315370903606,\n",
       "  0.8918140682846565,\n",
       "  0.8900315370903606,\n",
       "  0.8897573015220074,\n",
       "  0.8886603592485945,\n",
       "  0.8908542437954202,\n",
       "  0.8897573015220074,\n",
       "  0.8864664747017689,\n",
       "  0.8889345948169478,\n",
       "  0.8908542437954202,\n",
       "  0.8882490058960647,\n",
       "  0.889894419306184,\n",
       "  0.889894419306184,\n",
       "  0.8889345948169478,\n",
       "  0.8868778280542986,\n",
       "  0.8903057726587138,\n",
       "  0.8912655971479501,\n",
       "  0.8920883038530097,\n",
       "  0.8894830659536542,\n",
       "  0.8863293569175922,\n",
       "  0.8941450706156588],\n",
       " '7_remain': [0.9490637892732466,\n",
       "  0.9473183116470961,\n",
       "  0.9487464297048556,\n",
       "  0.9481117105680736,\n",
       "  0.9484290701364646,\n",
       "  0.9493811488416376,\n",
       "  0.9476356712154872,\n",
       "  0.9476356712154872,\n",
       "  0.9463662329419232,\n",
       "  0.9487464297048556,\n",
       "  0.9492224690574421,\n",
       "  0.948905109489051,\n",
       "  0.9485877499206601,\n",
       "  0.9481117105680736,\n",
       "  0.9482703903522691,\n",
       "  0.9484290701364646,\n",
       "  0.9490637892732466,\n",
       "  0.9476356712154872,\n",
       "  0.951126626467788,\n",
       "  0.9477943509996827,\n",
       "  0.9496985084100286,\n",
       "  0.9479530307838782,\n",
       "  0.9484290701364646,\n",
       "  0.9466835925103142,\n",
       "  0.9476356712154872,\n",
       "  0.950174547762615,\n",
       "  0.949857188194224,\n",
       "  0.9481117105680736,\n",
       "  0.9471596318629006,\n",
       "  0.9506505871152016],\n",
       " '7_erased': [0.5237134207870837,\n",
       "  0.5237134207870837,\n",
       "  0.5065590312815338,\n",
       "  0.5126135216952573,\n",
       "  0.5035317860746721,\n",
       "  0.5005045408678103,\n",
       "  0.5287588294651867,\n",
       "  0.5105953582240161,\n",
       "  0.520686175580222,\n",
       "  0.5166498486377397,\n",
       "  0.5267406659939455,\n",
       "  0.515640766902119,\n",
       "  0.515640766902119,\n",
       "  0.5105953582240161,\n",
       "  0.5257315842583249,\n",
       "  0.5166498486377397,\n",
       "  0.4883955600403633,\n",
       "  0.515640766902119,\n",
       "  0.5075681130171544,\n",
       "  0.5095862764883956,\n",
       "  0.5095862764883956,\n",
       "  0.520686175580222,\n",
       "  0.5105953582240161,\n",
       "  0.5065590312815338,\n",
       "  0.5257315842583249,\n",
       "  0.5166498486377397,\n",
       "  0.5247225025227044,\n",
       "  0.5166498486377397,\n",
       "  0.49949545913218973,\n",
       "  0.5348133198789102]}"
      ]
     },
     "execution_count": 25,
     "metadata": {},
     "output_type": "execute_result"
    }
   ],
   "source": [
    "# can take like 80minutes\n",
    "boxplotting_multimodel_eval(trained_ms, dataset_name=\"mnist\", evaluation=\"accuracy\", logs=True)"
   ]
  },
  {
   "cell_type": "code",
   "execution_count": null,
   "metadata": {},
   "outputs": [
    {
     "name": "stdout",
     "output_type": "stream",
     "text": [
      "Starts evaluation for 'mnist'...\n"
     ]
    },
    {
     "name": "stderr",
     "output_type": "stream",
     "text": [
      "                                                                            \r"
     ]
    },
    {
     "data": {
      "image/png": "[encoded data removed]",
      "text/plain": [
       "<Figure size 1000x600 with 1 Axes>"
      ]
     },
     "metadata": {},
     "output_type": "display_data"
    },
    {
     "data": {
      "text/plain": [
       "{'D_gesamt': [0.8713428571428572,\n",
       "  0.8710571428571429,\n",
       "  0.8710571428571429,\n",
       "  0.8705428571428572,\n",
       "  0.8723571428571428,\n",
       "  0.8727428571428572,\n",
       "  0.8728428571428571,\n",
       "  0.8709571428571429,\n",
       "  0.8706714285714285,\n",
       "  0.8712142857142857,\n",
       "  0.8721428571428571,\n",
       "  0.8723857142857143,\n",
       "  0.8725142857142857,\n",
       "  0.8711571428571429,\n",
       "  0.8709142857142858,\n",
       "  0.8709,\n",
       "  0.8702857142857143,\n",
       "  0.8698285714285714,\n",
       "  0.8718285714285714,\n",
       "  0.8701714285714286,\n",
       "  0.8713285714285715,\n",
       "  0.8719,\n",
       "  0.8704571428571428,\n",
       "  0.8719714285714286,\n",
       "  0.8705714285714286,\n",
       "  0.8716857142857143,\n",
       "  0.8704571428571428,\n",
       "  0.8724571428571428,\n",
       "  0.8698,\n",
       "  0.8723],\n",
       " 'D_erased': [0.5287588294651867,\n",
       "  0.515640766902119,\n",
       "  0.5257315842583249,\n",
       "  0.5186680121089808,\n",
       "  0.5116044399596368,\n",
       "  0.5176589303733602,\n",
       "  0.5116044399596368,\n",
       "  0.5065590312815338,\n",
       "  0.49848637739656915,\n",
       "  0.5216952573158425,\n",
       "  0.5216952573158425,\n",
       "  0.5267406659939455,\n",
       "  0.5166498486377397,\n",
       "  0.5307769929364279,\n",
       "  0.5025227043390514,\n",
       "  0.5267406659939455,\n",
       "  0.513622603430878,\n",
       "  0.5237134207870837,\n",
       "  0.5166498486377397,\n",
       "  0.5196770938446014,\n",
       "  0.5095862764883956,\n",
       "  0.5095862764883956,\n",
       "  0.5116044399596368,\n",
       "  0.5247225025227044,\n",
       "  0.5166498486377397,\n",
       "  0.5176589303733602,\n",
       "  0.5176589303733602,\n",
       "  0.5287588294651867,\n",
       "  0.508577194752775,\n",
       "  0.5105953582240161],\n",
       " 'D_remain': [0.8762625164833573,\n",
       "  0.8761610804387834,\n",
       "  0.8760161718036777,\n",
       "  0.8755959367618716,\n",
       "  0.8775377124722862,\n",
       "  0.8778420206060079,\n",
       "  0.8780304018316452,\n",
       "  0.8761900621658044,\n",
       "  0.8760161718036777,\n",
       "  0.8762335347563361,\n",
       "  0.8771754408845223,\n",
       "  0.8773493312466489,\n",
       "  0.8776246576533495,\n",
       "  0.8760451535306989,\n",
       "  0.876204553029315,\n",
       "  0.8758422814415511,\n",
       "  0.8754075555362344,\n",
       "  0.874798939268791,\n",
       "  0.8769290962048428,\n",
       "  0.8752046834470866,\n",
       "  0.8765233520265473,\n",
       "  0.8771029865669695,\n",
       "  0.8756104276253822,\n",
       "  0.876958077931864,\n",
       "  0.8756539002159138,\n",
       "  0.8767696967062267,\n",
       "  0.8755234824443189,\n",
       "  0.8773928038371807,\n",
       "  0.8749873204944283,\n",
       "  0.8774942398817546],\n",
       " '0': [0.9666811531218311,\n",
       "  0.9669708822251195,\n",
       "  0.9675503404316964,\n",
       "  0.9658119658119658,\n",
       "  0.96595683036361,\n",
       "  0.9650876430537447,\n",
       "  0.9684195277415616,\n",
       "  0.9666811531218311,\n",
       "  0.9647979139504563,\n",
       "  0.9685643922932059,\n",
       "  0.9661016949152542,\n",
       "  0.9674054758800521,\n",
       "  0.96595683036361,\n",
       "  0.9661016949152542,\n",
       "  0.9669708822251195,\n",
       "  0.9672606113284079,\n",
       "  0.9681297986382732,\n",
       "  0.9684195277415616,\n",
       "  0.9668260176734753,\n",
       "  0.9672606113284079,\n",
       "  0.9663914240185426,\n",
       "  0.9662465594668984,\n",
       "  0.96595683036361,\n",
       "  0.9671157467767637,\n",
       "  0.96595683036361,\n",
       "  0.9665362885701869,\n",
       "  0.9666811531218311,\n",
       "  0.96595683036361,\n",
       "  0.9658119658119658,\n",
       "  0.9678400695349848],\n",
       " '1': [0.9216706868096991,\n",
       "  0.9233210613177606,\n",
       "  0.9198933604164021,\n",
       "  0.9233210613177606,\n",
       "  0.9223054462358766,\n",
       "  0.9215437349244636,\n",
       "  0.9223054462358766,\n",
       "  0.9200203123016377,\n",
       "  0.9221784943506411,\n",
       "  0.9212898311539927,\n",
       "  0.9223054462358766,\n",
       "  0.9234480132029961,\n",
       "  0.9188777453345183,\n",
       "  0.9181160340231053,\n",
       "  0.923955820743938,\n",
       "  0.9225593500063476,\n",
       "  0.9219245905801701,\n",
       "  0.9205281198425797,\n",
       "  0.922940205662054,\n",
       "  0.9217976386949346,\n",
       "  0.9228132537768186,\n",
       "  0.9233210613177606,\n",
       "  0.9206550717278151,\n",
       "  0.9223054462358766,\n",
       "  0.9211628792687572,\n",
       "  0.92446362828488,\n",
       "  0.9212898311539927,\n",
       "  0.9256061952519995,\n",
       "  0.9215437349244636,\n",
       "  0.923701916973467],\n",
       " '2': [0.7828326180257511,\n",
       "  0.7839771101573677,\n",
       "  0.7835479256080115,\n",
       "  0.7825464949928469,\n",
       "  0.7854077253218884,\n",
       "  0.7844062947067239,\n",
       "  0.7869814020028613,\n",
       "  0.7836909871244635,\n",
       "  0.7793991416309013,\n",
       "  0.7818311874105865,\n",
       "  0.7841201716738198,\n",
       "  0.7856938483547926,\n",
       "  0.7874105865522174,\n",
       "  0.7805436337625179,\n",
       "  0.7802575107296137,\n",
       "  0.7809728183118742,\n",
       "  0.7763948497854077,\n",
       "  0.7791130185979971,\n",
       "  0.7859799713876967,\n",
       "  0.776824034334764,\n",
       "  0.7819742489270386,\n",
       "  0.7871244635193133,\n",
       "  0.7792560801144492,\n",
       "  0.7848354792560801,\n",
       "  0.7806866952789699,\n",
       "  0.7818311874105865,\n",
       "  0.7812589413447782,\n",
       "  0.782689556509299,\n",
       "  0.7802575107296137,\n",
       "  0.784549356223176],\n",
       " '3': [0.8784483965831116,\n",
       "  0.87494748634645,\n",
       "  0.8773281053073799,\n",
       "  0.8745273771180507,\n",
       "  0.8771880688979135,\n",
       "  0.8791485786304439,\n",
       "  0.8771880688979135,\n",
       "  0.8762078140316483,\n",
       "  0.873407085842319,\n",
       "  0.8769079960789805,\n",
       "  0.878868505811511,\n",
       "  0.8766279232600476,\n",
       "  0.8771880688979135,\n",
       "  0.8792886150399104,\n",
       "  0.8812491247724409,\n",
       "  0.8755076319843159,\n",
       "  0.8809690519535079,\n",
       "  0.8783083601736451,\n",
       "  0.8790085422209775,\n",
       "  0.8764878868505811,\n",
       "  0.8784483965831116,\n",
       "  0.8783083601736451,\n",
       "  0.8759277412127153,\n",
       "  0.8795686878588433,\n",
       "  0.8769079960789805,\n",
       "  0.8745273771180507,\n",
       "  0.8798487606777762,\n",
       "  0.8781683237641786,\n",
       "  0.8720067217476544,\n",
       "  0.8764878868505811],\n",
       " '4': [0.8871629542790153,\n",
       "  0.8878956623681126,\n",
       "  0.8911195779601406,\n",
       "  0.8877491207502931,\n",
       "  0.8876025791324736,\n",
       "  0.8898007033997656,\n",
       "  0.8896541617819461,\n",
       "  0.8931711606096131,\n",
       "  0.8881887456037515,\n",
       "  0.8884818288393904,\n",
       "  0.8922919109026963,\n",
       "  0.8898007033997656,\n",
       "  0.891559202813599,\n",
       "  0.891559202813599,\n",
       "  0.8887749120750293,\n",
       "  0.8871629542790153,\n",
       "  0.8914126611957796,\n",
       "  0.8849648300117233,\n",
       "  0.8881887456037515,\n",
       "  0.8906799531066822,\n",
       "  0.8900937866354045,\n",
       "  0.8922919109026963,\n",
       "  0.889947245017585,\n",
       "  0.8886283704572099,\n",
       "  0.8905334114888629,\n",
       "  0.8865767878077374,\n",
       "  0.8852579132473622,\n",
       "  0.888335287221571,\n",
       "  0.8892145369284877,\n",
       "  0.8903868698710434],\n",
       " '5': [0.7977189925550452,\n",
       "  0.7959765563123713,\n",
       "  0.7955013464280057,\n",
       "  0.7931252970061777,\n",
       "  0.7999366386820845,\n",
       "  0.8019958815143355,\n",
       "  0.7989862189133534,\n",
       "  0.7945509266592745,\n",
       "  0.7956597497227942,\n",
       "  0.7950261365436401,\n",
       "  0.8015206716299699,\n",
       "  0.7913828607635038,\n",
       "  0.8023126881039125,\n",
       "  0.7958181530175827,\n",
       "  0.7923332805322351,\n",
       "  0.7891652146364644,\n",
       "  0.794075716774909,\n",
       "  0.7921748772374465,\n",
       "  0.7964517661967369,\n",
       "  0.7931252970061777,\n",
       "  0.7962933629019484,\n",
       "  0.7937589101853318,\n",
       "  0.7931252970061777,\n",
       "  0.7972437826706795,\n",
       "  0.7924916838270236,\n",
       "  0.7989862189133534,\n",
       "  0.7905908442895612,\n",
       "  0.7978773958498336,\n",
       "  0.7997782353872961,\n",
       "  0.7961349596071599],\n",
       " '6': [0.8931064572425829,\n",
       "  0.891215823152996,\n",
       "  0.891652123327516,\n",
       "  0.8933973240255962,\n",
       "  0.8948516579406631,\n",
       "  0.8999418266433973,\n",
       "  0.8974694589877836,\n",
       "  0.889325189063409,\n",
       "  0.8951425247236765,\n",
       "  0.8931064572425829,\n",
       "  0.8955788248981966,\n",
       "  0.8971785922047703,\n",
       "  0.8949970913321699,\n",
       "  0.8965968586387435,\n",
       "  0.8932518906340896,\n",
       "  0.8948516579406631,\n",
       "  0.893542757417103,\n",
       "  0.891652123327516,\n",
       "  0.893542757417103,\n",
       "  0.893979057591623,\n",
       "  0.8919429901105294,\n",
       "  0.89586969168121,\n",
       "  0.891215823152996,\n",
       "  0.8951425247236765,\n",
       "  0.8926701570680629,\n",
       "  0.897760325770797,\n",
       "  0.891215823152996,\n",
       "  0.8965968586387435,\n",
       "  0.8897614892379291,\n",
       "  0.8976148923792903],\n",
       " '8': [0.8593406593406593,\n",
       "  0.8567032967032967,\n",
       "  0.8613919413919414,\n",
       "  0.8591941391941392,\n",
       "  0.8613919413919414,\n",
       "  0.8608058608058609,\n",
       "  0.8615384615384616,\n",
       "  0.8603663003663004,\n",
       "  0.8660805860805861,\n",
       "  0.8583150183150183,\n",
       "  0.8536263736263736,\n",
       "  0.8631501831501831,\n",
       "  0.8628571428571429,\n",
       "  0.8584615384615385,\n",
       "  0.8540659340659341,\n",
       "  0.85992673992674,\n",
       "  0.8567032967032967,\n",
       "  0.8589010989010989,\n",
       "  0.8565567765567765,\n",
       "  0.8574358974358974,\n",
       "  0.8581684981684982,\n",
       "  0.8574358974358974,\n",
       "  0.8638827838827838,\n",
       "  0.8602197802197802,\n",
       "  0.8606593406593407,\n",
       "  0.8540659340659341,\n",
       "  0.8578754578754578,\n",
       "  0.8605128205128205,\n",
       "  0.856996336996337,\n",
       "  0.8603663003663004],\n",
       " '9': [0.8217878700776086,\n",
       "  0.8268180511641277,\n",
       "  0.8177637252083932,\n",
       "  0.8226501868352974,\n",
       "  0.8276803679218167,\n",
       "  0.8216441506179937,\n",
       "  0.8236562230526013,\n",
       "  0.82480597872952,\n",
       "  0.8219315895372233,\n",
       "  0.8252371371083644,\n",
       "  0.8240873814314458,\n",
       "  0.8216441506179937,\n",
       "  0.8219315895372233,\n",
       "  0.8200632365622306,\n",
       "  0.826530612244898,\n",
       "  0.8259557344064387,\n",
       "  0.8180511641276229,\n",
       "  0.8197757976430009,\n",
       "  0.8250934176487497,\n",
       "  0.819632078183386,\n",
       "  0.8237999425122161,\n",
       "  0.8223627479160678,\n",
       "  0.8212129922391492,\n",
       "  0.820494394941075,\n",
       "  0.8227939062949123,\n",
       "  0.8276803679218167,\n",
       "  0.8255245760275941,\n",
       "  0.8236562230526013,\n",
       "  0.822219028456453,\n",
       "  0.823943661971831],\n",
       " '7_all': [0.8915398327163033,\n",
       "  0.8893459481694775,\n",
       "  0.8918140682846565,\n",
       "  0.8894830659536542,\n",
       "  0.888523241464418,\n",
       "  0.8905800082270671,\n",
       "  0.8894830659536542,\n",
       "  0.8878376525435349,\n",
       "  0.8870149458384753,\n",
       "  0.8901686548745372,\n",
       "  0.8901686548745372,\n",
       "  0.893733717263129,\n",
       "  0.8900315370903606,\n",
       "  0.8922254216371863,\n",
       "  0.8878376525435349,\n",
       "  0.8916769505004799,\n",
       "  0.8882490058960647,\n",
       "  0.8908542437954202,\n",
       "  0.8903057726587138,\n",
       "  0.8909913615795969,\n",
       "  0.8900315370903606,\n",
       "  0.8887974770327711,\n",
       "  0.8901686548745372,\n",
       "  0.8909913615795969,\n",
       "  0.888523241464418,\n",
       "  0.8911284793637735,\n",
       "  0.8911284793637735,\n",
       "  0.8916769505004799,\n",
       "  0.8877005347593583,\n",
       "  0.8887974770327711],\n",
       " '7_remain': [0.9485877499206601,\n",
       "  0.9481117105680736,\n",
       "  0.9493811488416376,\n",
       "  0.9477943509996827,\n",
       "  0.9477943509996827,\n",
       "  0.9492224690574421,\n",
       "  0.948905109489051,\n",
       "  0.9477943509996827,\n",
       "  0.9481117105680736,\n",
       "  0.9481117105680736,\n",
       "  0.9481117105680736,\n",
       "  0.951443986036179,\n",
       "  0.9487464297048556,\n",
       "  0.9490637892732466,\n",
       "  0.9484290701364646,\n",
       "  0.9490637892732466,\n",
       "  0.9471596318629006,\n",
       "  0.9485877499206601,\n",
       "  0.9490637892732466,\n",
       "  0.9493811488416376,\n",
       "  0.949857188194224,\n",
       "  0.9484290701364646,\n",
       "  0.9496985084100286,\n",
       "  0.9485877499206601,\n",
       "  0.9470009520787052,\n",
       "  0.949857188194224,\n",
       "  0.949857188194224,\n",
       "  0.9487464297048556,\n",
       "  0.9473183116470961,\n",
       "  0.9482703903522691],\n",
       " '7_erased': [0.5287588294651867,\n",
       "  0.515640766902119,\n",
       "  0.5257315842583249,\n",
       "  0.5186680121089808,\n",
       "  0.5116044399596368,\n",
       "  0.5176589303733602,\n",
       "  0.5116044399596368,\n",
       "  0.5065590312815338,\n",
       "  0.49848637739656915,\n",
       "  0.5216952573158425,\n",
       "  0.5216952573158425,\n",
       "  0.5267406659939455,\n",
       "  0.5166498486377397,\n",
       "  0.5307769929364279,\n",
       "  0.5025227043390514,\n",
       "  0.5267406659939455,\n",
       "  0.513622603430878,\n",
       "  0.5237134207870837,\n",
       "  0.5166498486377397,\n",
       "  0.5196770938446014,\n",
       "  0.5095862764883956,\n",
       "  0.5095862764883956,\n",
       "  0.5116044399596368,\n",
       "  0.5247225025227044,\n",
       "  0.5166498486377397,\n",
       "  0.5176589303733602,\n",
       "  0.5176589303733602,\n",
       "  0.5287588294651867,\n",
       "  0.508577194752775,\n",
       "  0.5105953582240161]}"
      ]
     },
     "execution_count": 26,
     "metadata": {},
     "output_type": "execute_result"
    }
   ],
   "source": [
    "# can take like 80minutes\n",
    "boxplotting_multimodel_eval(exact_ms, dataset_name=USED_DATASET, evaluation=\"accuracy\", logs=True)"
   ]
  }
 ],
 "metadata": {
  "kernelspec": {
   "display_name": "bach.conda",
   "language": "python",
   "name": "python3"
  },
  "language_info": {
   "codemirror_mode": {
    "name": "ipython",
    "version": 3
   },
   "file_extension": ".py",
   "mimetype": "text/x-python",
   "name": "python",
   "nbconvert_exporter": "python",
   "pygments_lexer": "ipython3",
   "version": "3.12.5"
  }
 },
 "nbformat": 4,
 "nbformat_minor": 2
}
